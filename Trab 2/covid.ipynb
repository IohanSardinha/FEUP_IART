{
 "cells": [
  {
   "cell_type": "markdown",
   "metadata": {},
   "source": [
    "# Supervised Learning:\n",
    "## COVID, FLU, COLD Symptoms\n",
    "### Project for Artificial Intelligence Class in the Faculty of Engineering of University of Porto\n",
    "The given problem consists of a dataset of symptoms and associated diseases that can be either Covid-19, Flu, Common Cold or Allergy.\n",
    "\n",
    "The goal of the machine learning model is to determine what's the most probable disease an infected person has based on their symptoms.\n",
    "\n",
    "This problem can be interpreted as a classification problem with four classes: Allergy, Covid, Flu and Cold, as well as twenty binary-valued attributes corresponding to the studied symptoms.\n",
    "\n",
    "Due to the nature of the dataset (having only binary values, meaning if a symptom present or not), the methods that are best suited for it and the reasons why are the following: \n",
    "\n",
    "- Decision Trees: It's the most similar method to how a doctor would do a diagnosis\n",
    "\n",
    "- Support Vector Machines: Since we have 20 attributes, this algorithm is adequate to the multidimensional space of our classification problem, using the kernel trick. We will test both One-to-One and One-to-Rest approaches.  \n",
    "\n",
    "- Logistic Regression: A model built to be fit to binary data and commonly used in the medical industry for similar problems\n",
    "###### By: Daniel Garcia Silva, Iohan Sardinha and João Mascarenhas\n",
    "\n",
    "\n",
    "\n",
    "\n",
    "# Importing necessary libraries"
   ]
  },
  {
   "cell_type": "code",
   "execution_count": 1,
   "metadata": {},
   "outputs": [],
   "source": [
    "%matplotlib inline\n",
    "import time\n",
    "import pandas as pd\n",
    "import matplotlib.pyplot  as plt\n",
    "import numpy as np\n",
    "from sklearn.model_selection import train_test_split, StratifiedKFold, cross_val_score, GridSearchCV\n",
    "from sklearn.linear_model import LogisticRegression, LogisticRegressionCV\n",
    "from sklearn.tree import DecisionTreeClassifier\n",
    "from sklearn.metrics import accuracy_score\n",
    "from sklearn import svm\n",
    "from sklearn.metrics import confusion_matrix, classification_report"
   ]
  },
  {
   "cell_type": "markdown",
   "metadata": {},
   "source": [
    "# Loading dataframe"
   ]
  },
  {
   "cell_type": "code",
   "execution_count": 2,
   "metadata": {},
   "outputs": [
    {
     "data": {
      "text/html": [
       "<div>\n",
       "<style scoped>\n",
       "    .dataframe tbody tr th:only-of-type {\n",
       "        vertical-align: middle;\n",
       "    }\n",
       "\n",
       "    .dataframe tbody tr th {\n",
       "        vertical-align: top;\n",
       "    }\n",
       "\n",
       "    .dataframe thead th {\n",
       "        text-align: right;\n",
       "    }\n",
       "</style>\n",
       "<table border=\"1\" class=\"dataframe\">\n",
       "  <thead>\n",
       "    <tr style=\"text-align: right;\">\n",
       "      <th></th>\n",
       "      <th>COUGH</th>\n",
       "      <th>MUSCLE_ACHES</th>\n",
       "      <th>TIREDNESS</th>\n",
       "      <th>SORE_THROAT</th>\n",
       "      <th>RUNNY_NOSE</th>\n",
       "      <th>STUFFY_NOSE</th>\n",
       "      <th>FEVER</th>\n",
       "      <th>NAUSEA</th>\n",
       "      <th>VOMITING</th>\n",
       "      <th>DIARRHEA</th>\n",
       "      <th>...</th>\n",
       "      <th>DIFFICULTY_BREATHING</th>\n",
       "      <th>LOSS_OF_TASTE</th>\n",
       "      <th>LOSS_OF_SMELL</th>\n",
       "      <th>ITCHY_NOSE</th>\n",
       "      <th>ITCHY_EYES</th>\n",
       "      <th>ITCHY_MOUTH</th>\n",
       "      <th>ITCHY_INNER_EAR</th>\n",
       "      <th>SNEEZING</th>\n",
       "      <th>PINK_EYE</th>\n",
       "      <th>TYPE</th>\n",
       "    </tr>\n",
       "  </thead>\n",
       "  <tbody>\n",
       "    <tr>\n",
       "      <th>28336</th>\n",
       "      <td>0</td>\n",
       "      <td>1</td>\n",
       "      <td>1</td>\n",
       "      <td>0</td>\n",
       "      <td>0</td>\n",
       "      <td>0</td>\n",
       "      <td>0</td>\n",
       "      <td>1</td>\n",
       "      <td>1</td>\n",
       "      <td>0</td>\n",
       "      <td>...</td>\n",
       "      <td>0</td>\n",
       "      <td>0</td>\n",
       "      <td>1</td>\n",
       "      <td>0</td>\n",
       "      <td>0</td>\n",
       "      <td>0</td>\n",
       "      <td>0</td>\n",
       "      <td>0</td>\n",
       "      <td>0</td>\n",
       "      <td>FLU</td>\n",
       "    </tr>\n",
       "    <tr>\n",
       "      <th>1951</th>\n",
       "      <td>0</td>\n",
       "      <td>0</td>\n",
       "      <td>1</td>\n",
       "      <td>1</td>\n",
       "      <td>1</td>\n",
       "      <td>1</td>\n",
       "      <td>0</td>\n",
       "      <td>0</td>\n",
       "      <td>0</td>\n",
       "      <td>0</td>\n",
       "      <td>...</td>\n",
       "      <td>0</td>\n",
       "      <td>1</td>\n",
       "      <td>1</td>\n",
       "      <td>1</td>\n",
       "      <td>1</td>\n",
       "      <td>1</td>\n",
       "      <td>1</td>\n",
       "      <td>1</td>\n",
       "      <td>1</td>\n",
       "      <td>ALLERGY</td>\n",
       "    </tr>\n",
       "    <tr>\n",
       "      <th>15903</th>\n",
       "      <td>0</td>\n",
       "      <td>0</td>\n",
       "      <td>0</td>\n",
       "      <td>1</td>\n",
       "      <td>1</td>\n",
       "      <td>1</td>\n",
       "      <td>0</td>\n",
       "      <td>0</td>\n",
       "      <td>0</td>\n",
       "      <td>0</td>\n",
       "      <td>...</td>\n",
       "      <td>0</td>\n",
       "      <td>1</td>\n",
       "      <td>0</td>\n",
       "      <td>0</td>\n",
       "      <td>0</td>\n",
       "      <td>1</td>\n",
       "      <td>0</td>\n",
       "      <td>1</td>\n",
       "      <td>0</td>\n",
       "      <td>ALLERGY</td>\n",
       "    </tr>\n",
       "    <tr>\n",
       "      <th>31347</th>\n",
       "      <td>0</td>\n",
       "      <td>0</td>\n",
       "      <td>1</td>\n",
       "      <td>1</td>\n",
       "      <td>1</td>\n",
       "      <td>0</td>\n",
       "      <td>0</td>\n",
       "      <td>1</td>\n",
       "      <td>1</td>\n",
       "      <td>0</td>\n",
       "      <td>...</td>\n",
       "      <td>0</td>\n",
       "      <td>0</td>\n",
       "      <td>0</td>\n",
       "      <td>0</td>\n",
       "      <td>0</td>\n",
       "      <td>0</td>\n",
       "      <td>0</td>\n",
       "      <td>0</td>\n",
       "      <td>0</td>\n",
       "      <td>FLU</td>\n",
       "    </tr>\n",
       "    <tr>\n",
       "      <th>1488</th>\n",
       "      <td>1</td>\n",
       "      <td>1</td>\n",
       "      <td>1</td>\n",
       "      <td>1</td>\n",
       "      <td>1</td>\n",
       "      <td>1</td>\n",
       "      <td>0</td>\n",
       "      <td>0</td>\n",
       "      <td>0</td>\n",
       "      <td>0</td>\n",
       "      <td>...</td>\n",
       "      <td>0</td>\n",
       "      <td>0</td>\n",
       "      <td>0</td>\n",
       "      <td>1</td>\n",
       "      <td>0</td>\n",
       "      <td>1</td>\n",
       "      <td>0</td>\n",
       "      <td>0</td>\n",
       "      <td>0</td>\n",
       "      <td>ALLERGY</td>\n",
       "    </tr>\n",
       "  </tbody>\n",
       "</table>\n",
       "<p>5 rows × 21 columns</p>\n",
       "</div>"
      ],
      "text/plain": [
       "       COUGH  MUSCLE_ACHES  TIREDNESS  SORE_THROAT  RUNNY_NOSE  STUFFY_NOSE  \\\n",
       "28336      0             1          1            0           0            0   \n",
       "1951       0             0          1            1           1            1   \n",
       "15903      0             0          0            1           1            1   \n",
       "31347      0             0          1            1           1            0   \n",
       "1488       1             1          1            1           1            1   \n",
       "\n",
       "       FEVER  NAUSEA  VOMITING  DIARRHEA   ...     DIFFICULTY_BREATHING  \\\n",
       "28336      0       1         1         0   ...                        0   \n",
       "1951       0       0         0         0   ...                        0   \n",
       "15903      0       0         0         0   ...                        0   \n",
       "31347      0       1         1         0   ...                        0   \n",
       "1488       0       0         0         0   ...                        0   \n",
       "\n",
       "       LOSS_OF_TASTE  LOSS_OF_SMELL  ITCHY_NOSE  ITCHY_EYES  ITCHY_MOUTH  \\\n",
       "28336              0              1           0           0            0   \n",
       "1951               1              1           1           1            1   \n",
       "15903              1              0           0           0            1   \n",
       "31347              0              0           0           0            0   \n",
       "1488               0              0           1           0            1   \n",
       "\n",
       "       ITCHY_INNER_EAR  SNEEZING  PINK_EYE     TYPE  \n",
       "28336                0         0         0      FLU  \n",
       "1951                 1         1         1  ALLERGY  \n",
       "15903                0         1         0  ALLERGY  \n",
       "31347                0         0         0      FLU  \n",
       "1488                 0         0         0  ALLERGY  \n",
       "\n",
       "[5 rows x 21 columns]"
      ]
     },
     "execution_count": 2,
     "metadata": {},
     "output_type": "execute_result"
    }
   ],
   "source": [
    "diseases = pd.read_csv(\"large_data.csv\")\n",
    "diseases.sample(frac=1).head()"
   ]
  },
  {
   "cell_type": "markdown",
   "metadata": {},
   "source": [
    "# Data Analisys\n",
    "## Separating desease by type"
   ]
  },
  {
   "cell_type": "code",
   "execution_count": 3,
   "metadata": {},
   "outputs": [],
   "source": [
    "flu = diseases[diseases.TYPE == \"FLU\"].drop(columns=[\"TYPE\"])\n",
    "covid = diseases[diseases.TYPE == \"COVID\"].drop(columns=[\"TYPE\"])\n",
    "cold = diseases[diseases.TYPE == \"COLD\"].drop(columns=[\"TYPE\"])\n",
    "allergy = diseases[diseases.TYPE == \"ALLERGY\"].drop(columns=[\"TYPE\"])"
   ]
  },
  {
   "cell_type": "markdown",
   "metadata": {},
   "source": [
    "## Plotting each disease's number of symptoms\n",
    "This is done to look for outliers, meaning some single case that had a symptom that the large majority of cases of the same disease didn't have.\n",
    "\n",
    "### Flu"
   ]
  },
  {
   "cell_type": "code",
   "execution_count": 4,
   "metadata": {
    "scrolled": true
   },
   "outputs": [
    {
     "data": {
      "text/plain": [
       "<BarContainer object of 20 artists>"
      ]
     },
     "execution_count": 4,
     "metadata": {},
     "output_type": "execute_result"
    },
    {
     "data": {
      "image/png": "[encoded data removed]",
      "text/plain": [
       "<Figure size 432x288 with 1 Axes>"
      ]
     },
     "metadata": {
      "needs_background": "light"
     },
     "output_type": "display_data"
    }
   ],
   "source": [
    "flu_dict = flu.sum().to_dict()\n",
    "#plt.xlim([0, 10]) # <-- this was to make the graph clearer, when looking for small numbers (outliers)\n",
    "plt.title(\"Flu\")\n",
    "plt.barh(flu_dict.keys(), flu_dict.values())"
   ]
  },
  {
   "cell_type": "markdown",
   "metadata": {},
   "source": [
    "### Covid"
   ]
  },
  {
   "cell_type": "code",
   "execution_count": 5,
   "metadata": {
    "scrolled": false
   },
   "outputs": [
    {
     "data": {
      "text/plain": [
       "<BarContainer object of 20 artists>"
      ]
     },
     "execution_count": 5,
     "metadata": {},
     "output_type": "execute_result"
    },
    {
     "data": {
      "image/png": "[encoded data removed]",
      "text/plain": [
       "<Figure size 432x288 with 1 Axes>"
      ]
     },
     "metadata": {
      "needs_background": "light"
     },
     "output_type": "display_data"
    }
   ],
   "source": [
    "covid_dict = covid.sum().to_dict()\n",
    "#plt.xlim([0, 10]) # <-- this was to make the graph clearer, when looking for small numbers (outliers)\n",
    "plt.title(\"Covid\")\n",
    "plt.barh(covid_dict.keys(), covid_dict.values())"
   ]
  },
  {
   "cell_type": "markdown",
   "metadata": {},
   "source": [
    "### Cold"
   ]
  },
  {
   "cell_type": "code",
   "execution_count": 6,
   "metadata": {
    "scrolled": true
   },
   "outputs": [
    {
     "data": {
      "text/plain": [
       "<BarContainer object of 20 artists>"
      ]
     },
     "execution_count": 6,
     "metadata": {},
     "output_type": "execute_result"
    },
    {
     "data": {
      "image/png": "[encoded data removed]",
      "text/plain": [
       "<Figure size 432x288 with 1 Axes>"
      ]
     },
     "metadata": {
      "needs_background": "light"
     },
     "output_type": "display_data"
    }
   ],
   "source": [
    "cold_dict = cold.sum().to_dict()\n",
    "#plt.xlim([0, 10]) # <-- this was to make the graph clearer, when looking for small numbers (outliers)\n",
    "plt.title(\"Cold\")\n",
    "plt.barh(cold_dict.keys(), cold_dict.values())"
   ]
  },
  {
   "cell_type": "markdown",
   "metadata": {},
   "source": [
    "### Allergy"
   ]
  },
  {
   "cell_type": "code",
   "execution_count": 7,
   "metadata": {
    "scrolled": true
   },
   "outputs": [
    {
     "data": {
      "text/plain": [
       "<BarContainer object of 20 artists>"
      ]
     },
     "execution_count": 7,
     "metadata": {},
     "output_type": "execute_result"
    },
    {
     "data": {
      "image/png": "[encoded data removed]",
      "text/plain": [
       "<Figure size 432x288 with 1 Axes>"
      ]
     },
     "metadata": {
      "needs_background": "light"
     },
     "output_type": "display_data"
    }
   ],
   "source": [
    "allergy_dict = allergy.sum().to_dict()\n",
    "#plt.xlim([0, 10]) # <-- this was to make the graph clearer, when looking for small numbers (outliers)\n",
    "plt.title(\"Allergy\")\n",
    "plt.barh(allergy_dict.keys(), allergy_dict.values())"
   ]
  },
  {
   "cell_type": "markdown",
   "metadata": {},
   "source": [
    "### All diseases"
   ]
  },
  {
   "cell_type": "code",
   "execution_count": 8,
   "metadata": {},
   "outputs": [
    {
     "data": {
      "text/plain": [
       "<BarContainer object of 20 artists>"
      ]
     },
     "execution_count": 8,
     "metadata": {},
     "output_type": "execute_result"
    },
    {
     "data": {
      "image/png": "[encoded data removed]",
      "text/plain": [
       "<Figure size 432x288 with 1 Axes>"
      ]
     },
     "metadata": {
      "needs_background": "light"
     },
     "output_type": "display_data"
    }
   ],
   "source": [
    "diseases_dict = diseases.drop(columns=[\"TYPE\"]).sum().to_dict()\n",
    "#plt.xlim([0, 10]) # <-- this was to make the graph clearer, when looking for small numbers (outliers)\n",
    "plt.title(\"All diseases\")\n",
    "plt.barh(diseases_dict.keys(), diseases_dict.values())"
   ]
  },
  {
   "cell_type": "markdown",
   "metadata": {},
   "source": [
    "## Plotting the number of cases of each desease"
   ]
  },
  {
   "cell_type": "code",
   "execution_count": 9,
   "metadata": {},
   "outputs": [
    {
     "data": {
      "text/plain": [
       "<BarContainer object of 4 artists>"
      ]
     },
     "execution_count": 9,
     "metadata": {},
     "output_type": "execute_result"
    },
    {
     "data": {
      "image/png": "[encoded data removed]",
      "text/plain": [
       "<Figure size 432x288 with 1 Axes>"
      ]
     },
     "metadata": {
      "needs_background": "light"
     },
     "output_type": "display_data"
    }
   ],
   "source": [
    "plt.title(\"Number of cases per disease\")\n",
    "plt.bar([\"FLU\", \"COVID\", \"COLD\", \"ALLERGY\"], [len(flu),len(covid),len(cold),len(allergy)])"
   ]
  },
  {
   "cell_type": "markdown",
   "metadata": {},
   "source": [
    "### Conclusion\n",
    "There's no apparent outlier in the given dataset, since all diseases seem to have a similar set of symptoms per case.\n",
    "The number of cases of each desease differs a lot, so this must be taken in account when splitting the data.\n",
    "\n",
    "# Data Splitting\n",
    "When splitting in test and train data, the *stratify* attribute is set to *all_labels* in order to keep the same proportion of each label in the splits "
   ]
  },
  {
   "cell_type": "code",
   "execution_count": 10,
   "metadata": {},
   "outputs": [],
   "source": [
    "all_inputs = diseases.drop(columns=[\"TYPE\"]).values\n",
    "all_labels = diseases['TYPE'].values\n",
    "\n",
    "(training_inputs, \n",
    " testing_inputs, \n",
    " training_classes, \n",
    " testing_classes) = train_test_split(all_inputs, all_labels, stratify=all_labels, test_size=0.3, random_state=1)"
   ]
  },
  {
   "cell_type": "markdown",
   "metadata": {},
   "source": [
    "# Creating models\n",
    "## Decision Tree Learning  \n",
    "\n",
    "Decision Trees (DTs) are a non-parametric supervised learning method used for classification and regression.  \n",
    "The goal is to create a model that predicts the value of a target variable by learning simple decision rules inferred from the data features.  \n",
    "A tree can be seen as a piecewise constant approximation.\n",
    "\n",
    "Some of its advantages are:\n",
    "- Robust to noise (especially when methods to avoid overfitting are\n",
    "employed)\n",
    "- Can easily handle redundant and irrelevant attributes.\n",
    "- Extremely fast at classifying unknown records and inexpensive.\n",
    "\n",
    "And disadvantages: \n",
    "- Each decision boundary involves only a single attribute.\n",
    "- Due to the greedy nature of splitting criterion, interacting\n",
    "attributes (that can distinguish between classes together but not\n",
    "individually) may be passed over in favor of other attributed that\n",
    "are less discriminating.\n",
    "\n",
    "\n",
    "### Parameter Tuning  "
   ]
  },
  {
   "cell_type": "code",
   "execution_count": 11,
   "metadata": {},
   "outputs": [],
   "source": [
    "#from joblib import parallel_backend\n",
    "\n",
    "#with parallel_backend('threading', n_jobs=-1):\n",
    "\n",
    "#    dtree_classifier = DecisionTreeClassifier()\n",
    "    \n",
    "\n",
    "#    parameter_grid = {   'criterion': ['gini', 'entropy'],\n",
    "#                         'splitter': ['best', 'random'],\n",
    "#\n",
    "#                         'max_depth': [1, 2, 3, 4, 5,6,7,8,9,10,15,20],\n",
    "#                         'max_features': [1, 2, 3, 4,5,6,7,8,9,10,11,12],\n",
    "#                         'class_weight':['balanced', None],\n",
    "#                            }\n",
    "\n",
    "#    cross_validation = StratifiedKFold(n_splits=10)\n",
    "\n",
    "#    grid_search = GridSearchCV(dtree_classifier, param_grid=parameter_grid, cv=cross_validation, verbose=3, n_jobs=-1)\n",
    "\n",
    "#    grid_search.fit(all_inputs, all_labels)\n",
    "#    print('Best score: {}'.format(grid_search.best_score_))\n",
    "#    print('Best parameters: {}'.format(grid_search.best_params_))"
   ]
  },
  {
   "cell_type": "markdown",
   "metadata": {},
   "source": [
    "### Training the Model\n",
    "The best parameters are : {'class_weight': 'balanced', 'criterion': 'gini', 'max_depth': 15, 'max_features': 12, 'splitter': 'best'} with 0.928 as the best score"
   ]
  },
  {
   "cell_type": "code",
   "execution_count": 12,
   "metadata": {},
   "outputs": [
    {
     "name": "stdout",
     "output_type": "stream",
     "text": [
      "Dtree time: 0.0859999656677 seconds\n"
     ]
    }
   ],
   "source": [
    "start = time.time()\n",
    "\n",
    "dtree_classifier = DecisionTreeClassifier(criterion='gini',splitter='best',max_depth=15, max_features=12,class_weight='balanced')\n",
    "dtree_classifier.fit(training_inputs, training_classes)\n",
    "dtree_pred = dtree_classifier.predict(testing_inputs)\n",
    "\n",
    "end = time.time()\n",
    "print(\"Dtree time: \"+ str(end - start) + \" seconds\")"
   ]
  },
  {
   "cell_type": "markdown",
   "metadata": {},
   "source": [
    "### Accuracy Score"
   ]
  },
  {
   "cell_type": "code",
   "execution_count": 13,
   "metadata": {},
   "outputs": [
    {
     "name": "stdout",
     "output_type": "stream",
     "text": [
      "Accuracy score (Dtree): 0.9210407918416317\n"
     ]
    }
   ],
   "source": [
    "dtree_accuracy_score = accuracy_score(testing_classes, dtree_pred)\n",
    "\n",
    "print(\"Accuracy score (Dtree): \"+ str(dtree_accuracy_score))"
   ]
  },
  {
   "cell_type": "markdown",
   "metadata": {},
   "source": [
    "### Confusion Matrix"
   ]
  },
  {
   "cell_type": "code",
   "execution_count": 14,
   "metadata": {},
   "outputs": [
    {
     "name": "stdout",
     "output_type": "stream",
     "text": [
      "[[4758  156    0    0]\n",
      " [   0  307    0    0]\n",
      " [   0   25  406  184]\n",
      " [   0  140  548 6812]]\n"
     ]
    }
   ],
   "source": [
    "print(confusion_matrix(testing_classes, dtree_pred))"
   ]
  },
  {
   "cell_type": "markdown",
   "metadata": {},
   "source": [
    "### Classification Report"
   ]
  },
  {
   "cell_type": "code",
   "execution_count": 15,
   "metadata": {},
   "outputs": [
    {
     "name": "stdout",
     "output_type": "stream",
     "text": [
      "              precision    recall  f1-score   support\n",
      "\n",
      "         FLU       1.00      0.97      0.98      4914\n",
      "        COLD       0.49      1.00      0.66       307\n",
      "       COVID       0.43      0.66      0.52       615\n",
      "     ALLERGY       0.97      0.91      0.94      7500\n",
      "\n",
      "   micro avg       0.92      0.92      0.92     13336\n",
      "   macro avg       0.72      0.88      0.77     13336\n",
      "weighted avg       0.95      0.92      0.93     13336\n",
      "\n"
     ]
    }
   ],
   "source": [
    "targets = [\"FLU\", \"COLD\", \"COVID\", \"ALLERGY\"]\n",
    "\n",
    "dtree_report = classification_report(testing_classes, dtree_pred, target_names=targets, output_dict=True)\n",
    "\n",
    "print(classification_report(testing_classes, dtree_pred, target_names=targets))"
   ]
  },
  {
   "cell_type": "markdown",
   "metadata": {},
   "source": [
    "## SVM\n",
    "Support vector machines (SVMs) are a set of supervised learning methods used for classification, regression and outliers detection.\n",
    "\n",
    "The advantages of support vector machines are:\n",
    "\n",
    "- Effective in high dimensional spaces.\n",
    "\n",
    "- Still effective in cases where number of dimensions is greater than the number of samples.\n",
    "\n",
    "- Uses a subset of training points in the decision function (called support vectors), so it is also memory efficient.\n",
    "\n",
    "- Versatile: different Kernel functions can be specified for the decision function. Common kernels are provided, but it is also possible to specify custom kernels.\n",
    "\n",
    "The disadvantages of support vector machines include:\n",
    "\n",
    "- If the number of features is much greater than the number of samples, avoid over-fitting in choosing Kernel functions and regularization term is crucial.\n",
    "\n",
    "- SVMs do not directly provide probability estimates, these are calculated using an expensive five-fold cross-validation (see Scores and probabilities, below).\n",
    "\n",
    "###    Parameter Tuning"
   ]
  },
  {
   "cell_type": "code",
   "execution_count": 16,
   "metadata": {},
   "outputs": [],
   "source": [
    "#from joblib import parallel_backend\n",
    "\n",
    "##with parallel_backend('threading', n_jobs=-1):\n",
    "\n",
    "##    svm_classifier = svm.SVC()\n",
    "\n",
    "##    parameter_grid = {'kernel': ['poly', 'rbf'],\n",
    "##                            'degree': [1, 2, 3, 4],\n",
    "##                            'C': [0.1, 1, 10],\n",
    "##                            'gamma': [0.1, 1]}\n",
    "\n",
    "##    cross_validation = StratifiedKFold(n_splits=10)\n",
    "\n",
    "##    grid_search = GridSearchCV(svm_classifier, param_grid=parameter_grid, cv=cross_validation, verbose=3, n_jobs=-1)\n",
    "\n",
    "##    grid_search.fit(all_inputs, all_labels)\n",
    "##    print('Best score: {}'.format(grid_search.best_score_))\n",
    "##    print('Best parameters: {}'.format(grid_search.best_params_))"
   ]
  },
  {
   "cell_type": "markdown",
   "metadata": {},
   "source": [
    "### Training the model"
   ]
  },
  {
   "cell_type": "code",
   "execution_count": 17,
   "metadata": {},
   "outputs": [
    {
     "name": "stdout",
     "output_type": "stream",
     "text": [
      "SVM time: 10.2779998779 seconds\n"
     ]
    }
   ],
   "source": [
    "start = time.time()\n",
    "\n",
    "svm_model = svm.SVC(C=1, degree=1, gamma=0.1, kernel='poly')\n",
    "svm_model.fit(training_inputs, training_classes)\n",
    "svm_pred = svm_model.predict(testing_inputs)\n",
    "\n",
    "end = time.time()\n",
    "print(\"SVM time: \"+ str(end - start) + \" seconds\")"
   ]
  },
  {
   "cell_type": "markdown",
   "metadata": {},
   "source": [
    "### Accuracy Score"
   ]
  },
  {
   "cell_type": "code",
   "execution_count": 18,
   "metadata": {},
   "outputs": [
    {
     "name": "stdout",
     "output_type": "stream",
     "text": [
      "Accuracy score (SVM): 0.9294391121775645\n"
     ]
    }
   ],
   "source": [
    "svm_accuracy_score = accuracy_score(testing_classes, svm_pred)\n",
    "\n",
    "print(\"Accuracy score (SVM): \"+ str(svm_accuracy_score))"
   ]
  },
  {
   "cell_type": "markdown",
   "metadata": {},
   "source": [
    "### Confusion Matrix"
   ]
  },
  {
   "cell_type": "code",
   "execution_count": 19,
   "metadata": {},
   "outputs": [
    {
     "name": "stdout",
     "output_type": "stream",
     "text": [
      "[[4914    0    0    0]\n",
      " [ 158  142    7    0]\n",
      " [  13    5  284  313]\n",
      " [  75   62  308 7055]]\n"
     ]
    }
   ],
   "source": [
    "print(confusion_matrix(testing_classes, svm_pred))"
   ]
  },
  {
   "cell_type": "markdown",
   "metadata": {},
   "source": [
    "### Classification Report"
   ]
  },
  {
   "cell_type": "code",
   "execution_count": 20,
   "metadata": {},
   "outputs": [
    {
     "name": "stdout",
     "output_type": "stream",
     "text": [
      "              precision    recall  f1-score   support\n",
      "\n",
      "         FLU       0.95      1.00      0.98      4914\n",
      "        COLD       0.68      0.46      0.55       307\n",
      "       COVID       0.47      0.46      0.47       615\n",
      "     ALLERGY       0.96      0.94      0.95      7500\n",
      "\n",
      "   micro avg       0.93      0.93      0.93     13336\n",
      "   macro avg       0.77      0.72      0.74     13336\n",
      "weighted avg       0.93      0.93      0.93     13336\n",
      "\n"
     ]
    }
   ],
   "source": [
    "targets = [\"FLU\", \"COLD\", \"COVID\", \"ALLERGY\"]\n",
    "\n",
    "svm_report = classification_report(testing_classes, svm_pred, target_names=targets, output_dict=True)\n",
    "\n",
    "print(classification_report(testing_classes, svm_pred, target_names=targets))"
   ]
  },
  {
   "cell_type": "markdown",
   "metadata": {},
   "source": [
    "## Logistic Regression\n",
    "Logistic regression, despite its name, is a linear model for classification rather than regression. \n",
    "\n",
    "Logistic regression is also known in the literature as logit regression, maximum-entropy classification (MaxEnt) or the log-linear classifier. In this model, the probabilities describing the possible outcomes of a single trial are modeled using a logistic function.\n",
    "\n",
    "This implementation can fit binary, One-vs-Rest, or multinomial logistic regression with optional *l1*, *l2* or Elastic-Net regularization.\n",
    "\n",
    "### Parameter tuning"
   ]
  },
  {
   "cell_type": "code",
   "execution_count": 21,
   "metadata": {},
   "outputs": [],
   "source": [
    "#from joblib import parallel_backend\n",
    "\n",
    "#with parallel_backend('threading', n_jobs=-1):\n",
    "\n",
    "#    logit_classifier = LogisticRegression()\n",
    "\n",
    "#    parameter_grid = {'penalty': ['l1', 'l2'],\n",
    "#                  'class_weight':['balanced', None],\n",
    "#                   'C': [0.1, 1, 10],\n",
    "#                   'fit_intercept':[True, False],\n",
    "#                    'max_iter': [100,500,1000]}\n",
    "\n",
    "#    cross_validation = StratifiedKFold(n_splits=10)\n",
    "\n",
    "#    grid_search = GridSearchCV(logit_classifier, param_grid=parameter_grid, cv=cross_validation, verbose=3, n_jobs=-1)\n",
    "\n",
    "#    grid_search.fit(all_inputs, all_labels)\n",
    "#    print('Best score: {}'.format(grid_search.best_score_))\n",
    "#    print('Best parameters: {}'.format(grid_search.best_params_))"
   ]
  },
  {
   "cell_type": "markdown",
   "metadata": {},
   "source": [
    "### Training the model\n",
    "\n",
    "Since the deseases have an unequal amout of occurencies the parameter class_weigth is set to 'balanced':\n",
    "    \n",
    "    The “balanced” mode uses the values of y to automatically adjust weights inversely proportional to class frequencies in the input data as n_samples / (n_classes * np.bincount(y)). "
   ]
  },
  {
   "cell_type": "code",
   "execution_count": 31,
   "metadata": {},
   "outputs": [
    {
     "name": "stdout",
     "output_type": "stream",
     "text": [
      "Logit time: 0.546999931335 seconds\n"
     ]
    }
   ],
   "source": [
    "start = time.time()\n",
    "\n",
    "logit_model = LogisticRegression(C=0.1,class_weight='balanced')\n",
    "logit_model.fit(training_inputs, training_classes)\n",
    "logit_pred = logit_model.predict(testing_inputs)\n",
    "\n",
    "end = time.time()\n",
    "print(\"Logit time: \"+ str(end - start) + \" seconds\")"
   ]
  },
  {
   "cell_type": "markdown",
   "metadata": {},
   "source": [
    "### Accuracy Score"
   ]
  },
  {
   "cell_type": "code",
   "execution_count": 23,
   "metadata": {},
   "outputs": [
    {
     "name": "stdout",
     "output_type": "stream",
     "text": [
      "Accuracy score (Logit): 0.9321385722855429\n"
     ]
    }
   ],
   "source": [
    "logit_accuracy_score = accuracy_score(testing_classes, logit_pred)\n",
    "\n",
    "print(\"Accuracy score (Logit): \"+ str(logit_accuracy_score))"
   ]
  },
  {
   "cell_type": "markdown",
   "metadata": {},
   "source": [
    "### Confusion Matrix"
   ]
  },
  {
   "cell_type": "code",
   "execution_count": 24,
   "metadata": {},
   "outputs": [
    {
     "name": "stdout",
     "output_type": "stream",
     "text": [
      "[[4758  155    1    0]\n",
      " [   0  306    1    0]\n",
      " [   0   24  534   57]\n",
      " [   0  140  527 6833]]\n"
     ]
    }
   ],
   "source": [
    "print(confusion_matrix(testing_classes, logit_pred))"
   ]
  },
  {
   "cell_type": "markdown",
   "metadata": {},
   "source": [
    "### Classification Report"
   ]
  },
  {
   "cell_type": "code",
   "execution_count": 25,
   "metadata": {},
   "outputs": [
    {
     "name": "stdout",
     "output_type": "stream",
     "text": [
      "              precision    recall  f1-score   support\n",
      "\n",
      "         FLU       1.00      0.97      0.98      4914\n",
      "        COLD       0.49      1.00      0.66       307\n",
      "       COVID       0.50      0.87      0.64       615\n",
      "     ALLERGY       0.99      0.91      0.95      7500\n",
      "\n",
      "   micro avg       0.93      0.93      0.93     13336\n",
      "   macro avg       0.75      0.94      0.81     13336\n",
      "weighted avg       0.96      0.93      0.94     13336\n",
      "\n"
     ]
    }
   ],
   "source": [
    "logit_report = classification_report(testing_classes, logit_pred, target_names=targets, output_dict=True)\n",
    "print(classification_report(testing_classes, logit_pred, target_names=targets))"
   ]
  },
  {
   "cell_type": "markdown",
   "metadata": {},
   "source": [
    "# Comparing Models\n",
    "#### Some functions for making plotting easier"
   ]
  },
  {
   "cell_type": "code",
   "execution_count": 26,
   "metadata": {},
   "outputs": [],
   "source": [
    "def plotReport(field, dtree_ ,svm_, logit, limit=0.4, limit2=1.09):\n",
    "    x = np.arange(len(targets))\n",
    "    width = 0.2\n",
    "\n",
    "    fig, ax = plt.subplots()\n",
    "\n",
    "    rects1 = ax.bar(x, dtree_, width, label='Decision tree')\n",
    "    rects2 = ax.bar(x + width, svm_, width, label='SVM')\n",
    "    rects3 = ax.bar(x - width, logit, width, label='Logit')\n",
    "\n",
    "    ax.set_ylabel('%')\n",
    "    ax.set_title(field.capitalize()+' by model')\n",
    "    ax.set_xticks(x)\n",
    "    ax.set_xticklabels(targets)\n",
    "    ax.set_ylim(limit, limit2)\n",
    "    ax.yaxis.grid(True, linestyle=':')\n",
    "    ax.legend()\n",
    "\n",
    "    return plt.show()"
   ]
  },
  {
   "cell_type": "code",
   "execution_count": 27,
   "metadata": {},
   "outputs": [],
   "source": [
    "def getReport(field, report):\n",
    "    return [report['FLU'][field],report['COLD'][field],report['COVID'][field],report['ALLERGY'][field]]"
   ]
  },
  {
   "cell_type": "markdown",
   "metadata": {},
   "source": [
    "## Comparing precision"
   ]
  },
  {
   "cell_type": "code",
   "execution_count": 28,
   "metadata": {},
   "outputs": [
    {
     "data": {
      "image/png": "[encoded data removed]",
      "text/plain": [
       "<Figure size 432x288 with 1 Axes>"
      ]
     },
     "metadata": {
      "needs_background": "light"
     },
     "output_type": "display_data"
    }
   ],
   "source": [
    "field = 'precision'\n",
    "svm_precision = getReport(field, svm_report)\n",
    "logit_precision = getReport(field, logit_report)\n",
    "dtree_precision = getReport(field, dtree_report)\n",
    "\n",
    "\n",
    "plotReport(field,dtree_precision, svm_precision, logit_precision)"
   ]
  },
  {
   "cell_type": "markdown",
   "metadata": {},
   "source": [
    "## Comparing Recall"
   ]
  },
  {
   "cell_type": "code",
   "execution_count": 29,
   "metadata": {},
   "outputs": [
    {
     "data": {
      "image/png": "[encoded data removed]",
      "text/plain": [
       "<Figure size 432x288 with 1 Axes>"
      ]
     },
     "metadata": {
      "needs_background": "light"
     },
     "output_type": "display_data"
    }
   ],
   "source": [
    "field = 'recall'\n",
    "svm_precision = getReport(field, svm_report)\n",
    "logit_precision = getReport(field, logit_report)\n",
    "dtree_precision = getReport(field, dtree_report)\n",
    "\n",
    "\n",
    "plotReport(field,dtree_precision, svm_precision, logit_precision,limit2=1.15)"
   ]
  },
  {
   "cell_type": "markdown",
   "metadata": {},
   "source": [
    "## Comparing f1-score"
   ]
  },
  {
   "cell_type": "code",
   "execution_count": 30,
   "metadata": {},
   "outputs": [
    {
     "data": {
      "image/png": "[encoded data removed]",
      "text/plain": [
       "<Figure size 432x288 with 1 Axes>"
      ]
     },
     "metadata": {
      "needs_background": "light"
     },
     "output_type": "display_data"
    }
   ],
   "source": [
    "field = 'f1-score'\n",
    "svm_precision = getReport(field, svm_report)\n",
    "logit_precision = getReport(field, logit_report)\n",
    "dtree_precision = getReport(field, dtree_report)\n",
    "\n",
    "\n",
    "plotReport(field,dtree_precision, svm_precision, logit_precision)"
   ]
  },
  {
   "cell_type": "markdown",
   "metadata": {},
   "source": [
    "# Conclusions\n",
    "Logit got better overall precisions but not by much, while SVM got more balanced predictions. When it comes to the Decision Tree classifier, it got scores halfway between the Svm and the Logit classifiers.\n",
    "If the goal was to predict Covid-19 cases in opposition to other diseases, all three achieved low precision, with a slightly better performance for logistic regression."
   ]
  }
 ],
 "metadata": {
  "kernelspec": {
   "display_name": "Python 2",
   "language": "python",
   "name": "python2"
  },
  "language_info": {
   "codemirror_mode": {
    "name": "ipython",
    "version": 2
   },
   "file_extension": ".py",
   "mimetype": "text/x-python",
   "name": "python",
   "nbconvert_exporter": "python",
   "pygments_lexer": "ipython2",
   "version": "2.7.15"
  }
 },
 "nbformat": 4,
 "nbformat_minor": 2
}

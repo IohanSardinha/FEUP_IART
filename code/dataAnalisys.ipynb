{
 "cells": [
  {
   "cell_type": "markdown",
   "metadata": {},
   "source": [
    "### Imports"
   ]
  },
  {
   "cell_type": "code",
   "execution_count": 2,
   "metadata": {},
   "outputs": [],
   "source": [
    "%matplotlib inline\n",
    "import matplotlib.pyplot  as plt\n",
    "from tenpair import *\n",
    "from time import time\n",
    "from bfs import BFS\n",
    "from dfs import DFS\n",
    "from itdep import IDDFS\n",
    "from astar import aStar"
   ]
  },
  {
   "cell_type": "code",
   "execution_count": 3,
   "metadata": {},
   "outputs": [],
   "source": [
    "def timeToRun(func):\n",
    "    start = time()\n",
    "    ret = func()\n",
    "    end = time()\n",
    "    return ret, (end-start)"
   ]
  },
  {
   "cell_type": "markdown",
   "metadata": {},
   "source": [
    "# Uninformed Search"
   ]
  },
  {
   "cell_type": "markdown",
   "metadata": {},
   "source": [
    "## BFS"
   ]
  },
  {
   "cell_type": "markdown",
   "metadata": {},
   "source": [
    "### Visiting repeated Nodes and Always dealing"
   ]
  },
  {
   "cell_type": "markdown",
   "metadata": {},
   "source": [
    "###### level 0"
   ]
  },
  {
   "cell_type": "code",
   "execution_count": 31,
   "metadata": {},
   "outputs": [
    {
     "data": {
      "text/plain": [
       "0.002000093460083008"
      ]
     },
     "execution_count": 31,
     "metadata": {},
     "output_type": "execute_result"
    }
   ],
   "source": [
    "board, moves = initialState(0)\n",
    "result, time_bfs_0 = timeToRun(lambda : BFS(board))\n",
    "time_bfs_0"
   ]
  },
  {
   "cell_type": "markdown",
   "metadata": {},
   "source": [
    "###### level 1"
   ]
  },
  {
   "cell_type": "code",
   "execution_count": 32,
   "metadata": {
    "scrolled": true
   },
   "outputs": [
    {
     "data": {
      "text/plain": [
       "0.022002220153808594"
      ]
     },
     "execution_count": 32,
     "metadata": {},
     "output_type": "execute_result"
    }
   ],
   "source": [
    "board, moves = initialState(1)\n",
    "result, time_bfs_1 = timeToRun(lambda : BFS(board))\n",
    "time_bfs_1"
   ]
  },
  {
   "cell_type": "markdown",
   "metadata": {},
   "source": [
    "### Not Repeating Nodes and Always Dealing"
   ]
  },
  {
   "cell_type": "markdown",
   "metadata": {},
   "source": [
    "###### level 0"
   ]
  },
  {
   "cell_type": "code",
   "execution_count": 33,
   "metadata": {},
   "outputs": [
    {
     "data": {
      "text/plain": [
       "0.0009999275207519531"
      ]
     },
     "execution_count": 33,
     "metadata": {},
     "output_type": "execute_result"
    }
   ],
   "source": [
    "board, moves = initialState(0)\n",
    "result, time_bfs_NR_0 = timeToRun(lambda : BFS(board, noRepeat=True))\n",
    "time_bfs_NR_0"
   ]
  },
  {
   "cell_type": "markdown",
   "metadata": {},
   "source": [
    "###### level 1"
   ]
  },
  {
   "cell_type": "code",
   "execution_count": 34,
   "metadata": {},
   "outputs": [
    {
     "data": {
      "text/plain": [
       "0.01099252700805664"
      ]
     },
     "execution_count": 34,
     "metadata": {},
     "output_type": "execute_result"
    }
   ],
   "source": [
    "board, moves = initialState(1)\n",
    "result, time_bfs_NR_1 = timeToRun(lambda : BFS(board, noRepeat=True))\n",
    "time_bfs_NR_1"
   ]
  },
  {
   "cell_type": "markdown",
   "metadata": {},
   "source": [
    "### Repeating Nodes and Dealing only on the first move"
   ]
  },
  {
   "cell_type": "markdown",
   "metadata": {},
   "source": [
    "###### level 0"
   ]
  },
  {
   "cell_type": "code",
   "execution_count": 35,
   "metadata": {},
   "outputs": [
    {
     "data": {
      "text/plain": [
       "0.00099945068359375"
      ]
     },
     "execution_count": 35,
     "metadata": {},
     "output_type": "execute_result"
    }
   ],
   "source": [
    "board, moves = initialState(0)\n",
    "result, time_bfs_DO_0 = timeToRun(lambda : BFS(board, shouldDealOnlyFirst=True))\n",
    "time_bfs_DO_0"
   ]
  },
  {
   "cell_type": "markdown",
   "metadata": {},
   "source": [
    "###### level 1"
   ]
  },
  {
   "cell_type": "code",
   "execution_count": 36,
   "metadata": {},
   "outputs": [
    {
     "data": {
      "text/plain": [
       "0.0051729679107666016"
      ]
     },
     "execution_count": 36,
     "metadata": {},
     "output_type": "execute_result"
    }
   ],
   "source": [
    "board, moves = initialState(1)\n",
    "result, time_bfs_DO_1 = timeToRun(lambda : BFS(board, shouldDealOnlyFirst=True))\n",
    "time_bfs_DO_1"
   ]
  },
  {
   "cell_type": "markdown",
   "metadata": {},
   "source": [
    "### Not Repeating and Dealing only on the first move"
   ]
  },
  {
   "cell_type": "markdown",
   "metadata": {},
   "source": [
    "###### level 0"
   ]
  },
  {
   "cell_type": "code",
   "execution_count": 76,
   "metadata": {},
   "outputs": [
    {
     "data": {
      "text/plain": [
       "0.0"
      ]
     },
     "execution_count": 76,
     "metadata": {},
     "output_type": "execute_result"
    }
   ],
   "source": [
    "board, moves = initialState(0)\n",
    "result, time_bfs_NR_DO_0 = timeToRun(lambda : BFS(board, noRepeat=True, shouldDealOnlyFirst=True))\n",
    "time_bfs_NR_DO_0"
   ]
  },
  {
   "cell_type": "markdown",
   "metadata": {},
   "source": [
    "###### level 1"
   ]
  },
  {
   "cell_type": "code",
   "execution_count": 41,
   "metadata": {},
   "outputs": [
    {
     "data": {
      "text/plain": [
       "0.0009984970092773438"
      ]
     },
     "execution_count": 41,
     "metadata": {},
     "output_type": "execute_result"
    }
   ],
   "source": [
    "board, moves = initialState(1)\n",
    "result, time_bfs_NR_DO_1 = timeToRun(lambda : BFS(board, noRepeat=True, shouldDealOnlyFirst=True))\n",
    "time_bfs_NR_DO_1"
   ]
  },
  {
   "cell_type": "markdown",
   "metadata": {},
   "source": [
    "###### level 2"
   ]
  },
  {
   "cell_type": "code",
   "execution_count": 43,
   "metadata": {},
   "outputs": [
    {
     "data": {
      "text/plain": [
       "32.31601595878601"
      ]
     },
     "execution_count": 43,
     "metadata": {},
     "output_type": "execute_result"
    }
   ],
   "source": [
    "board, moves = initialState(2)\n",
    "result, time_bfs_NR_DO_2 = timeToRun(lambda : BFS(board, noRepeat=True, shouldDealOnlyFirst=True))\n",
    "time_bfs_NR_DO_2"
   ]
  },
  {
   "cell_type": "markdown",
   "metadata": {},
   "source": [
    "###### level 3"
   ]
  },
  {
   "cell_type": "code",
   "execution_count": 45,
   "metadata": {},
   "outputs": [
    {
     "data": {
      "text/plain": [
       "0.6218035221099854"
      ]
     },
     "execution_count": 45,
     "metadata": {},
     "output_type": "execute_result"
    }
   ],
   "source": [
    "board, moves = initialState(3)\n",
    "result, time_bfs_NR_DO_3 = timeToRun(lambda : BFS(board, noRepeat=True, shouldDealOnlyFirst=True))\n",
    "time_bfs_NR_DO_3"
   ]
  },
  {
   "cell_type": "code",
   "execution_count": 91,
   "metadata": {},
   "outputs": [
    {
     "data": {
      "image/png": "[encoded data removed]",
      "text/plain": [
       "<Figure size 432x288 with 1 Axes>"
      ]
     },
     "metadata": {
      "needs_background": "light"
     },
     "output_type": "display_data"
    }
   ],
   "source": [
    "plt.plot(range(2),[time_bfs_0,time_bfs_1], label=\"BFS\")\n",
    "plt.plot(range(2),[time_bfs_NR_0,time_bfs_NR_1],label=\"BFS noRepeat\")\n",
    "plt.plot(range(2),[time_bfs_DO_0,time_bfs_DO_1],label=\"BFS oneDeal\")\n",
    "plt.plot(range(2),[time_bfs_NR_DO_0,time_bfs_NR_DO_1],label=\"BFS noRepeat oneDeal\")\n",
    "plt.legend(loc=\"upper left\")\n",
    "plt.xlabel('Level')\n",
    "plt.ylabel('Time (secs)')\n",
    "plt.show()"
   ]
  },
  {
   "cell_type": "code",
   "execution_count": 92,
   "metadata": {},
   "outputs": [
    {
     "data": {
      "image/png": "[encoded data removed]",
      "text/plain": [
       "<Figure size 432x288 with 1 Axes>"
      ]
     },
     "metadata": {
      "needs_background": "light"
     },
     "output_type": "display_data"
    }
   ],
   "source": [
    "plt.plot(range(2),[time_bfs_0,time_bfs_1], label=\"BFS\")\n",
    "plt.plot(range(2),[time_bfs_NR_0,time_bfs_NR_1],label=\"BFS noRepeat\")\n",
    "plt.plot(range(2),[time_bfs_DO_0,time_bfs_DO_1],label=\"BFS oneDeal\")\n",
    "plt.plot(range(4),[time_bfs_NR_DO_0,time_bfs_NR_DO_1,time_bfs_NR_DO_2,time_bfs_NR_DO_3],label=\"BFS noRepeat oneDeal\")\n",
    "plt.legend(loc=\"upper left\")\n",
    "plt.xlabel('Level')\n",
    "plt.ylabel('Time (secs)')\n",
    "plt.show()"
   ]
  },
  {
   "cell_type": "markdown",
   "metadata": {},
   "source": [
    "## DFS"
   ]
  },
  {
   "cell_type": "markdown",
   "metadata": {},
   "source": [
    "### No depth limit and always dealing"
   ]
  },
  {
   "cell_type": "markdown",
   "metadata": {},
   "source": [
    "###### level 0"
   ]
  },
  {
   "cell_type": "code",
   "execution_count": 47,
   "metadata": {},
   "outputs": [
    {
     "data": {
      "text/plain": [
       "0.0"
      ]
     },
     "execution_count": 47,
     "metadata": {},
     "output_type": "execute_result"
    }
   ],
   "source": [
    "board, moves = initialState(0)\n",
    "result, time_dfs_0 = timeToRun(lambda : DFS(board))\n",
    "time_dfs_0"
   ]
  },
  {
   "cell_type": "markdown",
   "metadata": {},
   "source": [
    "###### level 1"
   ]
  },
  {
   "cell_type": "code",
   "execution_count": 48,
   "metadata": {},
   "outputs": [
    {
     "data": {
      "text/plain": [
       "0.0"
      ]
     },
     "execution_count": 48,
     "metadata": {},
     "output_type": "execute_result"
    }
   ],
   "source": [
    "board, moves = initialState(1)\n",
    "result, time_dfs_1 = timeToRun(lambda : DFS(board))\n",
    "time_dfs_1"
   ]
  },
  {
   "cell_type": "markdown",
   "metadata": {},
   "source": [
    "###### level 2"
   ]
  },
  {
   "cell_type": "code",
   "execution_count": 50,
   "metadata": {},
   "outputs": [
    {
     "data": {
      "text/plain": [
       "0.0020020008087158203"
      ]
     },
     "execution_count": 50,
     "metadata": {},
     "output_type": "execute_result"
    }
   ],
   "source": [
    "board, moves = initialState(2)\n",
    "result, time_dfs_2 = timeToRun(lambda : DFS(board))\n",
    "time_dfs_2"
   ]
  },
  {
   "cell_type": "markdown",
   "metadata": {},
   "source": [
    "###### level 3"
   ]
  },
  {
   "cell_type": "code",
   "execution_count": 51,
   "metadata": {},
   "outputs": [
    {
     "data": {
      "text/plain": [
       "0.0009944438934326172"
      ]
     },
     "execution_count": 51,
     "metadata": {},
     "output_type": "execute_result"
    }
   ],
   "source": [
    "board, moves = initialState(3)\n",
    "result, time_dfs_3 = timeToRun(lambda : DFS(board))\n",
    "time_dfs_3"
   ]
  },
  {
   "cell_type": "markdown",
   "metadata": {},
   "source": [
    "###### level 4"
   ]
  },
  {
   "cell_type": "code",
   "execution_count": 52,
   "metadata": {},
   "outputs": [
    {
     "data": {
      "text/plain": [
       "0.0010001659393310547"
      ]
     },
     "execution_count": 52,
     "metadata": {},
     "output_type": "execute_result"
    }
   ],
   "source": [
    "board, moves = initialState(4)\n",
    "result, time_dfs_4 = timeToRun(lambda : DFS(board))\n",
    "time_dfs_4"
   ]
  },
  {
   "cell_type": "markdown",
   "metadata": {},
   "source": [
    "###### level 5"
   ]
  },
  {
   "cell_type": "code",
   "execution_count": 54,
   "metadata": {
    "scrolled": true
   },
   "outputs": [
    {
     "data": {
      "text/plain": [
       "0.003998756408691406"
      ]
     },
     "execution_count": 54,
     "metadata": {},
     "output_type": "execute_result"
    }
   ],
   "source": [
    "board, moves = initialState(5)\n",
    "result, time_dfs_5 = timeToRun(lambda : DFS(board))\n",
    "time_dfs_5"
   ]
  },
  {
   "cell_type": "markdown",
   "metadata": {},
   "source": [
    "### No Depth limit and only deal first "
   ]
  },
  {
   "cell_type": "markdown",
   "metadata": {},
   "source": [
    "###### level 0"
   ]
  },
  {
   "cell_type": "code",
   "execution_count": 56,
   "metadata": {},
   "outputs": [
    {
     "data": {
      "text/plain": [
       "0.0"
      ]
     },
     "execution_count": 56,
     "metadata": {},
     "output_type": "execute_result"
    }
   ],
   "source": [
    "board, moves = initialState(0)\n",
    "result, time_dfs_DO_0 = timeToRun(lambda : DFS(board, shouldDealOnlyFirst=True))\n",
    "time_dfs_DO_0"
   ]
  },
  {
   "cell_type": "markdown",
   "metadata": {},
   "source": [
    "###### level 1"
   ]
  },
  {
   "cell_type": "code",
   "execution_count": 57,
   "metadata": {},
   "outputs": [
    {
     "data": {
      "text/plain": [
       "0.000698089599609375"
      ]
     },
     "execution_count": 57,
     "metadata": {},
     "output_type": "execute_result"
    }
   ],
   "source": [
    "board, moves = initialState(1)\n",
    "result, time_dfs_DO_1 = timeToRun(lambda : DFS(board, shouldDealOnlyFirst=True))\n",
    "time_dfs_DO_1"
   ]
  },
  {
   "cell_type": "markdown",
   "metadata": {},
   "source": [
    "###### level 2"
   ]
  },
  {
   "cell_type": "code",
   "execution_count": 58,
   "metadata": {},
   "outputs": [
    {
     "data": {
      "text/plain": [
       "0.0010027885437011719"
      ]
     },
     "execution_count": 58,
     "metadata": {},
     "output_type": "execute_result"
    }
   ],
   "source": [
    "board, moves = initialState(2)\n",
    "result, time_dfs_DO_2 = timeToRun(lambda : DFS(board, shouldDealOnlyFirst=True))\n",
    "time_dfs_DO_2"
   ]
  },
  {
   "cell_type": "markdown",
   "metadata": {},
   "source": [
    "###### level 3"
   ]
  },
  {
   "cell_type": "code",
   "execution_count": 59,
   "metadata": {},
   "outputs": [
    {
     "data": {
      "text/plain": [
       "0.0010046958923339844"
      ]
     },
     "execution_count": 59,
     "metadata": {},
     "output_type": "execute_result"
    }
   ],
   "source": [
    "board, moves = initialState(3)\n",
    "result, time_dfs_DO_3 = timeToRun(lambda : DFS(board, shouldDealOnlyFirst=True))\n",
    "time_dfs_DO_3"
   ]
  },
  {
   "cell_type": "markdown",
   "metadata": {},
   "source": [
    "###### level 4"
   ]
  },
  {
   "cell_type": "code",
   "execution_count": 60,
   "metadata": {},
   "outputs": [
    {
     "data": {
      "text/plain": [
       "0.0"
      ]
     },
     "execution_count": 60,
     "metadata": {},
     "output_type": "execute_result"
    }
   ],
   "source": [
    "board, moves = initialState(4)\n",
    "result, time_dfs_DO_4 = timeToRun(lambda : DFS(board, shouldDealOnlyFirst=True))\n",
    "time_dfs_DO_4"
   ]
  },
  {
   "cell_type": "markdown",
   "metadata": {},
   "source": [
    "###### level 5"
   ]
  },
  {
   "cell_type": "code",
   "execution_count": 61,
   "metadata": {
    "scrolled": true
   },
   "outputs": [
    {
     "data": {
      "text/plain": [
       "0.0009965896606445312"
      ]
     },
     "execution_count": 61,
     "metadata": {},
     "output_type": "execute_result"
    }
   ],
   "source": [
    "board, moves = initialState(5)\n",
    "result, time_dfs_DO_5 = timeToRun(lambda : DFS(board, shouldDealOnlyFirst=True))\n",
    "time_dfs_DO_5"
   ]
  },
  {
   "cell_type": "markdown",
   "metadata": {},
   "source": [
    "###### level 6"
   ]
  },
  {
   "cell_type": "code",
   "execution_count": 62,
   "metadata": {
    "scrolled": true
   },
   "outputs": [
    {
     "data": {
      "text/plain": [
       "0.039904117584228516"
      ]
     },
     "execution_count": 62,
     "metadata": {},
     "output_type": "execute_result"
    }
   ],
   "source": [
    "board, moves = initialState(6)\n",
    "result, time_dfs_DO_6 = timeToRun(lambda : DFS(board, shouldDealOnlyFirst=True))\n",
    "time_dfs_DO_6"
   ]
  },
  {
   "cell_type": "code",
   "execution_count": 96,
   "metadata": {},
   "outputs": [
    {
     "data": {
      "image/png": "[encoded data removed]",
      "text/plain": [
       "<Figure size 432x288 with 1 Axes>"
      ]
     },
     "metadata": {
      "needs_background": "light"
     },
     "output_type": "display_data"
    }
   ],
   "source": [
    "plt.plot(range(6),[time_dfs_0,time_dfs_1,time_dfs_2,time_dfs_3,time_dfs_4,time_dfs_5], label=\"DFS\")\n",
    "plt.plot(range(6),[time_dfs_DO_0,time_dfs_DO_1,time_dfs_DO_2,time_dfs_DO_3,time_dfs_DO_4,time_dfs_DO_5], label=\"DFS oneDeal\")\n",
    "plt.legend(loc=\"upper left\")\n",
    "plt.xlabel('Level')\n",
    "plt.ylabel('Time (secs)')\n",
    "plt.show()"
   ]
  },
  {
   "cell_type": "code",
   "execution_count": 97,
   "metadata": {},
   "outputs": [
    {
     "data": {
      "image/png": "[encoded data removed]",
      "text/plain": [
       "<Figure size 432x288 with 1 Axes>"
      ]
     },
     "metadata": {
      "needs_background": "light"
     },
     "output_type": "display_data"
    }
   ],
   "source": [
    "plt.plot(range(),[time_dfs_0,time_dfs_1,time_dfs_2,time_dfs_3,time_dfs_4,time_dfs_5,0.label=\"DFS\")\n",
    "plt.plot(range(7),[time_dfs_DO_0,time_dfs_DO_1,time_dfs_DO_2,time_dfs_DO_3,time_dfs_DO_4,time_dfs_DO_5,time_dfs_DO_6], label=\"DFS oneDeal\")\n",
    "plt.legend(loc=\"upper left\")\n",
    "plt.xlabel('Level')\n",
    "plt.ylabel('Time (secs)')\n",
    "plt.show()"
   ]
  }
 ],
 "metadata": {
  "kernelspec": {
   "display_name": "Python 3",
   "language": "python",
   "name": "python3"
  },
  "language_info": {
   "codemirror_mode": {
    "name": "ipython",
    "version": 3
   },
   "file_extension": ".py",
   "mimetype": "text/x-python",
   "name": "python",
   "nbconvert_exporter": "python",
   "pygments_lexer": "ipython3",
   "version": "3.7.10"
  }
 },
 "nbformat": 4,
 "nbformat_minor": 2
}

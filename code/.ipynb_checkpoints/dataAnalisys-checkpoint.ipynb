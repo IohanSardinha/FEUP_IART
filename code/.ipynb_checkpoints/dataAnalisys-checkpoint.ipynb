{
 "cells": [
  {
   "cell_type": "markdown",
   "metadata": {},
   "source": [
    "### Imports"
   ]
  },
  {
   "cell_type": "code",
   "execution_count": null,
   "metadata": {},
   "outputs": [],
   "source": [
    "%matplotlib inline\n",
    "import matplotlib.pyplot  as plt\n",
    "from tenpair import *\n",
    "from time import time\n",
    "from bfs import BFS\n",
    "from dfs import DFS\n",
    "from itdep import IDDFS\n",
    "from astar import aStar"
   ]
  },
  {
   "cell_type": "code",
   "execution_count": null,
   "metadata": {},
   "outputs": [],
   "source": [
    "def getMoves(node):\n",
    "    path = []\n",
    "    while node.parents != []:\n",
    "        path.append(node.parents[0].data)\n",
    "        node = node.parents[0].fromNode\n",
    "    \n",
    "    return path[::-1]    "
   ]
  },
  {
   "cell_type": "code",
   "execution_count": 80,
   "metadata": {},
   "outputs": [],
   "source": [
    "def timeToRun(func, n=50):\n",
    "    times=[]\n",
    "    for _ in range(n):\n",
    "        start = time()\n",
    "        ret = func()\n",
    "        end = time()\n",
    "        times.append(end-start)\n",
    "    return getMoves(ret), (sum(times)/len(times))"
   ]
  },
  {
   "cell_type": "markdown",
   "metadata": {},
   "source": [
    "# Uninformed Search"
   ]
  },
  {
   "cell_type": "markdown",
   "metadata": {},
   "source": [
    "## BFS"
   ]
  },
  {
   "cell_type": "markdown",
   "metadata": {},
   "source": [
    "### Visiting repeated Nodes and Always dealing"
   ]
  },
  {
   "cell_type": "markdown",
   "metadata": {},
   "source": [
    "###### level 0"
   ]
  },
  {
   "cell_type": "code",
   "execution_count": 81,
   "metadata": {},
   "outputs": [
    {
     "data": {
      "text/plain": [
       "'N moves: 2; Time: 0.0006591320037841797 seconds.'"
      ]
     },
     "execution_count": 81,
     "metadata": {},
     "output_type": "execute_result"
    }
   ],
   "source": [
    "board, moves = initialState(0)\n",
    "moves_bfs_0, time_bfs_0 = timeToRun(lambda : BFS(board))\n",
    "\"N moves: \"+str(len(moves_bfs_0)) + \"; Time: \" + str(time_bfs_0) + \" seconds.\""
   ]
  },
  {
   "cell_type": "markdown",
   "metadata": {},
   "source": [
    "###### level 1"
   ]
  },
  {
   "cell_type": "code",
   "execution_count": 82,
   "metadata": {
    "scrolled": true
   },
   "outputs": [
    {
     "data": {
      "text/plain": [
       "'N moves: 4; Time: 0.009880027770996093 seconds.'"
      ]
     },
     "execution_count": 82,
     "metadata": {},
     "output_type": "execute_result"
    }
   ],
   "source": [
    "board, moves = initialState(1)\n",
    "moves_bfs_1, time_bfs_1 = timeToRun(lambda : BFS(board))\n",
    "\"N moves: \"+str(len(moves_bfs_1)) + \"; Time: \" + str(time_bfs_1) + \" seconds.\""
   ]
  },
  {
   "cell_type": "markdown",
   "metadata": {},
   "source": [
    "### Not Repeating Nodes and Always Dealing"
   ]
  },
  {
   "cell_type": "markdown",
   "metadata": {},
   "source": [
    "###### level 0"
   ]
  },
  {
   "cell_type": "code",
   "execution_count": 83,
   "metadata": {},
   "outputs": [
    {
     "data": {
      "text/plain": [
       "'N moves: 2; Time: 0.0007207870483398437 seconds.'"
      ]
     },
     "execution_count": 83,
     "metadata": {},
     "output_type": "execute_result"
    }
   ],
   "source": [
    "board, moves = initialState(0)\n",
    "moves_bfs_NR_0, time_bfs_NR_0 = timeToRun(lambda : BFS(board, noRepeat=True))\n",
    "\"N moves: \"+str(len(moves_bfs_NR_0)) + \"; Time: \" + str(time_bfs_NR_0) + \" seconds.\""
   ]
  },
  {
   "cell_type": "markdown",
   "metadata": {},
   "source": [
    "###### level 1"
   ]
  },
  {
   "cell_type": "code",
   "execution_count": 84,
   "metadata": {},
   "outputs": [
    {
     "data": {
      "text/plain": [
       "'N moves: 4; Time: 0.008139967918395996 seconds.'"
      ]
     },
     "execution_count": 84,
     "metadata": {},
     "output_type": "execute_result"
    }
   ],
   "source": [
    "board, moves = initialState(1)\n",
    "moves_bfs_NR_1, time_bfs_NR_1 = timeToRun(lambda : BFS(board, noRepeat=True))\n",
    "\"N moves: \"+str(len(moves_bfs_NR_1)) + \"; Time: \" + str(time_bfs_NR_1) + \" seconds.\""
   ]
  },
  {
   "cell_type": "markdown",
   "metadata": {},
   "source": [
    "### Repeating Nodes and Dealing only on the first move"
   ]
  },
  {
   "cell_type": "markdown",
   "metadata": {},
   "source": [
    "###### level 0"
   ]
  },
  {
   "cell_type": "code",
   "execution_count": 85,
   "metadata": {},
   "outputs": [
    {
     "data": {
      "text/plain": [
       "'N moves: 2; Time: 0.006006002426147461 seconds.'"
      ]
     },
     "execution_count": 85,
     "metadata": {},
     "output_type": "execute_result"
    }
   ],
   "source": [
    "board, moves = initialState(0)\n",
    "moves_bfs_DO_0, time_bfs_DO_0 = timeToRun(lambda : BFS(board, shouldDealOnlyFirst=True))\n",
    "\"N moves: \"+str(len(moves_bfs_DO_0)) + \"; Time: \" + str(time_bfs_DO_1) + \" seconds.\""
   ]
  },
  {
   "cell_type": "markdown",
   "metadata": {},
   "source": [
    "###### level 1"
   ]
  },
  {
   "cell_type": "code",
   "execution_count": 86,
   "metadata": {},
   "outputs": [
    {
     "data": {
      "text/plain": [
       "'N moves: 4; Time: 0.003440861701965332 seconds.'"
      ]
     },
     "execution_count": 86,
     "metadata": {},
     "output_type": "execute_result"
    }
   ],
   "source": [
    "board, moves = initialState(1)\n",
    "moves_bfs_DO_1, time_bfs_DO_1 = timeToRun(lambda : BFS(board, shouldDealOnlyFirst=True))\n",
    "\"N moves: \"+str(len(moves_bfs_DO_1)) + \"; Time: \" + str(time_bfs_DO_1) + \" seconds.\""
   ]
  },
  {
   "cell_type": "markdown",
   "metadata": {},
   "source": [
    "### Not Repeating and Dealing only on the first move"
   ]
  },
  {
   "cell_type": "markdown",
   "metadata": {},
   "source": [
    "###### level 0"
   ]
  },
  {
   "cell_type": "code",
   "execution_count": 87,
   "metadata": {},
   "outputs": [
    {
     "data": {
      "text/plain": [
       "'N moves: 2; Time: 0.0006400060653686524 seconds.'"
      ]
     },
     "execution_count": 87,
     "metadata": {},
     "output_type": "execute_result"
    }
   ],
   "source": [
    "board, moves = initialState(0)\n",
    "moves_bfs_NR_DO_0, time_bfs_NR_DO_0 = timeToRun(lambda : BFS(board, noRepeat=True, shouldDealOnlyFirst=True))\n",
    "\"N moves: \"+str(len(moves_bfs_NR_DO_0)) + \"; Time: \" + str(time_bfs_NR_DO_0) + \" seconds.\""
   ]
  },
  {
   "cell_type": "markdown",
   "metadata": {},
   "source": [
    "###### level 1"
   ]
  },
  {
   "cell_type": "code",
   "execution_count": 88,
   "metadata": {},
   "outputs": [
    {
     "data": {
      "text/plain": [
       "'N moves: 4; Time: 0.0020200300216674807 seconds.'"
      ]
     },
     "execution_count": 88,
     "metadata": {},
     "output_type": "execute_result"
    }
   ],
   "source": [
    "board, moves = initialState(1)\n",
    "moves_bfs_NR_DO_1, time_bfs_NR_DO_1 = timeToRun(lambda : BFS(board, noRepeat=True, shouldDealOnlyFirst=True))\n",
    "\"N moves: \"+str(len(moves_bfs_NR_DO_1)) + \"; Time: \" + str(time_bfs_NR_DO_1) + \" seconds.\""
   ]
  },
  {
   "cell_type": "markdown",
   "metadata": {},
   "source": [
    "###### level 2"
   ]
  },
  {
   "cell_type": "code",
   "execution_count": 91,
   "metadata": {},
   "outputs": [
    {
     "data": {
      "text/plain": [
       "'N moves: 6; Time: 28.3431134223938 seconds.'"
      ]
     },
     "execution_count": 91,
     "metadata": {},
     "output_type": "execute_result"
    }
   ],
   "source": [
    "board, moves = initialState(2)\n",
    "moves_bfs_NR_DO_2, time_bfs_NR_DO_2 = timeToRun(lambda : BFS(board, noRepeat=True, shouldDealOnlyFirst=True),1)\n",
    "\"N moves: \"+str(len(moves_bfs_NR_DO_2)) + \"; Time: \" + str(time_bfs_NR_DO_2) + \" seconds.\""
   ]
  },
  {
   "cell_type": "markdown",
   "metadata": {},
   "source": [
    "###### level 3"
   ]
  },
  {
   "cell_type": "code",
   "execution_count": 52,
   "metadata": {},
   "outputs": [
    {
     "data": {
      "text/plain": [
       "'N moves: 13; Time: 0.7890515327453613 seconds.'"
      ]
     },
     "execution_count": 52,
     "metadata": {},
     "output_type": "execute_result"
    }
   ],
   "source": [
    "board, moves = initialState(3)\n",
    "moves_bfs_NR_DO_3, time_bfs_NR_DO_3 = timeToRun(lambda : BFS(board, noRepeat=True, shouldDealOnlyFirst=True))\n",
    "\"N moves: \"+str(len(moves_bfs_NR_DO_3)) + \"; Time: \" + str(time_bfs_NR_DO_3) + \" seconds.\""
   ]
  },
  {
   "cell_type": "code",
   "execution_count": 135,
   "metadata": {},
   "outputs": [],
   "source": [
    "bfs_times = [time_bfs_0,time_bfs_1]\n",
    "bfs_NR_times = [time_bfs_NR_0,time_bfs_NR_1]\n",
    "bfs_DO_times = [time_bfs_DO_0,time_bfs_DO_1]\n",
    "bfs_NR_DO_times = [time_bfs_NR_DO_0,time_bfs_NR_DO_1,time_bfs_NR_DO_2,time_bfs_NR_DO_3]\n",
    "\n",
    "bfs_moves = [moves_bfs_0,moves_bfs_1]\n",
    "bfs_NR_moves = [moves_bfs_NR_0,moves_bfs_NR_1]\n",
    "bfs_DO_moves = [moves_bfs_DO_0,moves_bfs_DO_1]\n",
    "bfs_NR_DO_moves = [moves_bfs_NR_DO_0,moves_bfs_NR_DO_1,moves_bfs_NR_DO_2,moves_bfs_NR_DO_3]"
   ]
  },
  {
   "cell_type": "code",
   "execution_count": 144,
   "metadata": {},
   "outputs": [
    {
     "data": {
      "image/png": "[encoded data removed]",
      "text/plain": [
       "<Figure size 432x288 with 1 Axes>"
      ]
     },
     "metadata": {
      "needs_background": "light"
     },
     "output_type": "display_data"
    }
   ],
   "source": [
    "plt.plot(range(len(bfs_times)),bfs_times, label=\"BFS\")\n",
    "plt.plot(range(len(bfs_NR_times)),bfs_NR_times,label=\"BFS noRepeat\")\n",
    "plt.plot(range(len(bfs_DO_times)),bfs_DO_times,label=\"BFS oneDeal\")\n",
    "plt.plot(range(len(bfs_NR_DO_times[:2])),bfs_NR_DO_times[:2],label=\"BFS noRepeat oneDeal\")\n",
    "plt.legend(loc=\"upper left\")\n",
    "plt.xlabel('Level')\n",
    "plt.ylabel('Time (secs)')\n",
    "plt.show()"
   ]
  },
  {
   "cell_type": "code",
   "execution_count": 145,
   "metadata": {},
   "outputs": [
    {
     "data": {
      "image/png": "[encoded data removed]",
      "text/plain": [
       "<Figure size 432x288 with 1 Axes>"
      ]
     },
     "metadata": {
      "needs_background": "light"
     },
     "output_type": "display_data"
    }
   ],
   "source": [
    "plt.plot(range(len(bfs_times)),bfs_times, label=\"BFS\")\n",
    "plt.plot(range(len(bfs_NR_times)),bfs_NR_times,label=\"BFS noRepeat\")\n",
    "plt.plot(range(len(bfs_DO_times)),bfs_DO_times,label=\"BFS oneDeal\")\n",
    "plt.plot(range(len(bfs_NR_DO_times)),bfs_NR_DO_times,label=\"BFS noRepeat oneDeal\")\n",
    "plt.legend(loc=\"upper left\")\n",
    "plt.xlabel('Level')\n",
    "plt.ylabel('Time (secs)')\n",
    "plt.show()"
   ]
  },
  {
   "cell_type": "code",
   "execution_count": 183,
   "metadata": {},
   "outputs": [
    {
     "data": {
      "image/png": "[encoded data removed]",
      "text/plain": [
       "<Figure size 432x288 with 1 Axes>"
      ]
     },
     "metadata": {
      "needs_background": "light"
     },
     "output_type": "display_data"
    }
   ],
   "source": [
    "plt.bar(range(len(bfs_moves)), [len(moves) for moves in bfs_moves], label=\"BFS\")\n",
    "plt.bar(range(len(bfs_NR_moves)), [len(moves) for moves in bfs_NR_moves], label=\"BFS noRepeat\")\n",
    "plt.bar(range(len(bfs_DO_moves)), [len(moves) for moves in bfs_DO_moves], label=\"BFS noRepeat\")\n",
    "plt.bar(range(len(bfs_NR_DO_moves)),[len(moves) for moves in bfs_NR_DO_moves], label=\"BFS noRepeat oneDeal\")\n",
    "plt.legend(loc=\"upper left\")\n",
    "plt.xlabel(\"Level\")\n",
    "plt.ylabel(\"Moves\")\n",
    "plt.show()"
   ]
  },
  {
   "cell_type": "markdown",
   "metadata": {},
   "source": [
    "## DFS"
   ]
  },
  {
   "cell_type": "markdown",
   "metadata": {},
   "source": [
    "### No depth limit and always dealing"
   ]
  },
  {
   "cell_type": "markdown",
   "metadata": {},
   "source": [
    "###### level 0"
   ]
  },
  {
   "cell_type": "code",
   "execution_count": 53,
   "metadata": {},
   "outputs": [
    {
     "data": {
      "text/plain": [
       "'N moves: 2; Time: 0.0009932518005371094 seconds.'"
      ]
     },
     "execution_count": 53,
     "metadata": {},
     "output_type": "execute_result"
    }
   ],
   "source": [
    "board, moves = initialState(0)\n",
    "moves_dfs_0, time_dfs_0 = timeToRun(lambda : DFS(board))\n",
    "\"N moves: \"+str(len(moves_dfs_0)) + \"; Time: \" + str(time_dfs_0) + \" seconds.\""
   ]
  },
  {
   "cell_type": "markdown",
   "metadata": {},
   "source": [
    "###### level 1"
   ]
  },
  {
   "cell_type": "code",
   "execution_count": 57,
   "metadata": {},
   "outputs": [
    {
     "data": {
      "text/plain": [
       "'N moves: 4; Time: 0.0 seconds.'"
      ]
     },
     "execution_count": 57,
     "metadata": {},
     "output_type": "execute_result"
    }
   ],
   "source": [
    "board, moves = initialState(1)\n",
    "moves_dfs_1, time_dfs_1 = timeToRun(lambda : DFS(board))\n",
    "\"N moves: \"+str(len(moves_dfs_1)) + \"; Time: \" + str(time_dfs_1) + \" seconds.\""
   ]
  },
  {
   "cell_type": "markdown",
   "metadata": {},
   "source": [
    "###### level 2"
   ]
  },
  {
   "cell_type": "code",
   "execution_count": 58,
   "metadata": {},
   "outputs": [
    {
     "data": {
      "text/plain": [
       "'N moves: 9; Time: 0.001001119613647461 seconds.'"
      ]
     },
     "execution_count": 58,
     "metadata": {},
     "output_type": "execute_result"
    }
   ],
   "source": [
    "board, moves = initialState(2)\n",
    "moves_dfs_2, time_dfs_2 = timeToRun(lambda : DFS(board))\n",
    "\"N moves: \"+str(len(moves_dfs_2)) + \"; Time: \" + str(time_dfs_2) + \" seconds.\""
   ]
  },
  {
   "cell_type": "markdown",
   "metadata": {},
   "source": [
    "###### level 3"
   ]
  },
  {
   "cell_type": "code",
   "execution_count": 59,
   "metadata": {},
   "outputs": [
    {
     "data": {
      "text/plain": [
       "'N moves: 13; Time: 0.002005338668823242 seconds.'"
      ]
     },
     "execution_count": 59,
     "metadata": {},
     "output_type": "execute_result"
    }
   ],
   "source": [
    "board, moves = initialState(3)\n",
    "moves_dfs_3, time_dfs_3 = timeToRun(lambda : DFS(board))\n",
    "\"N moves: \"+str(len(moves_dfs_3)) + \"; Time: \" + str(time_dfs_3) + \" seconds.\""
   ]
  },
  {
   "cell_type": "markdown",
   "metadata": {},
   "source": [
    "###### level 4"
   ]
  },
  {
   "cell_type": "code",
   "execution_count": 60,
   "metadata": {},
   "outputs": [
    {
     "data": {
      "text/plain": [
       "'N moves: 9; Time: 0.0009992122650146484 seconds.'"
      ]
     },
     "execution_count": 60,
     "metadata": {},
     "output_type": "execute_result"
    }
   ],
   "source": [
    "board, moves = initialState(4)\n",
    "moves_dfs_4, time_dfs_4 = timeToRun(lambda : DFS(board))\n",
    "\"N moves: \"+str(len(moves_dfs_4)) + \"; Time: \" + str(time_dfs_4) + \" seconds.\""
   ]
  },
  {
   "cell_type": "markdown",
   "metadata": {},
   "source": [
    "###### level 5"
   ]
  },
  {
   "cell_type": "code",
   "execution_count": 62,
   "metadata": {
    "scrolled": true
   },
   "outputs": [
    {
     "data": {
      "text/plain": [
       "'N moves: 29; Time: 0.004000186920166016 seconds.'"
      ]
     },
     "execution_count": 62,
     "metadata": {},
     "output_type": "execute_result"
    }
   ],
   "source": [
    "board, moves = initialState(5)\n",
    "moves_dfs_5, time_dfs_5 = timeToRun(lambda : DFS(board))\n",
    "\"N moves: \"+str(len(moves_dfs_5)) + \"; Time: \" + str(time_dfs_5) + \" seconds.\""
   ]
  },
  {
   "cell_type": "markdown",
   "metadata": {},
   "source": [
    "### No Depth limit and only deal first "
   ]
  },
  {
   "cell_type": "markdown",
   "metadata": {},
   "source": [
    "###### level 0"
   ]
  },
  {
   "cell_type": "code",
   "execution_count": 63,
   "metadata": {},
   "outputs": [
    {
     "data": {
      "text/plain": [
       "'N moves: 2; Time: 0.0 seconds.'"
      ]
     },
     "execution_count": 63,
     "metadata": {},
     "output_type": "execute_result"
    }
   ],
   "source": [
    "board, moves = initialState(0)\n",
    "moves_dfs_DO_0, time_dfs_DO_0 = timeToRun(lambda : DFS(board, shouldDealOnlyFirst=True))\n",
    "\"N moves: \"+str(len(moves_dfs_DO_0)) + \"; Time: \" + str(time_dfs_DO_0) + \" seconds.\""
   ]
  },
  {
   "cell_type": "markdown",
   "metadata": {},
   "source": [
    "###### level 1"
   ]
  },
  {
   "cell_type": "code",
   "execution_count": 65,
   "metadata": {},
   "outputs": [
    {
     "data": {
      "text/plain": [
       "'N moves: 4; Time: 0.0009975433349609375 seconds.'"
      ]
     },
     "execution_count": 65,
     "metadata": {},
     "output_type": "execute_result"
    }
   ],
   "source": [
    "board, moves = initialState(1)\n",
    "moves_dfs_DO_1, time_dfs_DO_1 = timeToRun(lambda : DFS(board, shouldDealOnlyFirst=True))\n",
    "\"N moves: \"+str(len(moves_dfs_DO_1)) + \"; Time: \" + str(time_dfs_DO_1) + \" seconds.\""
   ]
  },
  {
   "cell_type": "markdown",
   "metadata": {},
   "source": [
    "###### level 2"
   ]
  },
  {
   "cell_type": "code",
   "execution_count": 66,
   "metadata": {},
   "outputs": [
    {
     "data": {
      "text/plain": [
       "'N moves: 6; Time: 0.0019991397857666016 seconds.'"
      ]
     },
     "execution_count": 66,
     "metadata": {},
     "output_type": "execute_result"
    }
   ],
   "source": [
    "board, moves = initialState(2)\n",
    "moves_dfs_DO_2, time_dfs_DO_2 = timeToRun(lambda : DFS(board, shouldDealOnlyFirst=True))\n",
    "\"N moves: \"+str(len(moves_dfs_DO_2)) + \"; Time: \" + str(time_dfs_DO_2) + \" seconds.\""
   ]
  },
  {
   "cell_type": "markdown",
   "metadata": {},
   "source": [
    "###### level 3"
   ]
  },
  {
   "cell_type": "code",
   "execution_count": 69,
   "metadata": {},
   "outputs": [
    {
     "data": {
      "text/plain": [
       "'N moves: 13; Time: 0.0019609928131103516 seconds.'"
      ]
     },
     "execution_count": 69,
     "metadata": {},
     "output_type": "execute_result"
    }
   ],
   "source": [
    "board, moves = initialState(3)\n",
    "moves_dfs_DO_3, time_dfs_DO_3 = timeToRun(lambda : DFS(board, shouldDealOnlyFirst=True))\n",
    "\"N moves: \"+str(len(moves_dfs_DO_3)) + \"; Time: \" + str(time_dfs_DO_3) + \" seconds.\""
   ]
  },
  {
   "cell_type": "markdown",
   "metadata": {},
   "source": [
    "###### level 4"
   ]
  },
  {
   "cell_type": "code",
   "execution_count": 70,
   "metadata": {},
   "outputs": [
    {
     "data": {
      "text/plain": [
       "'N moves: 9; Time: 0.0 seconds.'"
      ]
     },
     "execution_count": 70,
     "metadata": {},
     "output_type": "execute_result"
    }
   ],
   "source": [
    "board, moves = initialState(4)\n",
    "moves_dfs_DO_4, time_dfs_DO_4 = timeToRun(lambda : DFS(board, shouldDealOnlyFirst=True))\n",
    "\"N moves: \"+str(len(moves_dfs_DO_4)) + \"; Time: \" + str(time_dfs_DO_4) + \" seconds.\""
   ]
  },
  {
   "cell_type": "markdown",
   "metadata": {},
   "source": [
    "###### level 5"
   ]
  },
  {
   "cell_type": "code",
   "execution_count": 71,
   "metadata": {
    "scrolled": true
   },
   "outputs": [
    {
     "data": {
      "text/plain": [
       "'N moves: 9; Time: 0.0010101795196533203 seconds.'"
      ]
     },
     "execution_count": 71,
     "metadata": {},
     "output_type": "execute_result"
    }
   ],
   "source": [
    "board, moves = initialState(5)\n",
    "moves_dfs_DO_5, time_dfs_DO_5 = timeToRun(lambda : DFS(board, shouldDealOnlyFirst=True))\n",
    "\"N moves: \"+str(len(moves_dfs_DO_5)) + \"; Time: \" + str(time_dfs_DO_5) + \" seconds.\""
   ]
  },
  {
   "cell_type": "markdown",
   "metadata": {},
   "source": [
    "###### level 6"
   ]
  },
  {
   "cell_type": "code",
   "execution_count": 73,
   "metadata": {
    "scrolled": true
   },
   "outputs": [
    {
     "data": {
      "text/plain": [
       "'N moves: 28; Time: 0.04600334167480469 seconds.'"
      ]
     },
     "execution_count": 73,
     "metadata": {},
     "output_type": "execute_result"
    }
   ],
   "source": [
    "board, moves = initialState(6)\n",
    "moves_dfs_DO_6, time_dfs_DO_6 = timeToRun(lambda : DFS(board, shouldDealOnlyFirst=True))\n",
    "\"N moves: \"+str(len(moves_dfs_DO_6)) + \"; Time: \" + str(time_dfs_DO_6) + \" seconds.\""
   ]
  },
  {
   "cell_type": "code",
   "execution_count": 158,
   "metadata": {},
   "outputs": [],
   "source": [
    "dfs_times = [time_dfs_0,time_dfs_1,time_dfs_2,time_dfs_3,time_dfs_4,time_dfs_5]\n",
    "dfs_DO_times = [time_dfs_DO_0,time_dfs_DO_1,time_dfs_DO_2,time_dfs_DO_3,time_dfs_DO_4,time_dfs_DO_5,time_dfs_DO_6]\n",
    "\n",
    "dfs_moves = [moves_dfs_0,moves_dfs_1,moves_dfs_2,moves_dfs_3,moves_dfs_4,moves_dfs_5]\n",
    "dfs_DO_moves = [moves_dfs_DO_0,moves_dfs_DO_1,moves_dfs_DO_2,moves_dfs_DO_3,moves_dfs_DO_4,moves_dfs_DO_5,moves_dfs_DO_6]"
   ]
  },
  {
   "cell_type": "code",
   "execution_count": 155,
   "metadata": {},
   "outputs": [
    {
     "data": {
      "image/png": "[encoded data removed]",
      "text/plain": [
       "<Figure size 432x288 with 1 Axes>"
      ]
     },
     "metadata": {
      "needs_background": "light"
     },
     "output_type": "display_data"
    }
   ],
   "source": [
    "plt.plot(range(len(dfs_times)),dfs_times, label=\"DFS\")\n",
    "plt.plot(range(len(dfs_DO_times[:6])),dfs_DO_times[:6], label=\"DFS oneDeal\")\n",
    "plt.legend(loc=\"upper left\")\n",
    "plt.xlabel('Level')\n",
    "plt.ylabel('Time (secs)')\n",
    "plt.show()"
   ]
  },
  {
   "cell_type": "code",
   "execution_count": 156,
   "metadata": {},
   "outputs": [
    {
     "data": {
      "image/png": "[encoded data removed]",
      "text/plain": [
       "<Figure size 432x288 with 1 Axes>"
      ]
     },
     "metadata": {
      "needs_background": "light"
     },
     "output_type": "display_data"
    }
   ],
   "source": [
    "plt.plot(range(len(dfs_times)),dfs_times, label=\"DFS\")\n",
    "plt.plot(range(len(dfs_DO_times)),dfs_DO_times, label=\"DFS oneDeal\")\n",
    "plt.legend(loc=\"upper left\")\n",
    "plt.xlabel('Level')\n",
    "plt.ylabel('Time (secs)')\n",
    "plt.show()"
   ]
  },
  {
   "cell_type": "code",
   "execution_count": 160,
   "metadata": {},
   "outputs": [
    {
     "data": {
      "image/png": "[encoded data removed]",
      "text/plain": [
       "<Figure size 432x288 with 1 Axes>"
      ]
     },
     "metadata": {
      "needs_background": "light"
     },
     "output_type": "display_data"
    }
   ],
   "source": [
    "plt.bar(['0','1','2','3','4','5'], [len(moves) for moves in dfs_moves] , color=\"gold\", label=\"DFS\")\n",
    "plt.bar(['0','1','2','3','4','5','6(DFS oneDeal)'],[len(moves) for moves in dfs_DO_moves], label=\"DFS oneDeal\", color=\"maroon\")\n",
    "plt.legend(loc=\"upper left\")\n",
    "plt.xlabel(\"Level\")\n",
    "plt.ylabel(\"Moves\")\n",
    "plt.show()"
   ]
  },
  {
   "cell_type": "markdown",
   "metadata": {},
   "source": [
    "## Iterative Deepening"
   ]
  },
  {
   "cell_type": "markdown",
   "metadata": {},
   "source": [
    "###### level 0"
   ]
  },
  {
   "cell_type": "code",
   "execution_count": 161,
   "metadata": {},
   "outputs": [
    {
     "data": {
      "text/plain": [
       "'N moves: 2; Time: 0.00016011714935302735 seconds.'"
      ]
     },
     "execution_count": 161,
     "metadata": {},
     "output_type": "execute_result"
    }
   ],
   "source": [
    "board, moves = initialState(0)\n",
    "moves_idep_0, time_idep_0 = timeToRun(lambda : IDDFS(board, 27))\n",
    "\"N moves: \"+str(len(moves_idep_0)) + \"; Time: \" + str(time_idep_0) + \" seconds.\""
   ]
  },
  {
   "cell_type": "markdown",
   "metadata": {},
   "source": [
    "###### level 1"
   ]
  },
  {
   "cell_type": "code",
   "execution_count": 162,
   "metadata": {},
   "outputs": [
    {
     "data": {
      "text/plain": [
       "'N moves: 4; Time: 0.0014400339126586913 seconds.'"
      ]
     },
     "execution_count": 162,
     "metadata": {},
     "output_type": "execute_result"
    }
   ],
   "source": [
    "board, moves = initialState(1)\n",
    "moves_idep_1, time_idep_1 = timeToRun(lambda : IDDFS(board, 10))\n",
    "\"N moves: \"+str(len(moves_idep_1)) + \"; Time: \" + str(time_idep_1) + \" seconds.\""
   ]
  },
  {
   "cell_type": "markdown",
   "metadata": {},
   "source": [
    "###### level 2"
   ]
  },
  {
   "cell_type": "code",
   "execution_count": 74,
   "metadata": {},
   "outputs": [
    {
     "data": {
      "text/plain": [
       "'N moves: 6; Time: 14.297888040542603 seconds.'"
      ]
     },
     "execution_count": 74,
     "metadata": {},
     "output_type": "execute_result"
    }
   ],
   "source": [
    "board, moves = initialState(2)\n",
    "moves_idep_2, time_idep_2 = timeToRun(lambda : IDDFS(board, 10))\n",
    "\"N moves: \"+str(len(moves_idep_2)) + \"; Time: \" + str(time_idep_2) + \" seconds.\""
   ]
  },
  {
   "cell_type": "code",
   "execution_count": 169,
   "metadata": {},
   "outputs": [],
   "source": [
    "idep_times = [time_idep_0, time_idep_1, time_idep_2]\n",
    "idep_moves = [moves_idep_0, moves_idep_1, moves_idep_2]"
   ]
  },
  {
   "cell_type": "code",
   "execution_count": 170,
   "metadata": {},
   "outputs": [
    {
     "data": {
      "image/png": "[encoded data removed]",
      "text/plain": [
       "<Figure size 432x288 with 1 Axes>"
      ]
     },
     "metadata": {
      "needs_background": "light"
     },
     "output_type": "display_data"
    }
   ],
   "source": [
    "plt.plot(range(len(idep_times)),idep_times, label=\"Iterative deepening\")\n",
    "plt.legend(loc=\"upper left\")\n",
    "plt.xlabel('Level')\n",
    "plt.ylabel('Time (secs)')\n",
    "plt.show()"
   ]
  },
  {
   "cell_type": "code",
   "execution_count": 171,
   "metadata": {},
   "outputs": [
    {
     "data": {
      "image/png": "[encoded data removed]",
      "text/plain": [
       "<Figure size 432x288 with 1 Axes>"
      ]
     },
     "metadata": {
      "needs_background": "light"
     },
     "output_type": "display_data"
    }
   ],
   "source": [
    "plt.bar(range(len(idep_moves)), [len(moves) for moves in idep_moves], label=\"Iterative deepening\")\n",
    "plt.legend(loc=\"upper left\")\n",
    "plt.xlabel(\"Level\")\n",
    "plt.ylabel(\"Moves\")\n",
    "plt.show()"
   ]
  },
  {
   "cell_type": "markdown",
   "metadata": {},
   "source": [
    "## A*"
   ]
  },
  {
   "cell_type": "markdown",
   "metadata": {},
   "source": [
    "###### level 0"
   ]
  },
  {
   "cell_type": "code",
   "execution_count": 92,
   "metadata": {},
   "outputs": [
    {
     "data": {
      "text/plain": [
       "'N moves: 2; Time: 0.0003192043304443359 seconds.'"
      ]
     },
     "execution_count": 92,
     "metadata": {},
     "output_type": "execute_result"
    }
   ],
   "source": [
    "board, moves = initialState(0)\n",
    "moves_astar_0, time_astar_0 = timeToRun(lambda : aStar(board))\n",
    "\"N moves: \"+str(len(moves_astar_0)) + \"; Time: \" + str(time_astar_0) + \" seconds.\""
   ]
  },
  {
   "cell_type": "markdown",
   "metadata": {},
   "source": [
    "###### level 1"
   ]
  },
  {
   "cell_type": "code",
   "execution_count": 93,
   "metadata": {},
   "outputs": [
    {
     "data": {
      "text/plain": [
       "'N moves: 4; Time: 0.00025995731353759764 seconds.'"
      ]
     },
     "execution_count": 93,
     "metadata": {},
     "output_type": "execute_result"
    }
   ],
   "source": [
    "board, moves = initialState(1)\n",
    "moves_astar_1, time_astar_1 = timeToRun(lambda : aStar(board))\n",
    "\"N moves: \"+str(len(moves_astar_1)) + \"; Time: \" + str(time_astar_1) + \" seconds.\""
   ]
  },
  {
   "cell_type": "markdown",
   "metadata": {},
   "source": [
    "###### level 2"
   ]
  },
  {
   "cell_type": "code",
   "execution_count": 94,
   "metadata": {},
   "outputs": [
    {
     "data": {
      "text/plain": [
       "'N moves: 6; Time: 0.004039859771728516 seconds.'"
      ]
     },
     "execution_count": 94,
     "metadata": {},
     "output_type": "execute_result"
    }
   ],
   "source": [
    "board, moves = initialState(2)\n",
    "moves_astar_2, time_astar_2 = timeToRun(lambda : aStar(board))\n",
    "\"N moves: \"+str(len(moves_astar_2)) + \"; Time: \" + str(time_astar_2) + \" seconds.\""
   ]
  },
  {
   "cell_type": "markdown",
   "metadata": {},
   "source": [
    "###### level 3"
   ]
  },
  {
   "cell_type": "code",
   "execution_count": 99,
   "metadata": {},
   "outputs": [
    {
     "data": {
      "text/plain": [
       "'N moves: 13; Time: 0.03197999954223633 seconds.'"
      ]
     },
     "execution_count": 99,
     "metadata": {},
     "output_type": "execute_result"
    }
   ],
   "source": [
    "board, moves = initialState(3)\n",
    "moves_astar_3, time_astar_3 = timeToRun(lambda : aStar(board))\n",
    "\"N moves: \"+str(len(moves_astar_3)) + \"; Time: \" + str(time_astar_3) + \" seconds.\""
   ]
  },
  {
   "cell_type": "markdown",
   "metadata": {},
   "source": [
    "###### level 4"
   ]
  },
  {
   "cell_type": "code",
   "execution_count": 96,
   "metadata": {},
   "outputs": [
    {
     "data": {
      "text/plain": [
       "'N moves: 9; Time: 0.005200715065002442 seconds.'"
      ]
     },
     "execution_count": 96,
     "metadata": {},
     "output_type": "execute_result"
    }
   ],
   "source": [
    "board, moves = initialState(4)\n",
    "moves_astar_4, time_astar_4 = timeToRun(lambda : aStar(board))\n",
    "\"N moves: \"+str(len(moves_astar_4)) + \"; Time: \" + str(time_astar_4) + \" seconds.\""
   ]
  },
  {
   "cell_type": "markdown",
   "metadata": {},
   "source": [
    "###### level 5"
   ]
  },
  {
   "cell_type": "code",
   "execution_count": 97,
   "metadata": {},
   "outputs": [
    {
     "data": {
      "text/plain": [
       "'N moves: 9; Time: 0.01404005527496338 seconds.'"
      ]
     },
     "execution_count": 97,
     "metadata": {},
     "output_type": "execute_result"
    }
   ],
   "source": [
    "board, moves = initialState(5)\n",
    "moves_astar_5, time_astar_5 = timeToRun(lambda : aStar(board))\n",
    "\"N moves: \"+str(len(moves_astar_5)) + \"; Time: \" + str(time_astar_5) + \" seconds.\""
   ]
  },
  {
   "cell_type": "markdown",
   "metadata": {},
   "source": [
    "###### level 6"
   ]
  },
  {
   "cell_type": "code",
   "execution_count": null,
   "metadata": {},
   "outputs": [],
   "source": [
    "board, moves = initialState(6)\n",
    "moves_astar_6, time_astar_6 = timeToRun(lambda : aStar(board))\n",
    "\"N moves: \"+str(len(moves_astar_6)) + \"; Time: \" + str(time_astar_6) + \" seconds.\""
   ]
  },
  {
   "cell_type": "code",
   "execution_count": 172,
   "metadata": {},
   "outputs": [],
   "source": [
    "astar_times = [time_astar_0,time_astar_1,time_astar_2,time_astar_3,time_astar_4,time_astar_5]\n",
    "astar_moves = [moves_astar_0, moves_astar_1,moves_astar_2,moves_astar_3,moves_astar_4,moves_astar_5]"
   ]
  },
  {
   "cell_type": "code",
   "execution_count": 173,
   "metadata": {},
   "outputs": [
    {
     "data": {
      "image/png": "[encoded data removed]",
      "text/plain": [
       "<Figure size 432x288 with 1 Axes>"
      ]
     },
     "metadata": {
      "needs_background": "light"
     },
     "output_type": "display_data"
    }
   ],
   "source": [
    "plt.plot(range(len(astar_times)), astar_times, label=\"A*\")\n",
    "plt.legend(loc=\"upper left\")\n",
    "plt.xlabel('Level')\n",
    "plt.ylabel('Time (secs)')\n",
    "plt.show()"
   ]
  },
  {
   "cell_type": "code",
   "execution_count": 174,
   "metadata": {},
   "outputs": [
    {
     "data": {
      "image/png": "[encoded data removed]",
      "text/plain": [
       "<Figure size 432x288 with 1 Axes>"
      ]
     },
     "metadata": {
      "needs_background": "light"
     },
     "output_type": "display_data"
    }
   ],
   "source": [
    "plt.bar(range(len(astar_moves)),[len(move) for move in astar_moves], color=\"maroon\")\n",
    "plt.xlabel(\"Level\")\n",
    "plt.ylabel(\"Moves\")\n",
    "plt.show()"
   ]
  },
  {
   "cell_type": "code",
   "execution_count": 186,
   "metadata": {},
   "outputs": [
    {
     "data": {
      "image/png": "[encoded data removed]",
      "text/plain": [
       "<Figure size 432x288 with 1 Axes>"
      ]
     },
     "metadata": {
      "needs_background": "light"
     },
     "output_type": "display_data"
    }
   ],
   "source": [
    "plt.plot(range(len(bfs_times)),bfs_times, label=\"BFS\")\n",
    "plt.plot(range(len(bfs_NR_times)),bfs_NR_times,label=\"BFS noRepeat\")\n",
    "plt.plot(range(len(bfs_DO_times)),bfs_DO_times,label=\"BFS oneDeal\")\n",
    "plt.plot(range(len(bfs_NR_DO_times)),bfs_NR_DO_times,label=\"BFS noRepeat oneDeal\")\n",
    "plt.plot(range(len(dfs_times)),dfs_times, label=\"DFS\")\n",
    "plt.plot(range(len(dfs_DO_times)),dfs_DO_times, label=\"DFS oneDeal\")\n",
    "plt.plot(range(len(idep_times)),idep_times, label=\"Iterative deepening\")\n",
    "plt.plot(range(len(astar_times)), astar_times, label=\"A*\")\n",
    "plt.legend(loc=\"upper right\")\n",
    "plt.xlabel('Level')\n",
    "plt.ylabel('Time (secs)')\n",
    "plt.show()"
   ]
  },
  {
   "cell_type": "code",
   "execution_count": 182,
   "metadata": {},
   "outputs": [
    {
     "data": {
      "image/png": "[encoded data removed]",
      "text/plain": [
       "<Figure size 432x288 with 1 Axes>"
      ]
     },
     "metadata": {
      "needs_background": "light"
     },
     "output_type": "display_data"
    }
   ],
   "source": [
    "plt.bar(range(len(bfs_moves)), [len(moves) for moves in bfs_moves], label=\"BFS\")\n",
    "plt.bar(range(len(dfs_moves)), [len(moves) for moves in dfs_moves], label=\"DFS\")\n",
    "plt.bar(range(len(dfs_DO_moves)), [len(moves) for moves in dfs_DO_moves], label=\"DFS oneDeal\")\n",
    "plt.bar(range(len(idep_moves)), [len(moves) for moves in idep_moves], label=\"Iterative deepening\")\n",
    "plt.bar(range(len(astar_moves)),[len(move) for move in astar_moves], label=\"A*\")\n",
    "plt.legend(loc=\"upper left\")\n",
    "plt.xlabel(\"Level\")\n",
    "plt.ylabel(\"Moves\")\n",
    "plt.show()"
   ]
  }
 ],
 "metadata": {
  "kernelspec": {
   "display_name": "Python 3",
   "language": "python",
   "name": "python3"
  },
  "language_info": {
   "codemirror_mode": {
    "name": "ipython",
    "version": 3
   },
   "file_extension": ".py",
   "mimetype": "text/x-python",
   "name": "python",
   "nbconvert_exporter": "python",
   "pygments_lexer": "ipython3",
   "version": "3.7.10"
  }
 },
 "nbformat": 4,
 "nbformat_minor": 2
}

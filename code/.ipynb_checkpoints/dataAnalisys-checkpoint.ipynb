{
 "cells": [
  {
   "cell_type": "markdown",
   "metadata": {},
   "source": [
    "### Imports"
   ]
  },
  {
   "cell_type": "code",
   "execution_count": 10,
   "metadata": {},
   "outputs": [],
   "source": [
    "%matplotlib inline\n",
    "import matplotlib.pyplot  as plt\n",
    "from ai import *\n",
    "from tenpair import *\n",
    "from time import time\n",
    "from bfs import BFS\n",
    "from dfs import DFS\n",
    "from itdep import IDDFS\n",
    "from greedy import greedy\n",
    "from astar import aStar"
   ]
  },
  {
   "cell_type": "markdown",
   "metadata": {},
   "source": [
    "# Uninformed Search"
   ]
  },
  {
   "cell_type": "markdown",
   "metadata": {},
   "source": [
    "## BFS"
   ]
  },
  {
   "cell_type": "markdown",
   "metadata": {},
   "source": [
    "### Visiting repeated Nodes and Always dealing"
   ]
  },
  {
   "cell_type": "code",
   "execution_count": 2,
   "metadata": {},
   "outputs": [
    {
     "name": "stdout",
     "output_type": "stream",
     "text": [
      "6 5.133563756942749\n",
      "5 0.9715514183044434\n",
      "6 9.114855289459229\n",
      "5 10.44800329208374\n",
      "5 57.270751953125\n"
     ]
    }
   ],
   "source": [
    "costs_bfs = []\n",
    "times_bfs = []\n",
    "for level in range(5):\n",
    "    board, moves = initialState(level)\n",
    "    moves, cost, time_s = timeToRun(lambda : BFS(board))\n",
    "    costs_bfs.append(cost)\n",
    "    times_bfs.append(time_s)\n",
    "    print(cost,time_s)"
   ]
  },
  {
   "cell_type": "markdown",
   "metadata": {},
   "source": [
    "### Not Repeating Nodes and Always Dealing"
   ]
  },
  {
   "cell_type": "code",
   "execution_count": 3,
   "metadata": {},
   "outputs": [
    {
     "name": "stdout",
     "output_type": "stream",
     "text": [
      "6 7.361503601074219\n",
      "5 0.20048236846923828\n",
      "6 58.06723165512085\n",
      "5 69.85517644882202\n",
      "5 782.5479981899261\n"
     ]
    }
   ],
   "source": [
    "costs_bfs_NR = []\n",
    "times_bfs_NR = []\n",
    "for level in range(5):\n",
    "    board, moves = initialState(level)\n",
    "    moves, cost, time_s = timeToRun(lambda : BFS(board, True))\n",
    "    costs_bfs_NR.append(cost)\n",
    "    times_bfs_NR.append(time_s)\n",
    "    print(cost,time_s)  "
   ]
  },
  {
   "cell_type": "markdown",
   "metadata": {},
   "source": [
    "### Repeating Nodes and Dealing only on the first move"
   ]
  },
  {
   "cell_type": "code",
   "execution_count": 4,
   "metadata": {},
   "outputs": [
    {
     "name": "stdout",
     "output_type": "stream",
     "text": [
      "6 0.027997732162475586\n",
      "6 0.0060079097747802734\n",
      "8 0.21869730949401855\n",
      "6 0.06897926330566406\n",
      "8 23.728170156478882\n"
     ]
    }
   ],
   "source": [
    "costs_bfs_DO = []\n",
    "times_bfs_DO = []\n",
    "for level in range(5):\n",
    "    board, moves = initialState(level)\n",
    "    moves, cost, time_s = timeToRun(lambda : BFS(board, shouldDealOnlyFirst=True))\n",
    "    costs_bfs_DO.append(cost)\n",
    "    times_bfs_DO.append(time_s)\n",
    "    print(cost,time_s)"
   ]
  },
  {
   "cell_type": "markdown",
   "metadata": {},
   "source": [
    "### Not Repeating and Dealing only on the first move"
   ]
  },
  {
   "cell_type": "code",
   "execution_count": 5,
   "metadata": {},
   "outputs": [
    {
     "name": "stdout",
     "output_type": "stream",
     "text": [
      "6 0.002002239227294922\n",
      "6 0.002003192901611328\n",
      "8 0.013998270034790039\n",
      "6 0.022003173828125\n",
      "8 0.10351300239562988\n"
     ]
    }
   ],
   "source": [
    "costs_bfs_NR_DO = []\n",
    "times_bfs_NR_DO = []\n",
    "for level in range(5):\n",
    "    board, moves = initialState(level)\n",
    "    moves, cost, time_s = timeToRun(lambda : BFS(board, True, True))\n",
    "    costs_bfs_NR_DO.append(cost)\n",
    "    times_bfs_NR_DO.append(time_s)\n",
    "    print(cost,time_s)"
   ]
  },
  {
   "cell_type": "markdown",
   "metadata": {},
   "source": [
    "## DFS"
   ]
  },
  {
   "cell_type": "markdown",
   "metadata": {},
   "source": [
    "### Always dealing"
   ]
  },
  {
   "cell_type": "code",
   "execution_count": 6,
   "metadata": {},
   "outputs": [
    {
     "name": "stdout",
     "output_type": "stream",
     "text": [
      "19 0.004997968673706055\n",
      "11 0.0010008811950683594\n",
      "7 0.0\n",
      "8 0.0\n",
      "7 0.0\n"
     ]
    }
   ],
   "source": [
    "costs_dfs = []\n",
    "times_dfs = []\n",
    "for level in range(5):\n",
    "    board, moves = initialState(level)\n",
    "    moves, cost, time_s = timeToRun(lambda : DFS(board))\n",
    "    costs_dfs.append(cost)\n",
    "    times_dfs.append(time_s)\n",
    "    print(cost,time_s)"
   ]
  },
  {
   "cell_type": "markdown",
   "metadata": {},
   "source": [
    "### Only deal first "
   ]
  },
  {
   "cell_type": "code",
   "execution_count": 7,
   "metadata": {},
   "outputs": [
    {
     "name": "stdout",
     "output_type": "stream",
     "text": [
      "6 0.0\n",
      "6 0.0\n",
      "8 0.0\n",
      "6 0.015544891357421875\n",
      "8 0.006865739822387695\n"
     ]
    }
   ],
   "source": [
    "costs_dfs_DO = []\n",
    "times_dfs_DO = []\n",
    "for level in range(5):\n",
    "    board, moves = initialState(level)\n",
    "    moves, cost, time_s = timeToRun(lambda : DFS(board, shouldDealOnlyFirst=True))\n",
    "    costs_dfs_DO.append(cost)\n",
    "    times_dfs_DO.append(time_s)\n",
    "    print(cost,time_s)"
   ]
  },
  {
   "cell_type": "markdown",
   "metadata": {},
   "source": [
    "## Iterative Deepening"
   ]
  },
  {
   "cell_type": "code",
   "execution_count": 25,
   "metadata": {},
   "outputs": [
    {
     "name": "stdout",
     "output_type": "stream",
     "text": [
      "6 0.17361092567443848\n",
      "5 0.0070149898529052734\n",
      "6 0.2787814140319824\n",
      "5 2.8586366176605225\n",
      "5 0.9647476673126221\n"
     ]
    }
   ],
   "source": [
    "costs_idep = []\n",
    "times_idep = []\n",
    "for level in range(5):\n",
    "    board, moves = initialState(level)\n",
    "    moves, cost, time_s = timeToRun(lambda : IDDFS(board,10))\n",
    "    costs_idep.append(cost)\n",
    "    times_idep.append(time_s)\n",
    "    print(cost,time_s)"
   ]
  },
  {
   "cell_type": "markdown",
   "metadata": {},
   "source": [
    "## Greedy Search"
   ]
  },
  {
   "cell_type": "code",
   "execution_count": 24,
   "metadata": {},
   "outputs": [
    {
     "name": "stdout",
     "output_type": "stream",
     "text": [
      "6 0.002040386199951172\n",
      "5 0.0009942054748535156\n",
      "6 0.0009975433349609375\n",
      "5 0.0019965171813964844\n",
      "5 0.0030126571655273438\n",
      "28 0.08299589157104492\n",
      "14 0.0070879459381103516\n",
      "49 0.5528280735015869\n",
      "41 0.5141162872314453\n"
     ]
    }
   ],
   "source": [
    "costs_greedy = []\n",
    "times_greedy = []\n",
    "for level in range(9):\n",
    "    board, moves = initialState(level)\n",
    "    moves, cost, time_s = timeToRun(lambda : greedy(board))\n",
    "    costs_greedy.append(cost)\n",
    "    times_greedy.append(time_s)\n",
    "    print(cost,time_s)"
   ]
  },
  {
   "cell_type": "markdown",
   "metadata": {},
   "source": [
    "## A*"
   ]
  },
  {
   "cell_type": "code",
   "execution_count": 13,
   "metadata": {},
   "outputs": [
    {
     "name": "stdout",
     "output_type": "stream",
     "text": [
      "6 0.004965066909790039\n",
      "5 0.001035928726196289\n",
      "6 0.0009686946868896484\n",
      "5 0.0019969940185546875\n",
      "5 0.002001523971557617\n",
      "15 0.13148713111877441\n",
      "13 1.3988008499145508\n",
      "21 43.840496301651\n",
      "25 563.4844348430634\n"
     ]
    }
   ],
   "source": [
    "costs_astar = []\n",
    "times_astar = []\n",
    "for level in range(9):\n",
    "    board, moves = initialState(level)\n",
    "    moves, cost, time_s = timeToRun(lambda : aStar(board))\n",
    "    costs_astar.append(cost)\n",
    "    times_astar.append(time_s)\n",
    "    print(cost,time_s)"
   ]
  },
  {
   "cell_type": "code",
   "execution_count": 37,
   "metadata": {},
   "outputs": [
    {
     "data": {
      "image/png": "[encoded data removed]",
      "text/plain": [
       "<Figure size 432x288 with 1 Axes>"
      ]
     },
     "metadata": {
      "needs_background": "light"
     },
     "output_type": "display_data"
    }
   ],
   "source": [
    "plt.plot(range(5), times_bfs, label=\"BFS\")\n",
    "plt.plot(range(5), times_bfs_DO, label=\"BFS DO\")\n",
    "plt.plot(range(5), times_bfs_NR, label=\"BFS NR\")\n",
    "plt.plot(range(5), times_bfs_NR_DO, label=\"BFS DO NR\")\n",
    "plt.plot(range(5), times_dfs, label=\"DFS\")\n",
    "plt.plot(range(5), times_dfs_DO, label=\"DFS DO\")\n",
    "plt.plot(range(5), times_idep, label=\"IDEP\")\n",
    "plt.plot(range(5), times_greedy[:5], label=\"GREEDY\")\n",
    "plt.plot(range(5), times_astar[:5], label=\"A*\")\n",
    "plt.title(\"All algorithms time comparison\")\n",
    "plt.legend(loc=\"upper left\")\n",
    "plt.xlabel(\"Level\")\n",
    "plt.ylabel(\"Time (seconds)\")\n",
    "plt.show()"
   ]
  },
  {
   "cell_type": "code",
   "execution_count": 38,
   "metadata": {},
   "outputs": [
    {
     "data": {
      "image/png": "[encoded data removed]",
      "text/plain": [
       "<Figure size 432x288 with 1 Axes>"
      ]
     },
     "metadata": {
      "needs_background": "light"
     },
     "output_type": "display_data"
    }
   ],
   "source": [
    "plt.plot(range(5), times_bfs, label=\"BFS\")\n",
    "plt.plot(range(5), times_bfs_DO, label=\"BFS DO\")\n",
    "plt.plot(range(5), times_bfs_NR, label=\"BFS NR\")\n",
    "plt.plot(range(5), times_bfs_NR_DO, label=\"BFS DO NR\")\n",
    "plt.plot(range(5), times_dfs, label=\"DFS\")\n",
    "plt.plot(range(5), times_dfs_DO, label=\"DFS DO\")\n",
    "plt.plot(range(5), times_idep, label=\"IDEP\")\n",
    "plt.title(\"Informed algorithms time comparison\")\n",
    "plt.legend(loc=\"upper left\")\n",
    "plt.xlabel(\"Level\")\n",
    "plt.ylabel(\"Time (seconds)\")\n",
    "plt.show()"
   ]
  },
  {
   "cell_type": "code",
   "execution_count": 42,
   "metadata": {},
   "outputs": [
    {
     "data": {
      "image/png": "[encoded data removed]",
      "text/plain": [
       "<Figure size 432x288 with 1 Axes>"
      ]
     },
     "metadata": {
      "needs_background": "light"
     },
     "output_type": "display_data"
    }
   ],
   "source": [
    "plt.plot(range(5), times_greedy[:5], label=\"GREEDY\")\n",
    "plt.plot(range(5), times_astar[:5], label=\"A*\")\n",
    "plt.title(\"Informed algorithms time comparison levels 1 - 5\")\n",
    "plt.legend(loc=\"upper left\")\n",
    "plt.xlabel(\"Level\")\n",
    "plt.ylabel(\"Time (seconds)\")\n",
    "plt.show()"
   ]
  },
  {
   "cell_type": "code",
   "execution_count": 49,
   "metadata": {},
   "outputs": [
    {
     "data": {
      "image/png": "[encoded data removed]",
      "text/plain": [
       "<Figure size 432x288 with 1 Axes>"
      ]
     },
     "metadata": {
      "needs_background": "light"
     },
     "output_type": "display_data"
    }
   ],
   "source": [
    "plt.plot(range(3), times_greedy[6:], label=\"GREEDY\")\n",
    "plt.plot(range(3), times_astar[6:], label=\"A*\")\n",
    "plt.title(\"Informed algorithms time comparison levels 6 - 9\")\n",
    "plt.legend(loc=\"upper left\")\n",
    "plt.xlabel(\"Level\")\n",
    "plt.ylabel(\"Time (seconds)\")\n",
    "plt.show()"
   ]
  },
  {
   "cell_type": "markdown",
   "metadata": {},
   "source": [
    " "
   ]
  },
  {
   "cell_type": "markdown",
   "metadata": {},
   "source": [
    "  "
   ]
  },
  {
   "cell_type": "markdown",
   "metadata": {},
   "source": [
    "astar_times = [time_astar_0,time_astar_1,time_astar_2,time_astar_3,time_astar_4,time_astar_5]\n",
    "astar_moves = [moves_astar_0, moves_astar_1,moves_astar_2,moves_astar_3,moves_astar_4,moves_astar_5]"
   ]
  },
  {
   "cell_type": "markdown",
   "metadata": {},
   "source": [
    "plt.plot(range(len(astar_times)), astar_times, label=\"A*\")\n",
    "plt.legend(loc=\"upper left\")\n",
    "plt.xlabel('Level')\n",
    "plt.ylabel('Time (secs)')\n",
    "plt.show()"
   ]
  },
  {
   "cell_type": "markdown",
   "metadata": {},
   "source": [
    "plt.bar(range(len(astar_moves)),[len(move) for move in astar_moves], color=\"maroon\")\n",
    "plt.xlabel(\"Level\")\n",
    "plt.ylabel(\"Moves\")\n",
    "plt.show()"
   ]
  },
  {
   "cell_type": "markdown",
   "metadata": {},
   "source": [
    "plt.plot(range(len(bfs_times)),bfs_times, label=\"BFS\")\n",
    "plt.plot(range(len(bfs_NR_times)),bfs_NR_times,label=\"BFS noRepeat\")\n",
    "plt.plot(range(len(bfs_DO_times)),bfs_DO_times,label=\"BFS oneDeal\")\n",
    "plt.plot(range(len(bfs_NR_DO_times)),bfs_NR_DO_times,label=\"BFS noRepeat oneDeal\")\n",
    "plt.plot(range(len(dfs_times)),dfs_times, label=\"DFS\")\n",
    "plt.plot(range(len(dfs_DO_times)),dfs_DO_times, label=\"DFS oneDeal\")\n",
    "plt.plot(range(len(idep_times)),idep_times, label=\"Iterative deepening\")\n",
    "plt.plot(range(len(astar_times)), astar_times, label=\"A*\")\n",
    "plt.legend(loc=\"upper right\")\n",
    "plt.xlabel('Level')\n",
    "plt.ylabel('Time (secs)')\n",
    "plt.show()"
   ]
  },
  {
   "cell_type": "markdown",
   "metadata": {},
   "source": [
    "plt.bar(range(len(bfs_moves)), [len(moves) for moves in bfs_moves], label=\"BFS\")\n",
    "plt.bar(range(len(dfs_moves)), [len(moves) for moves in dfs_moves], label=\"DFS\")\n",
    "plt.bar(range(len(dfs_DO_moves)), [len(moves) for moves in dfs_DO_moves], label=\"DFS oneDeal\")\n",
    "plt.bar(range(len(idep_moves)), [len(moves) for moves in idep_moves], label=\"Iterative deepening\")\n",
    "plt.bar(range(len(astar_moves)),[len(move) for move in astar_moves], label=\"A*\")\n",
    "plt.legend(loc=\"upper left\")\n",
    "plt.xlabel(\"Level\")\n",
    "plt.ylabel(\"Moves\")\n",
    "plt.show()"
   ]
  },
  {
   "cell_type": "markdown",
   "metadata": {},
   "source": [
    "plt.bar(range(len(idep_moves)), [len(moves) for moves in idep_moves], label=\"Iterative deepening\")\n",
    "plt.legend(loc=\"upper left\")\n",
    "plt.xlabel(\"Level\")\n",
    "plt.ylabel(\"Moves\")\n",
    "plt.show()"
   ]
  },
  {
   "cell_type": "markdown",
   "metadata": {},
   "source": [
    "bfs_times = [time_bfs_0,time_bfs_1]\n",
    "bfs_NR_times = [time_bfs_NR_0,time_bfs_NR_1]\n",
    "bfs_DO_times = [time_bfs_DO_0,time_bfs_DO_1]\n",
    "bfs_NR_DO_times = [time_bfs_NR_DO_0,time_bfs_NR_DO_1,time_bfs_NR_DO_2,time_bfs_NR_DO_3]\n",
    "\n",
    "bfs_moves = [moves_bfs_0,moves_bfs_1]\n",
    "bfs_NR_moves = [moves_bfs_NR_0,moves_bfs_NR_1]\n",
    "bfs_DO_moves = [moves_bfs_DO_0,moves_bfs_DO_1]\n",
    "bfs_NR_DO_moves = [moves_bfs_NR_DO_0,moves_bfs_NR_DO_1,moves_bfs_NR_DO_2,moves_bfs_NR_DO_3]"
   ]
  },
  {
   "cell_type": "markdown",
   "metadata": {},
   "source": [
    "plt.plot(range(len(bfs_times)),bfs_times, label=\"BFS\")\n",
    "plt.plot(range(len(bfs_NR_times)),bfs_NR_times,label=\"BFS noRepeat\")\n",
    "plt.plot(range(len(bfs_DO_times)),bfs_DO_times,label=\"BFS oneDeal\")\n",
    "plt.plot(range(len(bfs_NR_DO_times[:2])),bfs_NR_DO_times[:2],label=\"BFS noRepeat oneDeal\")\n",
    "plt.legend(loc=\"upper left\")\n",
    "plt.xlabel('Level')\n",
    "plt.ylabel('Time (secs)')\n",
    "plt.show()"
   ]
  },
  {
   "cell_type": "markdown",
   "metadata": {},
   "source": [
    "plt.plot(range(len(bfs_times)),bfs_times, label=\"BFS\")\n",
    "plt.plot(range(len(bfs_NR_times)),bfs_NR_times,label=\"BFS noRepeat\")\n",
    "plt.plot(range(len(bfs_DO_times)),bfs_DO_times,label=\"BFS oneDeal\")\n",
    "plt.plot(range(len(bfs_NR_DO_times)),bfs_NR_DO_times,label=\"BFS noRepeat oneDeal\")\n",
    "plt.legend(loc=\"upper left\")\n",
    "plt.xlabel('Level')\n",
    "plt.ylabel('Time (secs)')\n",
    "plt.show()"
   ]
  },
  {
   "cell_type": "markdown",
   "metadata": {},
   "source": [
    "plt.bar(range(len(bfs_moves)), [len(moves) for moves in bfs_moves], label=\"BFS\")\n",
    "plt.bar(range(len(bfs_NR_moves)), [len(moves) for moves in bfs_NR_moves], label=\"BFS noRepeat\")\n",
    "plt.bar(range(len(bfs_DO_moves)), [len(moves) for moves in bfs_DO_moves], label=\"BFS noRepeat\")\n",
    "plt.bar(range(len(bfs_NR_DO_moves)),[len(moves) for moves in bfs_NR_DO_moves], label=\"BFS noRepeat oneDeal\")\n",
    "plt.legend(loc=\"upper left\")\n",
    "plt.xlabel(\"Level\")\n",
    "plt.ylabel(\"Moves\")\n",
    "plt.show()"
   ]
  },
  {
   "cell_type": "markdown",
   "metadata": {},
   "source": [
    "idep_times = [time_idep_0, time_idep_1, time_idep_2]\n",
    "idep_moves = [moves_idep_0, moves_idep_1, moves_idep_2]"
   ]
  },
  {
   "cell_type": "markdown",
   "metadata": {},
   "source": [
    "plt.plot(range(len(idep_times)),idep_times, label=\"Iterative deepening\")\n",
    "plt.legend(loc=\"upper left\")\n",
    "plt.xlabel('Level')\n",
    "plt.ylabel('Time (secs)')\n",
    "plt.show()"
   ]
  },
  {
   "cell_type": "markdown",
   "metadata": {},
   "source": [
    "dfs_times = [time_dfs_0,time_dfs_1,time_dfs_2,time_dfs_3,time_dfs_4,time_dfs_5]\n",
    "dfs_DO_times = [time_dfs_DO_0,time_dfs_DO_1,time_dfs_DO_2,time_dfs_DO_3,time_dfs_DO_4,time_dfs_DO_5,time_dfs_DO_6]\n",
    "\n",
    "dfs_moves = [moves_dfs_0,moves_dfs_1,moves_dfs_2,moves_dfs_3,moves_dfs_4,moves_dfs_5]\n",
    "dfs_DO_moves = [moves_dfs_DO_0,moves_dfs_DO_1,moves_dfs_DO_2,moves_dfs_DO_3,moves_dfs_DO_4,moves_dfs_DO_5,moves_dfs_DO_6]"
   ]
  },
  {
   "cell_type": "markdown",
   "metadata": {},
   "source": [
    "plt.plot(range(len(dfs_times)),dfs_times, label=\"DFS\")\n",
    "plt.plot(range(len(dfs_DO_times[:6])),dfs_DO_times[:6], label=\"DFS oneDeal\")\n",
    "plt.legend(loc=\"upper left\")\n",
    "plt.xlabel('Level')\n",
    "plt.ylabel('Time (secs)')\n",
    "plt.show()"
   ]
  },
  {
   "cell_type": "markdown",
   "metadata": {},
   "source": [
    "plt.plot(range(len(dfs_times)),dfs_times, label=\"DFS\")\n",
    "plt.plot(range(len(dfs_DO_times)),dfs_DO_times, label=\"DFS oneDeal\")\n",
    "plt.legend(loc=\"upper left\")\n",
    "plt.xlabel('Level')\n",
    "plt.ylabel('Time (secs)')\n",
    "plt.show()"
   ]
  },
  {
   "cell_type": "markdown",
   "metadata": {},
   "source": [
    "plt.bar(['0','1','2','3','4','5'], [len(moves) for moves in dfs_moves] , color=\"gold\", label=\"DFS\")\n",
    "plt.bar(['0','1','2','3','4','5','6(DFS oneDeal)'],[len(moves) for moves in dfs_DO_moves], label=\"DFS oneDeal\", color=\"maroon\")\n",
    "plt.legend(loc=\"upper left\")\n",
    "plt.xlabel(\"Level\")\n",
    "plt.ylabel(\"Moves\")\n",
    "plt.show()"
   ]
  }
 ],
 "metadata": {
  "kernelspec": {
   "display_name": "Python 3",
   "language": "python",
   "name": "python3"
  },
  "language_info": {
   "codemirror_mode": {
    "name": "ipython",
    "version": 3
   },
   "file_extension": ".py",
   "mimetype": "text/x-python",
   "name": "python",
   "nbconvert_exporter": "python",
   "pygments_lexer": "ipython3",
   "version": "3.7.10"
  }
 },
 "nbformat": 4,
 "nbformat_minor": 2
}

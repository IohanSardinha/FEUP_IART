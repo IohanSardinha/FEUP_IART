{
 "cells": [
  {
   "cell_type": "markdown",
   "metadata": {},
   "source": [
    "# AI Search algorithms for TenPair game"
   ]
  },
  {
   "cell_type": "markdown",
   "metadata": {},
   "source": [
    "### Imports"
   ]
  },
  {
   "cell_type": "code",
   "execution_count": 2,
   "metadata": {},
   "outputs": [],
   "source": [
    "from tenpair import *\n",
    "from time import time\n",
    "from os import system"
   ]
  },
  {
   "cell_type": "markdown",
   "metadata": {},
   "source": [
    "### Node Class"
   ]
  },
  {
   "cell_type": "code",
   "execution_count": 3,
   "metadata": {},
   "outputs": [],
   "source": [
    "class Node(object):\n",
    "    def __init__(self, data):\n",
    "        self.data = data\n",
    "        self.edges = []\n",
    "        self.parents = []\n",
    "\n",
    "    def add_edge(self, obj):\n",
    "        self.edges.append(obj)"
   ]
  },
  {
   "cell_type": "markdown",
   "metadata": {},
   "source": [
    "### Edge Class"
   ]
  },
  {
   "cell_type": "code",
   "execution_count": 4,
   "metadata": {},
   "outputs": [],
   "source": [
    "class Edge(object):\n",
    "    def __init__(self, data, fromNode, toNode):\n",
    "        self.data = data\n",
    "        toNode.parents.append(self)\n",
    "        fromNode.edges.append(self)\n",
    "        self.fromNode = fromNode\n",
    "        self.toNode = toNode"
   ]
  },
  {
   "cell_type": "markdown",
   "metadata": {},
   "source": [
    "# Logic"
   ]
  },
  {
   "cell_type": "markdown",
   "metadata": {},
   "source": [
    "#### Gets all possible moves for a given position"
   ]
  },
  {
   "cell_type": "code",
   "execution_count": 5,
   "metadata": {},
   "outputs": [],
   "source": [
    "def getPossibleMoves(position,board):\n",
    "    x = 0\n",
    "    y = 1\n",
    "\n",
    "\n",
    "    moves = []\n",
    "\n",
    "    if board[position[y]][position[x]] == 0:\n",
    "        return moves\n",
    "    \n",
    "    if position[y]-1 >=0 and (board[position[y]][position[x]] + board[position[y]-1][position[x]] == 10 or board[position[y]][position[x]] == board[position[y]-1][position[x]]) :\n",
    "        moves.append((position[x],position[y]-1))\n",
    "\n",
    "    if position[x]-1 >=0 and (board[position[y]][position[x]] + board[position[y]][position[x]-1] == 10 or board[position[y]][position[x]] == board[position[y]][position[x]-1]):\n",
    "        moves.append((position[x]-1,position[y]))\n",
    "\n",
    "    for i in range(position[y]+1, len(board)):\n",
    "        if not board[i][position[x]] == 0:\n",
    "            if board[position[y]][position[x]] + board[i][position[x]] == 10 or board[position[y]][position[x]] == board[i][position[x]]:\n",
    "                moves.append((position[x],i))\n",
    "            break\n",
    "\n",
    "    for i in range(position[y], len(board)):\n",
    "        start = position[x]+1 if i == position[y] else 0\n",
    "        brk = False\n",
    "        for j in range(start, len(board[i])):\n",
    "            if not board[i][j] == 0:\n",
    "                if board[position[y]][position[x]] + board[i][j] == 10 or board[position[y]][position[x]] == board[i][j]:\n",
    "                    moves.append((j,i))\n",
    "                brk = True\n",
    "                break\n",
    "        if brk:\n",
    "            break\n",
    "            \n",
    "    return moves"
   ]
  },
  {
   "cell_type": "markdown",
   "metadata": {},
   "source": [
    "#### Gets the number of non empty pieces in board"
   ]
  },
  {
   "cell_type": "code",
   "execution_count": 6,
   "metadata": {},
   "outputs": [],
   "source": [
    "def countElements(board):\n",
    "    count = 0\n",
    "    for line in board:\n",
    "        for value in line:\n",
    "            if not value == 0:\n",
    "                count += 1\n",
    "\n",
    "    return count"
   ]
  },
  {
   "cell_type": "markdown",
   "metadata": {},
   "source": [
    "#### Gets the number of non empty pieces left in board (size of the board - number of non empty pieces)"
   ]
  },
  {
   "cell_type": "code",
   "execution_count": 7,
   "metadata": {},
   "outputs": [],
   "source": [
    "def elementsLeft(board):\n",
    "    return (len(board)*len(board[0])) - countElements(board)"
   ]
  },
  {
   "cell_type": "markdown",
   "metadata": {},
   "source": [
    "#### Gets all legal moves in a board"
   ]
  },
  {
   "cell_type": "code",
   "execution_count": 8,
   "metadata": {},
   "outputs": [],
   "source": [
    "def getAllMovesInBoard(board):\n",
    "    visited = []\n",
    "    for i, line in enumerate(board):\n",
    "        for j, number in enumerate(line):\n",
    "            for move in getPossibleMoves((j,i), board):\n",
    "                if ((j,i),move) in visited:\n",
    "                    continue\n",
    "                visited.append((move,(j,i)))\n",
    "                \n",
    "    return visited"
   ]
  },
  {
   "cell_type": "markdown",
   "metadata": {},
   "source": [
    "#### Get all subsequent boards from applying all legal moves in a board"
   ]
  },
  {
   "cell_type": "code",
   "execution_count": 9,
   "metadata": {},
   "outputs": [],
   "source": [
    "def getAllBoards(board, shouldDeal=False):\n",
    "    boards = []\n",
    "    for move,(j,i) in getAllMovesInBoard(board):\n",
    "        newBoard = [l[:] for l in board]\n",
    "        newBoard = removePiece((j,i), move, newBoard)\n",
    "        boards.append((((j,i),move),newBoard))\n",
    "\n",
    "    if shouldDeal:\n",
    "        newBoard = [l[:] for l in board]\n",
    "        boards.append((\"( Deal )\",deal(newBoard)))\n",
    "    return boards"
   ]
  },
  {
   "cell_type": "markdown",
   "metadata": {},
   "source": [
    "# Uninformed Search Algorithms"
   ]
  },
  {
   "cell_type": "markdown",
   "metadata": {},
   "source": [
    "## BFS - Breadth-first Search"
   ]
  },
  {
   "cell_type": "code",
   "execution_count": 12,
   "metadata": {},
   "outputs": [],
   "source": [
    "def BFS(board):\n",
    "\n",
    "    root = Node(board)\n",
    "\n",
    "    boards = getAllBoards(board)\n",
    "    newBoard = [l[:] for l in board]\n",
    "    boards.append((\"( Deal )\", deal(newBoard)))\n",
    "\n",
    "    queue = []\n",
    "\n",
    "    visited = []\n",
    "    skip = 0\n",
    "    \n",
    "    for move, b in boards:\n",
    "        node = Node(b)\n",
    "        edge = Edge(move, root, node)\n",
    "        queue.append(node)\n",
    "\n",
    "    while queue:\n",
    "        node = queue.pop(0)\n",
    "        \n",
    "        visited.append(str(node.data))\n",
    "\n",
    "        if win(node.data):\n",
    "            return node\n",
    "\n",
    "        for move, b in getAllBoards(node.data):                \n",
    "            \n",
    "            if str(b) in visited:                    \n",
    "                skip += 1\n",
    "                continue\n",
    "            \n",
    "            child = Node(b)\n",
    "            edge = Edge(move, node, child)\n",
    "            node.add_edge(edge)\n",
    "            queue.append(child)\n",
    "            visited.append(str(b))"
   ]
  },
  {
   "cell_type": "code",
   "execution_count": 34,
   "metadata": {},
   "outputs": [],
   "source": [
    "bfs_times = []"
   ]
  },
  {
   "cell_type": "markdown",
   "metadata": {},
   "source": [
    "###### level 0"
   ]
  },
  {
   "cell_type": "code",
   "execution_count": 72,
   "metadata": {},
   "outputs": [
    {
     "name": "stdout",
     "output_type": "stream",
     "text": [
      "Moves:\n",
      "((0, 0), (0, 1))\n",
      "((1, 0), (1, 1))\n",
      "\n",
      "Results in: 0.0 seconds\n"
     ]
    }
   ],
   "source": [
    "board, moves = initialState(0)\n",
    "\n",
    "start = time()\n",
    "\n",
    "result = BFS(board)\n",
    "\n",
    "end = time()\n",
    "\n",
    "path = []\n",
    "while result.parents != []:\n",
    "    path.append(result.parents[0].data)\n",
    "    result = result.parents[0].fromNode\n",
    "\n",
    "print(\"Moves:\")\n",
    "for move in path[::-1]:\n",
    "    print(move)\n",
    "\n",
    "print(\"\\nResults in: \"+str(end-start)+\" seconds\")\n",
    "bfs_times.append(end-start)"
   ]
  },
  {
   "cell_type": "markdown",
   "metadata": {},
   "source": [
    "###### level 1"
   ]
  },
  {
   "cell_type": "code",
   "execution_count": 73,
   "metadata": {},
   "outputs": [
    {
     "name": "stdout",
     "output_type": "stream",
     "text": [
      "Moves:\n",
      "((3, 0), (0, 1))\n",
      "((2, 0), (1, 1))\n",
      "((1, 0), (2, 1))\n",
      "((0, 0), (3, 1))\n",
      "\n",
      "Results in: 0.0 seconds\n"
     ]
    }
   ],
   "source": [
    "board, moves = initialState(1)\n",
    "\n",
    "start = time()\n",
    "\n",
    "result = BFS(board)\n",
    "\n",
    "end = time()\n",
    "\n",
    "path = []\n",
    "while result.parents != []:\n",
    "    path.append(result.parents[0].data)\n",
    "    result = result.parents[0].fromNode\n",
    "\n",
    "print(\"Moves:\")\n",
    "for move in path[::-1]:\n",
    "    print(move)\n",
    "\n",
    "print(\"\\nResults in: \"+str(end-start)+\" seconds\")\n",
    "bfs_times.append(end-start)"
   ]
  },
  {
   "cell_type": "markdown",
   "metadata": {},
   "source": [
    "###### level 2"
   ]
  },
  {
   "cell_type": "code",
   "execution_count": 74,
   "metadata": {},
   "outputs": [
    {
     "name": "stdout",
     "output_type": "stream",
     "text": [
      "Moves:\n",
      "((1, 0), (1, 1))\n",
      "((3, 0), (3, 1))\n",
      "((0, 1), (2, 1))\n",
      "((0, 0), (0, 1))\n",
      "((2, 0), (2, 1))\n",
      "((1, 0), (3, 0))\n",
      "\n",
      "Results in: 27.877919673919678 seconds\n"
     ]
    }
   ],
   "source": [
    "board, moves = initialState(2)\n",
    "\n",
    "start = time()\n",
    "\n",
    "result = BFS(board)\n",
    "\n",
    "end = time()\n",
    "\n",
    "path = []\n",
    "while result.parents != []:\n",
    "    path.append(result.parents[0].data)\n",
    "    result = result.parents[0].fromNode\n",
    "\n",
    "print(\"Moves:\")\n",
    "for move in path[::-1]:\n",
    "    print(move)\n",
    "\n",
    "print(\"\\nResults in: \"+str(end-start)+\" seconds\")\n",
    "bfs_times.append(end-start)"
   ]
  },
  {
   "cell_type": "markdown",
   "metadata": {},
   "source": [
    "###### level 3"
   ]
  },
  {
   "cell_type": "code",
   "execution_count": 41,
   "metadata": {},
   "outputs": [
    {
     "name": "stdout",
     "output_type": "stream",
     "text": [
      "Moves:\n",
      "( Deal )\n",
      "((0, 2), (0, 3))\n",
      "((0, 1), (0, 4))\n",
      "((0, 0), (0, 5))\n",
      "((1, 2), (1, 3))\n",
      "((1, 1), (1, 4))\n",
      "((1, 0), (1, 5))\n",
      "((2, 2), (2, 3))\n",
      "((2, 1), (2, 4))\n",
      "((2, 0), (2, 5))\n",
      "((3, 2), (3, 3))\n",
      "((3, 1), (3, 2))\n",
      "((3, 0), (3, 1))\n",
      "\n",
      "Results in: 0.674248218536377 seconds\n"
     ]
    }
   ],
   "source": [
    "board, moves = initialState(3)\n",
    "\n",
    "start = time()\n",
    "\n",
    "result = BFS(board)\n",
    "\n",
    "end = time()\n",
    "\n",
    "path = []\n",
    "while result.parents != []:\n",
    "    path.append(result.parents[0].data)\n",
    "    result = result.parents[0].fromNode\n",
    "\n",
    "print(\"Moves:\")\n",
    "for move in path[::-1]:\n",
    "    print(move)\n",
    "\n",
    "print(\"\\nResults in: \"+str(end-start)+\" seconds\")\n",
    "bfs_times.append(end-start)"
   ]
  },
  {
   "cell_type": "markdown",
   "metadata": {},
   "source": [
    "## DFS - Depth-first Search"
   ]
  },
  {
   "cell_type": "code",
   "execution_count": 10,
   "metadata": {},
   "outputs": [],
   "source": [
    "def DFSNode(node, shouldDeal = False):\n",
    "    \n",
    "    if win(node.data):\n",
    "        return node\n",
    "    \n",
    "    allBoards = getAllBoards(node.data, shouldDeal)\n",
    "    \n",
    "    if len(allBoards) == 0:\n",
    "        return False\n",
    "    \n",
    "    for move, board in allBoards:\n",
    "        child = Node(board)\n",
    "        edge = Edge(move, node, child)\n",
    "        node.add_edge(edge)\n",
    "        \n",
    "        retChild = DFSNode(child)\n",
    "        \n",
    "        if not retChild == False:\n",
    "            return retChild\n",
    "        \n",
    "    return False\n",
    "\n",
    "def DFS(board):\n",
    "    node = Node(board)\n",
    "    return DFSNode(node, True)"
   ]
  },
  {
   "cell_type": "code",
   "execution_count": 14,
   "metadata": {},
   "outputs": [],
   "source": [
    "dfs_times = []"
   ]
  },
  {
   "cell_type": "markdown",
   "metadata": {},
   "source": [
    "###### level 0"
   ]
  },
  {
   "cell_type": "code",
   "execution_count": 15,
   "metadata": {},
   "outputs": [
    {
     "name": "stdout",
     "output_type": "stream",
     "text": [
      "Moves:\n",
      "((0, 0), (0, 1))\n",
      "((1, 0), (1, 1))\n",
      "\n",
      "Results in: 0.0 seconds\n"
     ]
    }
   ],
   "source": [
    "board, moves = initialState(0)\n",
    "\n",
    "start = time()\n",
    "\n",
    "result = DFS(board)\n",
    "\n",
    "end = time()\n",
    "\n",
    "path = []\n",
    "while result.parents != []:\n",
    "    path.append(result.parents[0].data)\n",
    "    result = result.parents[0].fromNode\n",
    "\n",
    "print(\"Moves:\")\n",
    "for move in path[::-1]:\n",
    "    print(move)\n",
    "\n",
    "print(\"\\nResults in: \"+str(end-start)+\" seconds\")\n",
    "dfs_times.append(end-start)"
   ]
  },
  {
   "cell_type": "markdown",
   "metadata": {},
   "source": [
    "###### level 1"
   ]
  },
  {
   "cell_type": "code",
   "execution_count": 16,
   "metadata": {},
   "outputs": [
    {
     "name": "stdout",
     "output_type": "stream",
     "text": [
      "Moves:\n",
      "((3, 0), (0, 1))\n",
      "((2, 0), (1, 1))\n",
      "((1, 0), (2, 1))\n",
      "((0, 0), (3, 1))\n",
      "\n",
      "Results in: 0.0 seconds\n"
     ]
    }
   ],
   "source": [
    "board, moves = initialState(1)\n",
    "\n",
    "start = time()\n",
    "\n",
    "result = DFS(board)\n",
    "\n",
    "end = time()\n",
    "\n",
    "path = []\n",
    "while result.parents != []:\n",
    "    path.append(result.parents[0].data)\n",
    "    result = result.parents[0].fromNode\n",
    "\n",
    "print(\"Moves:\")\n",
    "for move in path[::-1]:\n",
    "    print(move)\n",
    "\n",
    "print(\"\\nResults in: \"+str(end-start)+\" seconds\")\n",
    "dfs_times.append(end-start)"
   ]
  },
  {
   "cell_type": "markdown",
   "metadata": {},
   "source": [
    "###### level 2"
   ]
  },
  {
   "cell_type": "code",
   "execution_count": 17,
   "metadata": {},
   "outputs": [
    {
     "name": "stdout",
     "output_type": "stream",
     "text": [
      "Moves:\n",
      "((1, 0), (1, 1))\n",
      "((3, 0), (3, 1))\n",
      "((0, 1), (2, 1))\n",
      "((0, 0), (0, 1))\n",
      "((2, 0), (2, 1))\n",
      "((1, 0), (3, 0))\n",
      "\n",
      "Results in: 0.0 seconds\n"
     ]
    }
   ],
   "source": [
    "board, moves = initialState(2)\n",
    "\n",
    "start = time()\n",
    "\n",
    "result = DFS(board)\n",
    "\n",
    "end = time()\n",
    "\n",
    "path = []\n",
    "while result.parents != []:\n",
    "    path.append(result.parents[0].data)\n",
    "    result = result.parents[0].fromNode\n",
    "\n",
    "print(\"Moves:\")\n",
    "for move in path[::-1]:\n",
    "    print(move)\n",
    "\n",
    "print(\"\\nResults in: \"+str(end-start)+\" seconds\")\n",
    "dfs_times.append(end-start)"
   ]
  },
  {
   "cell_type": "markdown",
   "metadata": {},
   "source": [
    "###### level 3"
   ]
  },
  {
   "cell_type": "code",
   "execution_count": 18,
   "metadata": {},
   "outputs": [
    {
     "name": "stdout",
     "output_type": "stream",
     "text": [
      "Moves:\n",
      "( Deal )\n",
      "((0, 2), (0, 3))\n",
      "((0, 1), (0, 4))\n",
      "((0, 0), (0, 5))\n",
      "((1, 2), (1, 3))\n",
      "((1, 1), (1, 4))\n",
      "((1, 0), (1, 5))\n",
      "((2, 2), (2, 3))\n",
      "((2, 1), (2, 4))\n",
      "((2, 0), (2, 5))\n",
      "((3, 2), (3, 3))\n",
      "((3, 1), (3, 2))\n",
      "((3, 0), (3, 1))\n",
      "\n",
      "Results in: 0.0 seconds\n"
     ]
    }
   ],
   "source": [
    "board, moves = initialState(3)\n",
    "\n",
    "start = time()\n",
    "\n",
    "result = DFS(board)\n",
    "\n",
    "end = time()\n",
    "\n",
    "path = []\n",
    "while result.parents != []:\n",
    "    path.append(result.parents[0].data)\n",
    "    result = result.parents[0].fromNode\n",
    "\n",
    "print(\"Moves:\")\n",
    "for move in path[::-1]:\n",
    "    print(move)\n",
    "\n",
    "print(\"\\nResults in: \"+str(end-start)+\" seconds\")\n",
    "dfs_times.append(end-start)"
   ]
  },
  {
   "cell_type": "markdown",
   "metadata": {},
   "source": [
    "###### level 4"
   ]
  },
  {
   "cell_type": "code",
   "execution_count": 19,
   "metadata": {},
   "outputs": [
    {
     "name": "stdout",
     "output_type": "stream",
     "text": [
      "Moves:\n",
      "((0, 1), (1, 1))\n",
      "((2, 1), (3, 1))\n",
      "((4, 1), (5, 1))\n",
      "((5, 0), (0, 1))\n",
      "((4, 0), (1, 1))\n",
      "((3, 0), (2, 1))\n",
      "((2, 0), (3, 1))\n",
      "((1, 0), (4, 1))\n",
      "((0, 0), (5, 1))\n",
      "\n",
      "Results in: 0.0 seconds\n"
     ]
    }
   ],
   "source": [
    "board, moves = initialState(4)\n",
    "\n",
    "start = time()\n",
    "\n",
    "result = DFS(board)\n",
    "\n",
    "end = time()\n",
    "\n",
    "path = []\n",
    "while result.parents != []:\n",
    "    path.append(result.parents[0].data)\n",
    "    result = result.parents[0].fromNode\n",
    "\n",
    "print(\"Moves:\")\n",
    "for move in path[::-1]:\n",
    "    print(move)\n",
    "\n",
    "print(\"\\nResults in: \"+str(end-start)+\" seconds\")\n",
    "dfs_times.append(end-start)"
   ]
  },
  {
   "cell_type": "markdown",
   "metadata": {},
   "source": [
    "###### level 5"
   ]
  },
  {
   "cell_type": "code",
   "execution_count": 20,
   "metadata": {},
   "outputs": [
    {
     "name": "stdout",
     "output_type": "stream",
     "text": [
      "Moves:\n",
      "((0, 0), (0, 1))\n",
      "((3, 0), (3, 1))\n",
      "((4, 0), (4, 1))\n",
      "((1, 1), (2, 1))\n",
      "((2, 0), (2, 2))\n",
      "((5, 1), (0, 2))\n",
      "((1, 1), (3, 1))\n",
      "((5, 0), (4, 1))\n",
      "((1, 0), (5, 1))\n",
      "\n",
      "Results in: 0.0 seconds\n"
     ]
    }
   ],
   "source": [
    "board, moves = initialState(5)\n",
    "\n",
    "start = time()\n",
    "\n",
    "result = DFS(board)\n",
    "\n",
    "end = time()\n",
    "\n",
    "path = []\n",
    "while result.parents != []:\n",
    "    path.append(result.parents[0].data)\n",
    "    result = result.parents[0].fromNode\n",
    "\n",
    "print(\"Moves:\")\n",
    "for move in path[::-1]:\n",
    "    print(move)\n",
    "\n",
    "print(\"\\nResults in: \"+str(end-start)+\" seconds\")\n",
    "dfs_times.append(end-start)"
   ]
  },
  {
   "cell_type": "markdown",
   "metadata": {},
   "source": [
    "###### level 6"
   ]
  },
  {
   "cell_type": "code",
   "execution_count": 11,
   "metadata": {},
   "outputs": [
    {
     "name": "stdout",
     "output_type": "stream",
     "text": [
      "Moves:\n",
      "( Deal )\n",
      "((0, 0), (0, 1))\n",
      "((8, 0), (8, 1))\n",
      "((1, 1), (1, 2))\n",
      "((1, 0), (1, 3))\n",
      "((7, 2), (8, 2))\n",
      "((0, 3), (0, 4))\n",
      "((0, 2), (0, 5))\n",
      "((7, 1), (2, 2))\n",
      "((7, 0), (7, 3))\n",
      "((6, 1), (3, 2))\n",
      "((5, 1), (4, 2))\n",
      "((4, 1), (5, 2))\n",
      "((4, 0), (4, 3))\n",
      "((3, 0), (5, 0))\n",
      "((2, 0), (6, 0))\n",
      "((3, 0), (6, 1))\n",
      "((3, 1), (5, 1))\n",
      "((2, 1), (6, 1))\n",
      "((2, 0), (2, 2))\n",
      "((8, 0), (8, 1))\n",
      "((1, 0), (1, 1))\n",
      "((7, 0), (2, 1))\n",
      "((6, 0), (3, 1))\n",
      "((5, 0), (4, 1))\n",
      "((4, 0), (5, 1))\n",
      "((3, 0), (6, 1))\n",
      "((7, 0), (8, 0))\n",
      "\n",
      "Results in: 0.04303693771362305 seconds\n"
     ]
    },
    {
     "ename": "NameError",
     "evalue": "name 'dfs_times' is not defined",
     "output_type": "error",
     "traceback": [
      "\u001b[1;31m---------------------------------------------------------------------------\u001b[0m",
      "\u001b[1;31mNameError\u001b[0m                                 Traceback (most recent call last)",
      "\u001b[1;32m<ipython-input-11-d3720b680209>\u001b[0m in \u001b[0;36m<module>\u001b[1;34m\u001b[0m\n\u001b[0;32m     17\u001b[0m \u001b[1;33m\u001b[0m\u001b[0m\n\u001b[0;32m     18\u001b[0m \u001b[0mprint\u001b[0m\u001b[1;33m(\u001b[0m\u001b[1;34m\"\\nResults in: \"\u001b[0m\u001b[1;33m+\u001b[0m\u001b[0mstr\u001b[0m\u001b[1;33m(\u001b[0m\u001b[0mend\u001b[0m\u001b[1;33m-\u001b[0m\u001b[0mstart\u001b[0m\u001b[1;33m)\u001b[0m\u001b[1;33m+\u001b[0m\u001b[1;34m\" seconds\"\u001b[0m\u001b[1;33m)\u001b[0m\u001b[1;33m\u001b[0m\u001b[1;33m\u001b[0m\u001b[0m\n\u001b[1;32m---> 19\u001b[1;33m \u001b[0mdfs_times\u001b[0m\u001b[1;33m.\u001b[0m\u001b[0mappend\u001b[0m\u001b[1;33m(\u001b[0m\u001b[0mend\u001b[0m\u001b[1;33m-\u001b[0m\u001b[0mstart\u001b[0m\u001b[1;33m)\u001b[0m\u001b[1;33m\u001b[0m\u001b[1;33m\u001b[0m\u001b[0m\n\u001b[0m",
      "\u001b[1;31mNameError\u001b[0m: name 'dfs_times' is not defined"
     ]
    }
   ],
   "source": [
    "board, moves = initialState(6)\n",
    "\n",
    "start = time()\n",
    "\n",
    "result = DFS(board)\n",
    "\n",
    "end = time()\n",
    "\n",
    "path = []\n",
    "while result.parents != []:\n",
    "    path.append(result.parents[0].data)\n",
    "    result = result.parents[0].fromNode\n",
    "\n",
    "print(\"Moves:\")\n",
    "for move in path[::-1]:\n",
    "    print(move)\n",
    "\n",
    "print(\"\\nResults in: \"+str(end-start)+\" seconds\")\n",
    "dfs_times.append(end-start)"
   ]
  },
  {
   "cell_type": "code",
   "execution_count": null,
   "metadata": {},
   "outputs": [],
   "source": []
  }
 ],
 "metadata": {
  "kernelspec": {
   "display_name": "Python 3",
   "language": "python",
   "name": "python3"
  },
  "language_info": {
   "codemirror_mode": {
    "name": "ipython",
    "version": 3
   },
   "file_extension": ".py",
   "mimetype": "text/x-python",
   "name": "python",
   "nbconvert_exporter": "python",
   "pygments_lexer": "ipython3",
   "version": "3.7.10"
  }
 },
 "nbformat": 4,
 "nbformat_minor": 2
}

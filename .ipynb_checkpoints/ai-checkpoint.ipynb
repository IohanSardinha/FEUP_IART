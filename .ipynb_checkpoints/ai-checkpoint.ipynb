{
 "cells": [
  {
   "cell_type": "markdown",
   "metadata": {},
   "source": [
    "# AI Search algorithms for TenPair game"
   ]
  },
  {
   "cell_type": "markdown",
   "metadata": {},
   "source": [
    "### Imports"
   ]
  },
  {
   "cell_type": "code",
   "execution_count": 84,
   "metadata": {},
   "outputs": [],
   "source": [
    "from tenpair import *\n",
    "from time import time\n",
    "from os import system"
   ]
  },
  {
   "cell_type": "markdown",
   "metadata": {},
   "source": [
    "### Node Class"
   ]
  },
  {
   "cell_type": "code",
   "execution_count": 55,
   "metadata": {},
   "outputs": [],
   "source": [
    "class Node(object):\n",
    "    def __init__(self, data):\n",
    "        self.data = data\n",
    "        self.edges = []\n",
    "        self.parents = []\n",
    "\n",
    "    def add_edge(self, obj):\n",
    "        self.edges.append(obj)"
   ]
  },
  {
   "cell_type": "markdown",
   "metadata": {},
   "source": [
    "### Edge Class"
   ]
  },
  {
   "cell_type": "code",
   "execution_count": 56,
   "metadata": {},
   "outputs": [],
   "source": [
    "class Edge(object):\n",
    "    def __init__(self, data, fromNode, toNode):\n",
    "        self.data = data\n",
    "        toNode.parents.append(self)\n",
    "        fromNode.edges.append(self)\n",
    "        self.fromNode = fromNode\n",
    "        self.toNode = toNode"
   ]
  },
  {
   "cell_type": "markdown",
   "metadata": {},
   "source": [
    "# Logic"
   ]
  },
  {
   "cell_type": "markdown",
   "metadata": {},
   "source": [
    "#### Gets all possible moves for a given position"
   ]
  },
  {
   "cell_type": "code",
   "execution_count": 15,
   "metadata": {},
   "outputs": [],
   "source": [
    "def getPossibleMoves(position,board):\n",
    "    x = 0\n",
    "    y = 1\n",
    "\n",
    "\n",
    "    moves = []\n",
    "\n",
    "    if board[position[y]][position[x]] == 0:\n",
    "        return moves\n",
    "    \n",
    "    if position[y]-1 >=0 and (board[position[y]][position[x]] + board[position[y]-1][position[x]] == 10 or board[position[y]][position[x]] == board[position[y]-1][position[x]]) :\n",
    "        moves.append((position[x],position[y]-1))\n",
    "\n",
    "    if position[x]-1 >=0 and (board[position[y]][position[x]] + board[position[y]][position[x]-1] == 10 or board[position[y]][position[x]] == board[position[y]][position[x]-1]):\n",
    "        moves.append((position[x]-1,position[y]))\n",
    "\n",
    "    for i in range(position[y]+1, len(board)):\n",
    "        if not board[i][position[x]] == 0:\n",
    "            if board[position[y]][position[x]] + board[i][position[x]] == 10 or board[position[y]][position[x]] == board[i][position[x]]:\n",
    "                moves.append((position[x],i))\n",
    "            break\n",
    "\n",
    "    for i in range(position[y], len(board)):\n",
    "        start = position[x]+1 if i == position[y] else 0\n",
    "        brk = False\n",
    "        for j in range(start, len(board[i])):\n",
    "            if not board[i][j] == 0:\n",
    "                if board[position[y]][position[x]] + board[i][j] == 10 or board[position[y]][position[x]] == board[i][j]:\n",
    "                    moves.append((j,i))\n",
    "                brk = True\n",
    "                break\n",
    "        if brk:\n",
    "            break\n",
    "            \n",
    "    return moves"
   ]
  },
  {
   "cell_type": "markdown",
   "metadata": {},
   "source": [
    "#### Gets the number of non empty pieces in board"
   ]
  },
  {
   "cell_type": "code",
   "execution_count": 16,
   "metadata": {},
   "outputs": [],
   "source": [
    "def countElements(board):\n",
    "    count = 0\n",
    "    for line in board:\n",
    "        for value in line:\n",
    "            if not value == 0:\n",
    "                count += 1\n",
    "\n",
    "    return count"
   ]
  },
  {
   "cell_type": "markdown",
   "metadata": {},
   "source": [
    "#### Gets the number of non empty pieces left in board (size of the board - number of non empty pieces)"
   ]
  },
  {
   "cell_type": "code",
   "execution_count": 17,
   "metadata": {},
   "outputs": [],
   "source": [
    "def elementsLeft(board):\n",
    "    return (len(board)*len(board[0])) - countElements(board)"
   ]
  },
  {
   "cell_type": "markdown",
   "metadata": {},
   "source": [
    "#### Gets all legal moves in a board"
   ]
  },
  {
   "cell_type": "code",
   "execution_count": 18,
   "metadata": {},
   "outputs": [],
   "source": [
    "def getAllMovesInBoard(board):\n",
    "    visited = []\n",
    "    for i, line in enumerate(board):\n",
    "        for j, number in enumerate(line):\n",
    "            for move in getPossibleMoves((j,i), board):\n",
    "                if ((j,i),move) in visited:\n",
    "                    continue\n",
    "                visited.append((move,(j,i)))\n",
    "                \n",
    "    return visited"
   ]
  },
  {
   "cell_type": "markdown",
   "metadata": {},
   "source": [
    "#### Get all subsequent boards from applying all legal moves in a board"
   ]
  },
  {
   "cell_type": "code",
   "execution_count": 78,
   "metadata": {},
   "outputs": [],
   "source": [
    "def getAllBoards(board, shouldDeal=False):\n",
    "    boards = []\n",
    "    for move,(j,i) in getAllMovesInBoard(board):\n",
    "        newBoard = [l[:] for l in board]\n",
    "        newBoard = removePiece((j,i), move, newBoard)\n",
    "        boards.append((((j,i),move),newBoard))\n",
    "\n",
    "    if shouldDeal:\n",
    "        newBoard = [l[:] for l in board]\n",
    "        boards.append(deal(newBoard))\n",
    "    return boards"
   ]
  },
  {
   "cell_type": "markdown",
   "metadata": {},
   "source": [
    "# Uninformed Search Algorithms"
   ]
  },
  {
   "cell_type": "markdown",
   "metadata": {},
   "source": [
    "## BFS - Breadth-first Search"
   ]
  },
  {
   "cell_type": "code",
   "execution_count": 32,
   "metadata": {},
   "outputs": [],
   "source": [
    "def BFS(board):\n",
    "\n",
    "    root = Node(board)\n",
    "\n",
    "    boards = getAllBoards(board)\n",
    "    newBoard = [l[:] for l in board]\n",
    "    boards.append((\"( Deal )\", deal(newBoard)))\n",
    "\n",
    "    queue = []\n",
    "\n",
    "    visited = []\n",
    "    skip = 0\n",
    "    \n",
    "    for move, b in boards:\n",
    "        node = Node(b)\n",
    "        edge = Edge(move, root, node)\n",
    "        queue.append(node)\n",
    "\n",
    "    while queue:\n",
    "        node = queue.pop(0)\n",
    "        \n",
    "        visited.append(str(node.data))\n",
    "\n",
    "        if win(node.data):\n",
    "            return node\n",
    "\n",
    "        for move, b in getAllBoards(node.data):                \n",
    "            \n",
    "            if str(b) in visited:                    \n",
    "                skip += 1\n",
    "                continue\n",
    "            \n",
    "            child = Node(b)\n",
    "            edge = Edge(move, node, child)\n",
    "            node.add_edge(edge)\n",
    "            queue.append(child)\n",
    "            visited.append(str(b))"
   ]
  },
  {
   "cell_type": "code",
   "execution_count": 34,
   "metadata": {},
   "outputs": [],
   "source": [
    "bfs_times = []"
   ]
  },
  {
   "cell_type": "markdown",
   "metadata": {},
   "source": [
    "###### level 0"
   ]
  },
  {
   "cell_type": "code",
   "execution_count": 72,
   "metadata": {},
   "outputs": [
    {
     "name": "stdout",
     "output_type": "stream",
     "text": [
      "Moves:\n",
      "((0, 0), (0, 1))\n",
      "((1, 0), (1, 1))\n",
      "\n",
      "Results in: 0.0 seconds\n"
     ]
    }
   ],
   "source": [
    "board, moves = initialState(0)\n",
    "\n",
    "start = time()\n",
    "\n",
    "result = BFS(board)\n",
    "\n",
    "end = time()\n",
    "\n",
    "path = []\n",
    "while result.parents != []:\n",
    "    path.append(result.parents[0].data)\n",
    "    result = result.parents[0].fromNode\n",
    "\n",
    "print(\"Moves:\")\n",
    "for move in path[::-1]:\n",
    "    print(move)\n",
    "\n",
    "print(\"\\nResults in: \"+str(end-start)+\" seconds\")\n",
    "bfs_times.append(end-start)"
   ]
  },
  {
   "cell_type": "markdown",
   "metadata": {},
   "source": [
    "###### level 1"
   ]
  },
  {
   "cell_type": "code",
   "execution_count": 73,
   "metadata": {},
   "outputs": [
    {
     "name": "stdout",
     "output_type": "stream",
     "text": [
      "Moves:\n",
      "((3, 0), (0, 1))\n",
      "((2, 0), (1, 1))\n",
      "((1, 0), (2, 1))\n",
      "((0, 0), (3, 1))\n",
      "\n",
      "Results in: 0.0 seconds\n"
     ]
    }
   ],
   "source": [
    "board, moves = initialState(1)\n",
    "\n",
    "start = time()\n",
    "\n",
    "result = BFS(board)\n",
    "\n",
    "end = time()\n",
    "\n",
    "path = []\n",
    "while result.parents != []:\n",
    "    path.append(result.parents[0].data)\n",
    "    result = result.parents[0].fromNode\n",
    "\n",
    "print(\"Moves:\")\n",
    "for move in path[::-1]:\n",
    "    print(move)\n",
    "\n",
    "print(\"\\nResults in: \"+str(end-start)+\" seconds\")\n",
    "bfs_times.append(end-start)"
   ]
  },
  {
   "cell_type": "markdown",
   "metadata": {},
   "source": [
    "###### level 2"
   ]
  },
  {
   "cell_type": "code",
   "execution_count": 74,
   "metadata": {},
   "outputs": [
    {
     "name": "stdout",
     "output_type": "stream",
     "text": [
      "Moves:\n",
      "((1, 0), (1, 1))\n",
      "((3, 0), (3, 1))\n",
      "((0, 1), (2, 1))\n",
      "((0, 0), (0, 1))\n",
      "((2, 0), (2, 1))\n",
      "((1, 0), (3, 0))\n",
      "\n",
      "Results in: 27.877919673919678 seconds\n"
     ]
    }
   ],
   "source": [
    "board, moves = initialState(2)\n",
    "\n",
    "start = time()\n",
    "\n",
    "result = BFS(board)\n",
    "\n",
    "end = time()\n",
    "\n",
    "path = []\n",
    "while result.parents != []:\n",
    "    path.append(result.parents[0].data)\n",
    "    result = result.parents[0].fromNode\n",
    "\n",
    "print(\"Moves:\")\n",
    "for move in path[::-1]:\n",
    "    print(move)\n",
    "\n",
    "print(\"\\nResults in: \"+str(end-start)+\" seconds\")\n",
    "bfs_times.append(end-start)"
   ]
  },
  {
   "cell_type": "markdown",
   "metadata": {},
   "source": [
    "###### level 3"
   ]
  },
  {
   "cell_type": "code",
   "execution_count": 41,
   "metadata": {},
   "outputs": [
    {
     "name": "stdout",
     "output_type": "stream",
     "text": [
      "Moves:\n",
      "( Deal )\n",
      "((0, 2), (0, 3))\n",
      "((0, 1), (0, 4))\n",
      "((0, 0), (0, 5))\n",
      "((1, 2), (1, 3))\n",
      "((1, 1), (1, 4))\n",
      "((1, 0), (1, 5))\n",
      "((2, 2), (2, 3))\n",
      "((2, 1), (2, 4))\n",
      "((2, 0), (2, 5))\n",
      "((3, 2), (3, 3))\n",
      "((3, 1), (3, 2))\n",
      "((3, 0), (3, 1))\n",
      "\n",
      "Results in: 0.674248218536377 seconds\n"
     ]
    }
   ],
   "source": [
    "board, moves = initialState(3)\n",
    "\n",
    "start = time()\n",
    "\n",
    "result = BFS(board)\n",
    "\n",
    "end = time()\n",
    "\n",
    "path = []\n",
    "while result.parents != []:\n",
    "    path.append(result.parents[0].data)\n",
    "    result = result.parents[0].fromNode\n",
    "\n",
    "print(\"Moves:\")\n",
    "for move in path[::-1]:\n",
    "    print(move)\n",
    "\n",
    "print(\"\\nResults in: \"+str(end-start)+\" seconds\")\n",
    "bfs_times.append(end-start)"
   ]
  },
  {
   "cell_type": "markdown",
   "metadata": {},
   "source": [
    "## DFS - Depth-first Search"
   ]
  },
  {
   "cell_type": "code",
   "execution_count": 83,
   "metadata": {},
   "outputs": [],
   "source": [
    "def DFSNode(node):\n",
    "    \n",
    "    print(node.data)\n",
    "    if win(node.data):\n",
    "        return node\n",
    "    \n",
    "    allBoards = getAllBoards(node.data, True)\n",
    "    \n",
    "    if len(allBoards) == 0:\n",
    "        return False\n",
    "    \n",
    "    for move, board in allBoards:\n",
    "        child = Node(board)\n",
    "        edge = Edge(move, node, child)\n",
    "        node.add_edge(edge)\n",
    "        \n",
    "        retChild = DFSNode(child)\n",
    "        \n",
    "        if not retChild == False:\n",
    "            return retChild\n",
    "        \n",
    "    return False\n",
    "\n",
    "def DFS(board):\n",
    "    node = Node(board)\n",
    "    return DFSNode(node)"
   ]
  },
  {
   "cell_type": "code",
   "execution_count": 48,
   "metadata": {},
   "outputs": [],
   "source": [
    "dfs_times = []"
   ]
  },
  {
   "cell_type": "markdown",
   "metadata": {},
   "source": [
    "###### level 0"
   ]
  },
  {
   "cell_type": "code",
   "execution_count": 79,
   "metadata": {},
   "outputs": [
    {
     "name": "stdout",
     "output_type": "stream",
     "text": [
      "Moves:\n",
      "((0, 0), (0, 1))\n",
      "((1, 0), (1, 1))\n",
      "\n",
      "Results in: 0.0 seconds\n"
     ]
    }
   ],
   "source": [
    "board, moves = initialState(0)\n",
    "\n",
    "start = time()\n",
    "\n",
    "result = DFS(board)\n",
    "\n",
    "end = time()\n",
    "\n",
    "path = []\n",
    "while result.parents != []:\n",
    "    path.append(result.parents[0].data)\n",
    "    result = result.parents[0].fromNode\n",
    "\n",
    "print(\"Moves:\")\n",
    "for move in path[::-1]:\n",
    "    print(move)\n",
    "\n",
    "print(\"\\nResults in: \"+str(end-start)+\" seconds\")\n",
    "dfs_times.append(end-start)"
   ]
  },
  {
   "cell_type": "markdown",
   "metadata": {},
   "source": [
    "###### level 1"
   ]
  },
  {
   "cell_type": "code",
   "execution_count": 80,
   "metadata": {},
   "outputs": [
    {
     "name": "stdout",
     "output_type": "stream",
     "text": [
      "Moves:\n",
      "((3, 0), (0, 1))\n",
      "((2, 0), (1, 1))\n",
      "((1, 0), (2, 1))\n",
      "((0, 0), (3, 1))\n",
      "\n",
      "Results in: 0.0 seconds\n"
     ]
    }
   ],
   "source": [
    "board, moves = initialState(1)\n",
    "\n",
    "start = time()\n",
    "\n",
    "result = DFS(board)\n",
    "\n",
    "end = time()\n",
    "\n",
    "path = []\n",
    "while result.parents != []:\n",
    "    path.append(result.parents[0].data)\n",
    "    result = result.parents[0].fromNode\n",
    "\n",
    "print(\"Moves:\")\n",
    "for move in path[::-1]:\n",
    "    print(move)\n",
    "\n",
    "print(\"\\nResults in: \"+str(end-start)+\" seconds\")\n",
    "dfs_times.append(end-start)"
   ]
  },
  {
   "cell_type": "markdown",
   "metadata": {},
   "source": [
    "###### level 2"
   ]
  },
  {
   "cell_type": "code",
   "execution_count": 85,
   "metadata": {},
   "outputs": [
    {
     "ename": "TypeError",
     "evalue": "'int' object is not iterable",
     "output_type": "error",
     "traceback": [
      "\u001b[1;31m---------------------------------------------------------------------------\u001b[0m",
      "\u001b[1;31mTypeError\u001b[0m                                 Traceback (most recent call last)",
      "\u001b[1;32m<ipython-input-85-c0ab09eb3bc3>\u001b[0m in \u001b[0;36m<module>\u001b[1;34m\u001b[0m\n\u001b[0;32m      3\u001b[0m \u001b[0mstart\u001b[0m \u001b[1;33m=\u001b[0m \u001b[0mtime\u001b[0m\u001b[1;33m(\u001b[0m\u001b[1;33m)\u001b[0m\u001b[1;33m\u001b[0m\u001b[1;33m\u001b[0m\u001b[0m\n\u001b[0;32m      4\u001b[0m \u001b[1;33m\u001b[0m\u001b[0m\n\u001b[1;32m----> 5\u001b[1;33m \u001b[0mresult\u001b[0m \u001b[1;33m=\u001b[0m \u001b[0mDFS\u001b[0m\u001b[1;33m(\u001b[0m\u001b[0mboard\u001b[0m\u001b[1;33m)\u001b[0m\u001b[1;33m\u001b[0m\u001b[1;33m\u001b[0m\u001b[0m\n\u001b[0m\u001b[0;32m      6\u001b[0m \u001b[1;33m\u001b[0m\u001b[0m\n\u001b[0;32m      7\u001b[0m \u001b[0mend\u001b[0m \u001b[1;33m=\u001b[0m \u001b[0mtime\u001b[0m\u001b[1;33m(\u001b[0m\u001b[1;33m)\u001b[0m\u001b[1;33m\u001b[0m\u001b[1;33m\u001b[0m\u001b[0m\n",
      "\u001b[1;32m<ipython-input-83-9c2396c2aebf>\u001b[0m in \u001b[0;36mDFS\u001b[1;34m(board)\u001b[0m\n\u001b[0;32m     23\u001b[0m \u001b[1;32mdef\u001b[0m \u001b[0mDFS\u001b[0m\u001b[1;33m(\u001b[0m\u001b[0mboard\u001b[0m\u001b[1;33m)\u001b[0m\u001b[1;33m:\u001b[0m\u001b[1;33m\u001b[0m\u001b[1;33m\u001b[0m\u001b[0m\n\u001b[0;32m     24\u001b[0m     \u001b[0mnode\u001b[0m \u001b[1;33m=\u001b[0m \u001b[0mNode\u001b[0m\u001b[1;33m(\u001b[0m\u001b[0mboard\u001b[0m\u001b[1;33m)\u001b[0m\u001b[1;33m\u001b[0m\u001b[1;33m\u001b[0m\u001b[0m\n\u001b[1;32m---> 25\u001b[1;33m     \u001b[1;32mreturn\u001b[0m \u001b[0mDFSNode\u001b[0m\u001b[1;33m(\u001b[0m\u001b[0mnode\u001b[0m\u001b[1;33m)\u001b[0m\u001b[1;33m\u001b[0m\u001b[1;33m\u001b[0m\u001b[0m\n\u001b[0m",
      "\u001b[1;32m<ipython-input-83-9c2396c2aebf>\u001b[0m in \u001b[0;36mDFSNode\u001b[1;34m(node)\u001b[0m\n\u001b[0;32m     14\u001b[0m         \u001b[0mnode\u001b[0m\u001b[1;33m.\u001b[0m\u001b[0madd_edge\u001b[0m\u001b[1;33m(\u001b[0m\u001b[0medge\u001b[0m\u001b[1;33m)\u001b[0m\u001b[1;33m\u001b[0m\u001b[1;33m\u001b[0m\u001b[0m\n\u001b[0;32m     15\u001b[0m \u001b[1;33m\u001b[0m\u001b[0m\n\u001b[1;32m---> 16\u001b[1;33m         \u001b[0mretChild\u001b[0m \u001b[1;33m=\u001b[0m \u001b[0mDFSNode\u001b[0m\u001b[1;33m(\u001b[0m\u001b[0mchild\u001b[0m\u001b[1;33m)\u001b[0m\u001b[1;33m\u001b[0m\u001b[1;33m\u001b[0m\u001b[0m\n\u001b[0m\u001b[0;32m     17\u001b[0m \u001b[1;33m\u001b[0m\u001b[0m\n\u001b[0;32m     18\u001b[0m         \u001b[1;32mif\u001b[0m \u001b[1;32mnot\u001b[0m \u001b[0mretChild\u001b[0m \u001b[1;33m==\u001b[0m \u001b[1;32mFalse\u001b[0m\u001b[1;33m:\u001b[0m\u001b[1;33m\u001b[0m\u001b[1;33m\u001b[0m\u001b[0m\n",
      "\u001b[1;32m<ipython-input-83-9c2396c2aebf>\u001b[0m in \u001b[0;36mDFSNode\u001b[1;34m(node)\u001b[0m\n\u001b[0;32m     14\u001b[0m         \u001b[0mnode\u001b[0m\u001b[1;33m.\u001b[0m\u001b[0madd_edge\u001b[0m\u001b[1;33m(\u001b[0m\u001b[0medge\u001b[0m\u001b[1;33m)\u001b[0m\u001b[1;33m\u001b[0m\u001b[1;33m\u001b[0m\u001b[0m\n\u001b[0;32m     15\u001b[0m \u001b[1;33m\u001b[0m\u001b[0m\n\u001b[1;32m---> 16\u001b[1;33m         \u001b[0mretChild\u001b[0m \u001b[1;33m=\u001b[0m \u001b[0mDFSNode\u001b[0m\u001b[1;33m(\u001b[0m\u001b[0mchild\u001b[0m\u001b[1;33m)\u001b[0m\u001b[1;33m\u001b[0m\u001b[1;33m\u001b[0m\u001b[0m\n\u001b[0m\u001b[0;32m     17\u001b[0m \u001b[1;33m\u001b[0m\u001b[0m\n\u001b[0;32m     18\u001b[0m         \u001b[1;32mif\u001b[0m \u001b[1;32mnot\u001b[0m \u001b[0mretChild\u001b[0m \u001b[1;33m==\u001b[0m \u001b[1;32mFalse\u001b[0m\u001b[1;33m:\u001b[0m\u001b[1;33m\u001b[0m\u001b[1;33m\u001b[0m\u001b[0m\n",
      "\u001b[1;32m<ipython-input-83-9c2396c2aebf>\u001b[0m in \u001b[0;36mDFSNode\u001b[1;34m(node)\u001b[0m\n\u001b[0;32m     14\u001b[0m         \u001b[0mnode\u001b[0m\u001b[1;33m.\u001b[0m\u001b[0madd_edge\u001b[0m\u001b[1;33m(\u001b[0m\u001b[0medge\u001b[0m\u001b[1;33m)\u001b[0m\u001b[1;33m\u001b[0m\u001b[1;33m\u001b[0m\u001b[0m\n\u001b[0;32m     15\u001b[0m \u001b[1;33m\u001b[0m\u001b[0m\n\u001b[1;32m---> 16\u001b[1;33m         \u001b[0mretChild\u001b[0m \u001b[1;33m=\u001b[0m \u001b[0mDFSNode\u001b[0m\u001b[1;33m(\u001b[0m\u001b[0mchild\u001b[0m\u001b[1;33m)\u001b[0m\u001b[1;33m\u001b[0m\u001b[1;33m\u001b[0m\u001b[0m\n\u001b[0m\u001b[0;32m     17\u001b[0m \u001b[1;33m\u001b[0m\u001b[0m\n\u001b[0;32m     18\u001b[0m         \u001b[1;32mif\u001b[0m \u001b[1;32mnot\u001b[0m \u001b[0mretChild\u001b[0m \u001b[1;33m==\u001b[0m \u001b[1;32mFalse\u001b[0m\u001b[1;33m:\u001b[0m\u001b[1;33m\u001b[0m\u001b[1;33m\u001b[0m\u001b[0m\n",
      "\u001b[1;32m<ipython-input-83-9c2396c2aebf>\u001b[0m in \u001b[0;36mDFSNode\u001b[1;34m(node)\u001b[0m\n\u001b[0;32m     14\u001b[0m         \u001b[0mnode\u001b[0m\u001b[1;33m.\u001b[0m\u001b[0madd_edge\u001b[0m\u001b[1;33m(\u001b[0m\u001b[0medge\u001b[0m\u001b[1;33m)\u001b[0m\u001b[1;33m\u001b[0m\u001b[1;33m\u001b[0m\u001b[0m\n\u001b[0;32m     15\u001b[0m \u001b[1;33m\u001b[0m\u001b[0m\n\u001b[1;32m---> 16\u001b[1;33m         \u001b[0mretChild\u001b[0m \u001b[1;33m=\u001b[0m \u001b[0mDFSNode\u001b[0m\u001b[1;33m(\u001b[0m\u001b[0mchild\u001b[0m\u001b[1;33m)\u001b[0m\u001b[1;33m\u001b[0m\u001b[1;33m\u001b[0m\u001b[0m\n\u001b[0m\u001b[0;32m     17\u001b[0m \u001b[1;33m\u001b[0m\u001b[0m\n\u001b[0;32m     18\u001b[0m         \u001b[1;32mif\u001b[0m \u001b[1;32mnot\u001b[0m \u001b[0mretChild\u001b[0m \u001b[1;33m==\u001b[0m \u001b[1;32mFalse\u001b[0m\u001b[1;33m:\u001b[0m\u001b[1;33m\u001b[0m\u001b[1;33m\u001b[0m\u001b[0m\n",
      "\u001b[1;32m<ipython-input-83-9c2396c2aebf>\u001b[0m in \u001b[0;36mDFSNode\u001b[1;34m(node)\u001b[0m\n\u001b[0;32m     14\u001b[0m         \u001b[0mnode\u001b[0m\u001b[1;33m.\u001b[0m\u001b[0madd_edge\u001b[0m\u001b[1;33m(\u001b[0m\u001b[0medge\u001b[0m\u001b[1;33m)\u001b[0m\u001b[1;33m\u001b[0m\u001b[1;33m\u001b[0m\u001b[0m\n\u001b[0;32m     15\u001b[0m \u001b[1;33m\u001b[0m\u001b[0m\n\u001b[1;32m---> 16\u001b[1;33m         \u001b[0mretChild\u001b[0m \u001b[1;33m=\u001b[0m \u001b[0mDFSNode\u001b[0m\u001b[1;33m(\u001b[0m\u001b[0mchild\u001b[0m\u001b[1;33m)\u001b[0m\u001b[1;33m\u001b[0m\u001b[1;33m\u001b[0m\u001b[0m\n\u001b[0m\u001b[0;32m     17\u001b[0m \u001b[1;33m\u001b[0m\u001b[0m\n\u001b[0;32m     18\u001b[0m         \u001b[1;32mif\u001b[0m \u001b[1;32mnot\u001b[0m \u001b[0mretChild\u001b[0m \u001b[1;33m==\u001b[0m \u001b[1;32mFalse\u001b[0m\u001b[1;33m:\u001b[0m\u001b[1;33m\u001b[0m\u001b[1;33m\u001b[0m\u001b[0m\n",
      "\u001b[1;32m<ipython-input-83-9c2396c2aebf>\u001b[0m in \u001b[0;36mDFSNode\u001b[1;34m(node)\u001b[0m\n\u001b[0;32m      1\u001b[0m \u001b[1;32mdef\u001b[0m \u001b[0mDFSNode\u001b[0m\u001b[1;33m(\u001b[0m\u001b[0mnode\u001b[0m\u001b[1;33m)\u001b[0m\u001b[1;33m:\u001b[0m\u001b[1;33m\u001b[0m\u001b[1;33m\u001b[0m\u001b[0m\n\u001b[0;32m      2\u001b[0m \u001b[1;33m\u001b[0m\u001b[0m\n\u001b[1;32m----> 3\u001b[1;33m     \u001b[1;32mif\u001b[0m \u001b[0mwin\u001b[0m\u001b[1;33m(\u001b[0m\u001b[0mnode\u001b[0m\u001b[1;33m.\u001b[0m\u001b[0mdata\u001b[0m\u001b[1;33m)\u001b[0m\u001b[1;33m:\u001b[0m\u001b[1;33m\u001b[0m\u001b[1;33m\u001b[0m\u001b[0m\n\u001b[0m\u001b[0;32m      4\u001b[0m         \u001b[1;32mreturn\u001b[0m \u001b[0mnode\u001b[0m\u001b[1;33m\u001b[0m\u001b[1;33m\u001b[0m\u001b[0m\n\u001b[0;32m      5\u001b[0m \u001b[1;33m\u001b[0m\u001b[0m\n",
      "\u001b[1;32m~\\Documents\\FEUP\\3oAno\\IART\\tenpair.py\u001b[0m in \u001b[0;36mwin\u001b[1;34m(board)\u001b[0m\n\u001b[0;32m     13\u001b[0m \u001b[1;32mdef\u001b[0m \u001b[0mwin\u001b[0m\u001b[1;33m(\u001b[0m\u001b[0mboard\u001b[0m\u001b[1;33m)\u001b[0m\u001b[1;33m:\u001b[0m\u001b[1;33m\u001b[0m\u001b[1;33m\u001b[0m\u001b[0m\n\u001b[0;32m     14\u001b[0m     \u001b[0mprint\u001b[0m\u001b[1;33m(\u001b[0m\u001b[0mboard\u001b[0m\u001b[1;33m)\u001b[0m\u001b[1;33m\u001b[0m\u001b[1;33m\u001b[0m\u001b[0m\n\u001b[1;32m---> 15\u001b[1;33m     \u001b[1;32mfor\u001b[0m \u001b[0mline\u001b[0m \u001b[1;32min\u001b[0m \u001b[0mboard\u001b[0m\u001b[1;33m:\u001b[0m\u001b[1;33m\u001b[0m\u001b[1;33m\u001b[0m\u001b[0m\n\u001b[0m\u001b[0;32m     16\u001b[0m         \u001b[1;32mif\u001b[0m \u001b[1;32mnot\u001b[0m \u001b[0msum\u001b[0m\u001b[1;33m(\u001b[0m\u001b[0mline\u001b[0m\u001b[1;33m)\u001b[0m \u001b[1;33m==\u001b[0m \u001b[1;36m0\u001b[0m\u001b[1;33m:\u001b[0m\u001b[1;33m\u001b[0m\u001b[1;33m\u001b[0m\u001b[0m\n\u001b[0;32m     17\u001b[0m             \u001b[1;32mreturn\u001b[0m \u001b[1;32mFalse\u001b[0m\u001b[1;33m\u001b[0m\u001b[1;33m\u001b[0m\u001b[0m\n",
      "\u001b[1;31mTypeError\u001b[0m: 'int' object is not iterable"
     ]
    }
   ],
   "source": [
    "board, moves = initialState(2)\n",
    "\n",
    "start = time()\n",
    "\n",
    "result = DFS(board)\n",
    "\n",
    "end = time()\n",
    "\n",
    "path = []\n",
    "while result.parents != []:\n",
    "    path.append(result.parents[0].data)\n",
    "    result = result.parents[0].fromNode\n",
    "\n",
    "print(\"Moves:\")\n",
    "for move in path[::-1]:\n",
    "    print(move)\n",
    "\n",
    "print(\"\\nResults in: \"+str(end-start)+\" seconds\")\n",
    "dfs_times.append(end-start)"
   ]
  },
  {
   "cell_type": "markdown",
   "metadata": {},
   "source": [
    "###### level 3"
   ]
  },
  {
   "cell_type": "code",
   "execution_count": 67,
   "metadata": {},
   "outputs": [
    {
     "ename": "AttributeError",
     "evalue": "'bool' object has no attribute 'parents'",
     "output_type": "error",
     "traceback": [
      "\u001b[1;31m---------------------------------------------------------------------------\u001b[0m",
      "\u001b[1;31mAttributeError\u001b[0m                            Traceback (most recent call last)",
      "\u001b[1;32m<ipython-input-67-920657da99ea>\u001b[0m in \u001b[0;36m<module>\u001b[1;34m\u001b[0m\n\u001b[0;32m      8\u001b[0m \u001b[1;33m\u001b[0m\u001b[0m\n\u001b[0;32m      9\u001b[0m \u001b[0mpath\u001b[0m \u001b[1;33m=\u001b[0m \u001b[1;33m[\u001b[0m\u001b[1;33m]\u001b[0m\u001b[1;33m\u001b[0m\u001b[1;33m\u001b[0m\u001b[0m\n\u001b[1;32m---> 10\u001b[1;33m \u001b[1;32mwhile\u001b[0m \u001b[0mresult\u001b[0m\u001b[1;33m.\u001b[0m\u001b[0mparents\u001b[0m \u001b[1;33m!=\u001b[0m \u001b[1;33m[\u001b[0m\u001b[1;33m]\u001b[0m\u001b[1;33m:\u001b[0m\u001b[1;33m\u001b[0m\u001b[1;33m\u001b[0m\u001b[0m\n\u001b[0m\u001b[0;32m     11\u001b[0m     \u001b[0mpath\u001b[0m\u001b[1;33m.\u001b[0m\u001b[0mappend\u001b[0m\u001b[1;33m(\u001b[0m\u001b[0mresult\u001b[0m\u001b[1;33m.\u001b[0m\u001b[0mparents\u001b[0m\u001b[1;33m[\u001b[0m\u001b[1;36m0\u001b[0m\u001b[1;33m]\u001b[0m\u001b[1;33m.\u001b[0m\u001b[0mdata\u001b[0m\u001b[1;33m)\u001b[0m\u001b[1;33m\u001b[0m\u001b[1;33m\u001b[0m\u001b[0m\n\u001b[0;32m     12\u001b[0m     \u001b[0mresult\u001b[0m \u001b[1;33m=\u001b[0m \u001b[0mresult\u001b[0m\u001b[1;33m.\u001b[0m\u001b[0mparents\u001b[0m\u001b[1;33m[\u001b[0m\u001b[1;36m0\u001b[0m\u001b[1;33m]\u001b[0m\u001b[1;33m.\u001b[0m\u001b[0mfromNode\u001b[0m\u001b[1;33m\u001b[0m\u001b[1;33m\u001b[0m\u001b[0m\n",
      "\u001b[1;31mAttributeError\u001b[0m: 'bool' object has no attribute 'parents'"
     ]
    }
   ],
   "source": [
    "board, moves = initialState(3)\n",
    "\n",
    "start = time()\n",
    "\n",
    "result = DFS(board)\n",
    "\n",
    "end = time()\n",
    "\n",
    "path = []\n",
    "while result.parents != []:\n",
    "    path.append(result.parents[0].data)\n",
    "    result = result.parents[0].fromNode\n",
    "\n",
    "print(\"Moves:\")\n",
    "for move in path[::-1]:\n",
    "    print(move)\n",
    "\n",
    "print(\"\\nResults in: \"+str(end-start)+\" seconds\")\n",
    "dfs_times.append(end-start)"
   ]
  }
 ],
 "metadata": {
  "kernelspec": {
   "display_name": "Python 3",
   "language": "python",
   "name": "python3"
  },
  "language_info": {
   "codemirror_mode": {
    "name": "ipython",
    "version": 3
   },
   "file_extension": ".py",
   "mimetype": "text/x-python",
   "name": "python",
   "nbconvert_exporter": "python",
   "pygments_lexer": "ipython3",
   "version": "3.7.10"
  }
 },
 "nbformat": 4,
 "nbformat_minor": 2
}

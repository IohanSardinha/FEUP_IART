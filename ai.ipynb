{
 "cells": [
  {
   "cell_type": "markdown",
   "metadata": {},
   "source": [
    "# AI Search algorithms for TenPair game"
   ]
  },
  {
   "cell_type": "markdown",
   "metadata": {},
   "source": [
    "### Imports"
   ]
  },
  {
   "cell_type": "code",
   "execution_count": 12,
   "metadata": {},
   "outputs": [],
   "source": [
    "from tenpair import *\n",
    "from time import time\n",
    "from os import system"
   ]
  },
  {
   "cell_type": "markdown",
   "metadata": {},
   "source": [
    "### Node Class"
   ]
  },
  {
   "cell_type": "code",
   "execution_count": 13,
   "metadata": {},
   "outputs": [],
   "source": [
    "class Node(object):\n",
    "    def __init__(self, data):\n",
    "        self.data = data\n",
    "        self.edges = []\n",
    "        self.parents = []\n",
    "\n",
    "    def add_edge(self, obj):\n",
    "        self.edges.append(obj)"
   ]
  },
  {
   "cell_type": "markdown",
   "metadata": {},
   "source": [
    "### Edge Class"
   ]
  },
  {
   "cell_type": "code",
   "execution_count": 14,
   "metadata": {},
   "outputs": [],
   "source": [
    "class Edge(object):\n",
    "    def __init__(self, data, fromNode, toNode):\n",
    "        self.data = data\n",
    "        toNode.parents.append(self)\n",
    "        self.fromNode = fromNode\n",
    "        self.toNode = toNode"
   ]
  },
  {
   "cell_type": "markdown",
   "metadata": {},
   "source": [
    "# Logic"
   ]
  },
  {
   "cell_type": "markdown",
   "metadata": {},
   "source": [
    "#### Gets all possible moves for a given position"
   ]
  },
  {
   "cell_type": "code",
   "execution_count": 15,
   "metadata": {},
   "outputs": [],
   "source": [
    "def getPossibleMoves(position,board):\n",
    "    x = 0\n",
    "    y = 1\n",
    "\n",
    "\n",
    "    moves = []\n",
    "\n",
    "    if board[position[y]][position[x]] == 0:\n",
    "        return moves\n",
    "    \n",
    "    if position[y]-1 >=0 and (board[position[y]][position[x]] + board[position[y]-1][position[x]] == 10 or board[position[y]][position[x]] == board[position[y]-1][position[x]]) :\n",
    "        moves.append((position[x],position[y]-1))\n",
    "\n",
    "    if position[x]-1 >=0 and (board[position[y]][position[x]] + board[position[y]][position[x]-1] == 10 or board[position[y]][position[x]] == board[position[y]][position[x]-1]):\n",
    "        moves.append((position[x]-1,position[y]))\n",
    "\n",
    "    for i in range(position[y]+1, len(board)):\n",
    "        if not board[i][position[x]] == 0:\n",
    "            if board[position[y]][position[x]] + board[i][position[x]] == 10 or board[position[y]][position[x]] == board[i][position[x]]:\n",
    "                moves.append((position[x],i))\n",
    "            break\n",
    "\n",
    "    for i in range(position[y], len(board)):\n",
    "        start = position[x]+1 if i == position[y] else 0\n",
    "        brk = False\n",
    "        for j in range(start, len(board[i])):\n",
    "            if not board[i][j] == 0:\n",
    "                if board[position[y]][position[x]] + board[i][j] == 10 or board[position[y]][position[x]] == board[i][j]:\n",
    "                    moves.append((j,i))\n",
    "                brk = True\n",
    "                break\n",
    "        if brk:\n",
    "            break\n",
    "            \n",
    "    return moves"
   ]
  },
  {
   "cell_type": "markdown",
   "metadata": {},
   "source": [
    "#### Gets the number of non empty pieces in board"
   ]
  },
  {
   "cell_type": "code",
   "execution_count": 16,
   "metadata": {},
   "outputs": [],
   "source": [
    "def countElements(board):\n",
    "    count = 0\n",
    "    for line in board:\n",
    "        for value in line:\n",
    "            if not value == 0:\n",
    "                count += 1\n",
    "\n",
    "    return count"
   ]
  },
  {
   "cell_type": "markdown",
   "metadata": {},
   "source": [
    "#### Gets the number of non empty pieces left in board (size of the board - number of non empty pieces)"
   ]
  },
  {
   "cell_type": "code",
   "execution_count": 17,
   "metadata": {},
   "outputs": [],
   "source": [
    "def elementsLeft(board):\n",
    "    return (len(board)*len(board[0])) - countElements(board)"
   ]
  },
  {
   "cell_type": "markdown",
   "metadata": {},
   "source": [
    "#### Gets all legal moves in a board"
   ]
  },
  {
   "cell_type": "code",
   "execution_count": 18,
   "metadata": {},
   "outputs": [],
   "source": [
    "def getAllMovesInBoard(board):\n",
    "    visited = []\n",
    "    for i, line in enumerate(board):\n",
    "        for j, number in enumerate(line):\n",
    "            for move in getPossibleMoves((j,i), board):\n",
    "                if ((j,i),move) in visited:\n",
    "                    continue\n",
    "                visited.append((move,(j,i)))\n",
    "                \n",
    "    return visited"
   ]
  },
  {
   "cell_type": "markdown",
   "metadata": {},
   "source": [
    "#### Get all subsequent boards from applying all legal moves in a board"
   ]
  },
  {
   "cell_type": "code",
   "execution_count": 19,
   "metadata": {},
   "outputs": [],
   "source": [
    "def getAllBoards(board):\n",
    "    boards = []\n",
    "    for move,(j,i) in getAllMovesInBoard(board):\n",
    "        newBoard = [l[:] for l in board]\n",
    "        newBoard = removePiece((j,i), move, newBoard)\n",
    "        boards.append((((j,i),move),newBoard))\n",
    "\n",
    "    #newBoard = [l[:] for l in board]\n",
    "    #boards.append(deal(newBoard))\n",
    "    return boards"
   ]
  },
  {
   "cell_type": "markdown",
   "metadata": {},
   "source": [
    "# Simple Search Algorithms"
   ]
  },
  {
   "cell_type": "markdown",
   "metadata": {},
   "source": [
    "## BFS - Breadth-first Search"
   ]
  },
  {
   "cell_type": "code",
   "execution_count": 32,
   "metadata": {},
   "outputs": [],
   "source": [
    "def BFS(board):\n",
    "\n",
    "    root = Node(board)\n",
    "\n",
    "    boards = getAllBoards(board)\n",
    "    newBoard = [l[:] for l in board]\n",
    "    boards.append((\"( Deal )\", deal(newBoard)))\n",
    "\n",
    "    queue = []\n",
    "\n",
    "    visited = []\n",
    "    skip = 0\n",
    "    \n",
    "    for move, b in boards:\n",
    "        node = Node(b)\n",
    "        edge = Edge(move, root, node)\n",
    "\n",
    "        root.add_edge(edge)\n",
    "        queue.append(node)\n",
    "\n",
    "    while queue:\n",
    "        node = queue.pop(0)\n",
    "        \n",
    "        visited.append(str(node.data))\n",
    "\n",
    "        if win(node.data):\n",
    "            return node\n",
    "\n",
    "        for move, b in getAllBoards(node.data):                \n",
    "            \n",
    "            if str(b) in visited:                    \n",
    "                skip += 1\n",
    "                continue\n",
    "            \n",
    "            child = Node(b)\n",
    "            edge = Edge(move, node, child)\n",
    "            node.add_edge(edge)\n",
    "            queue.append(child)\n",
    "            visited.append(str(b))"
   ]
  },
  {
   "cell_type": "code",
   "execution_count": 34,
   "metadata": {},
   "outputs": [],
   "source": [
    "bfs_times = []"
   ]
  },
  {
   "cell_type": "markdown",
   "metadata": {},
   "source": [
    "###### level 0"
   ]
  },
  {
   "cell_type": "code",
   "execution_count": 36,
   "metadata": {},
   "outputs": [
    {
     "name": "stdout",
     "output_type": "stream",
     "text": [
      "Moves:\n",
      "((0, 0), (0, 1))\n",
      "((1, 0), (1, 1))\n",
      "\n",
      "Results in: 0.008002042770385742 seconds\n"
     ]
    }
   ],
   "source": [
    "board, moves = initialState(0)\n",
    "\n",
    "start = time()\n",
    "\n",
    "result = BFS(board)\n",
    "\n",
    "end = time()\n",
    "\n",
    "path = []\n",
    "while result.parents != []:\n",
    "    path.append(result.parents[0].data)\n",
    "    result = result.parents[0].fromNode\n",
    "\n",
    "print(\"Moves:\")\n",
    "for move in path[::-1]:\n",
    "    print(move)\n",
    "\n",
    "print(\"\\nResults in: \"+str(end-start)+\" seconds\")\n",
    "bfs_times.append(end-start)"
   ]
  },
  {
   "cell_type": "markdown",
   "metadata": {},
   "source": [
    "###### level 1"
   ]
  },
  {
   "cell_type": "code",
   "execution_count": 38,
   "metadata": {},
   "outputs": [
    {
     "name": "stdout",
     "output_type": "stream",
     "text": [
      "Moves:\n",
      "((3, 0), (0, 1))\n",
      "((2, 0), (1, 1))\n",
      "((1, 0), (2, 1))\n",
      "((0, 0), (3, 1))\n",
      "\n",
      "Results in: 0.008001327514648438 seconds\n"
     ]
    }
   ],
   "source": [
    "board, moves = initialState(1)\n",
    "\n",
    "start = time()\n",
    "\n",
    "result = BFS(board)\n",
    "\n",
    "end = time()\n",
    "\n",
    "path = []\n",
    "while result.parents != []:\n",
    "    path.append(result.parents[0].data)\n",
    "    result = result.parents[0].fromNode\n",
    "\n",
    "print(\"Moves:\")\n",
    "for move in path[::-1]:\n",
    "    print(move)\n",
    "\n",
    "print(\"\\nResults in: \"+str(end-start)+\" seconds\")\n",
    "bfs_times.append(end-start)"
   ]
  },
  {
   "cell_type": "markdown",
   "metadata": {},
   "source": [
    "###### level 2"
   ]
  },
  {
   "cell_type": "code",
   "execution_count": 39,
   "metadata": {},
   "outputs": [
    {
     "name": "stdout",
     "output_type": "stream",
     "text": [
      "Moves:\n",
      "((1, 0), (1, 1))\n",
      "((3, 0), (3, 1))\n",
      "((0, 1), (2, 1))\n",
      "((0, 0), (0, 1))\n",
      "((2, 0), (2, 1))\n",
      "((1, 0), (3, 0))\n",
      "\n",
      "Results in: 35.22901797294617 seconds\n"
     ]
    }
   ],
   "source": [
    "board, moves = initialState(2)\n",
    "\n",
    "start = time()\n",
    "\n",
    "result = BFS(board)\n",
    "\n",
    "end = time()\n",
    "\n",
    "path = []\n",
    "while result.parents != []:\n",
    "    path.append(result.parents[0].data)\n",
    "    result = result.parents[0].fromNode\n",
    "\n",
    "print(\"Moves:\")\n",
    "for move in path[::-1]:\n",
    "    print(move)\n",
    "\n",
    "print(\"\\nResults in: \"+str(end-start)+\" seconds\")\n",
    "bfs_times.append(end-start)"
   ]
  },
  {
   "cell_type": "markdown",
   "metadata": {},
   "source": [
    "###### level 3"
   ]
  },
  {
   "cell_type": "code",
   "execution_count": 41,
   "metadata": {},
   "outputs": [
    {
     "name": "stdout",
     "output_type": "stream",
     "text": [
      "Moves:\n",
      "( Deal )\n",
      "((0, 2), (0, 3))\n",
      "((0, 1), (0, 4))\n",
      "((0, 0), (0, 5))\n",
      "((1, 2), (1, 3))\n",
      "((1, 1), (1, 4))\n",
      "((1, 0), (1, 5))\n",
      "((2, 2), (2, 3))\n",
      "((2, 1), (2, 4))\n",
      "((2, 0), (2, 5))\n",
      "((3, 2), (3, 3))\n",
      "((3, 1), (3, 2))\n",
      "((3, 0), (3, 1))\n",
      "\n",
      "Results in: 0.674248218536377 seconds\n"
     ]
    }
   ],
   "source": [
    "board, moves = initialState(3)\n",
    "\n",
    "start = time()\n",
    "\n",
    "result = BFS(board)\n",
    "\n",
    "end = time()\n",
    "\n",
    "path = []\n",
    "while result.parents != []:\n",
    "    path.append(result.parents[0].data)\n",
    "    result = result.parents[0].fromNode\n",
    "\n",
    "print(\"Moves:\")\n",
    "for move in path[::-1]:\n",
    "    print(move)\n",
    "\n",
    "print(\"\\nResults in: \"+str(end-start)+\" seconds\")\n",
    "bfs_times.append(end-start)"
   ]
  },
  {
   "cell_type": "markdown",
   "metadata": {},
   "source": [
    "## DFS - Depth-first Search"
   ]
  },
  {
   "cell_type": "code",
   "execution_count": null,
   "metadata": {},
   "outputs": [],
   "source": [
    "def DFS(board, depth):\n",
    "    node = Node(board, elementsLeft(board))\n",
    "\n",
    "    if depth == 0:\n",
    "        return node\n",
    "\n",
    "    visited = []\n",
    "    for i, line in enumerate(board):\n",
    "        for j, number in enumerate(line):\n",
    "            for move in getPossibleMoves((j,i), board):\n",
    "\n",
    "                if ((j,i),move) in visited:\n",
    "                    continue\n",
    "\n",
    "                visited.append((move,(j,i)))\n",
    "                newBoard = [l[:] for l in board]\n",
    "                newBoard = removePiece((j,i),move, newBoard)\n",
    "                edge = Edge(1, buildTree(newBoard, depth - 1))\n",
    "                node.add_edge(edge)\n",
    "\n",
    "    newBoard = [l[:] for l in board]\n",
    "    edge = Edge(countElements(newBoard), buildTree(deal(newBoard), depth - 1))\n",
    "    node.add_edge(edge)\n",
    "\n",
    "    return node"
   ]
  }
 ],
 "metadata": {
  "kernelspec": {
   "display_name": "Python 3",
   "language": "python",
   "name": "python3"
  },
  "language_info": {
   "codemirror_mode": {
    "name": "ipython",
    "version": 3
   },
   "file_extension": ".py",
   "mimetype": "text/x-python",
   "name": "python",
   "nbconvert_exporter": "python",
   "pygments_lexer": "ipython3",
   "version": "3.7.10"
  }
 },
 "nbformat": 4,
 "nbformat_minor": 2
}
